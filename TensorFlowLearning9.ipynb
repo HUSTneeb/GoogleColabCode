{
  "nbformat": 4,
  "nbformat_minor": 0,
  "metadata": {
    "colab": {
      "name": "TensorFlowLearning9.ipynb",
      "version": "0.3.2",
      "provenance": [],
      "include_colab_link": true
    },
    "kernelspec": {
      "name": "python3",
      "display_name": "Python 3"
    }
  },
  "cells": [
    {
      "cell_type": "markdown",
      "metadata": {
        "id": "view-in-github",
        "colab_type": "text"
      },
      "source": [
        "[View in Colaboratory](https://colab.research.google.com/github/HUSTneeb/GoogleColabCode/blob/master/TensorFlowLearning9.ipynb)"
      ]
    },
    {
      "metadata": {
        "id": "5rdCJNNHBjDx",
        "colab_type": "code",
        "colab": {}
      },
      "cell_type": "code",
      "source": [
        "import tensorflow as tf\n",
        "tfe=tf.contrib.eager\n",
        "tf.enable_eager_execution()"
      ],
      "execution_count": 0,
      "outputs": []
    },
    {
      "metadata": {
        "id": "rfQxy5C9BwK-",
        "colab_type": "code",
        "colab": {}
      },
      "cell_type": "code",
      "source": [
        "layer=tf.keras.layers.Dense(100)\n",
        "layer=tf.keras.layers.Dense(10,input_shape=(None,5))"
      ],
      "execution_count": 0,
      "outputs": []
    },
    {
      "metadata": {
        "id": "kAQMZwbwD2ZK",
        "colab_type": "code",
        "colab": {
          "base_uri": "https://localhost:8080/",
          "height": 489
        },
        "outputId": "02aed685-4c49-4480-801f-a9d9e1a1f5e8"
      },
      "cell_type": "code",
      "source": [
        "class MyDenseLayer(tf.keras.layers.Layer):\n",
        "  def __init__(self,num_outputs):\n",
        "    super(MyDenseLayer,self).__init__()\n",
        "    self.num_outputs=num_outputs\n",
        "    \n",
        "  def build(self,input_shape):\n",
        "    self.kernel=self.add_variable(\"kernel\",\n",
        "                                shape=[input_shape[-1].value,self.num_outputs])\n",
        "    \n",
        "  def call(self,input):\n",
        "    return tf.matmul(input,self.kernel)\n",
        "  \n",
        "layer=MyDenseLayer(10)\n",
        "print(layer(tf.zeros([10,5])))\n",
        "print('\\n')\n",
        "print(layer.variables)"
      ],
      "execution_count": 9,
      "outputs": [
        {
          "output_type": "stream",
          "text": [
            "tf.Tensor(\n",
            "[[0. 0. 0. 0. 0. 0. 0. 0. 0. 0.]\n",
            " [0. 0. 0. 0. 0. 0. 0. 0. 0. 0.]\n",
            " [0. 0. 0. 0. 0. 0. 0. 0. 0. 0.]\n",
            " [0. 0. 0. 0. 0. 0. 0. 0. 0. 0.]\n",
            " [0. 0. 0. 0. 0. 0. 0. 0. 0. 0.]\n",
            " [0. 0. 0. 0. 0. 0. 0. 0. 0. 0.]\n",
            " [0. 0. 0. 0. 0. 0. 0. 0. 0. 0.]\n",
            " [0. 0. 0. 0. 0. 0. 0. 0. 0. 0.]\n",
            " [0. 0. 0. 0. 0. 0. 0. 0. 0. 0.]\n",
            " [0. 0. 0. 0. 0. 0. 0. 0. 0. 0.]], shape=(10, 10), dtype=float32)\n",
            "\n",
            "\n",
            "[<tf.Variable 'my_dense_layer_4/kernel:0' shape=(5, 10) dtype=float32, numpy=\n",
            "array([[-0.20175844, -0.24054247,  0.26149762,  0.12034768,  0.37843865,\n",
            "         0.57949823, -0.30296496,  0.53803605,  0.37135237, -0.5350679 ],\n",
            "       [-0.49130076,  0.54016906,  0.5828422 , -0.13097697,  0.00532722,\n",
            "         0.32073742,  0.30109167, -0.00188756,  0.33700758,  0.21858138],\n",
            "       [-0.4162367 , -0.5903938 ,  0.53521806,  0.51655763,  0.06300515,\n",
            "        -0.49674952, -0.4069342 , -0.28182837, -0.57391435, -0.20518136],\n",
            "       [-0.13089114, -0.5641146 ,  0.51912385,  0.4793226 ,  0.12487543,\n",
            "         0.54704195, -0.28550446, -0.15087435, -0.24253002,  0.593558  ],\n",
            "       [-0.30912876,  0.32954574, -0.1554698 ,  0.45731026, -0.4375886 ,\n",
            "         0.55126935, -0.55897146, -0.45355627, -0.4364687 , -0.5203905 ]],\n",
            "      dtype=float32)>]\n"
          ],
          "name": "stdout"
        }
      ]
    },
    {
      "metadata": {
        "id": "05ElSjxJWh8-",
        "colab_type": "code",
        "colab": {
          "base_uri": "https://localhost:8080/",
          "height": 207
        },
        "outputId": "1d6b9a29-7303-4428-e608-4dcfe2b15414"
      },
      "cell_type": "code",
      "source": [
        "class ResnetIdentityBlock(tf.keras.Model):\n",
        "  def __init__(self,kernel_size,filters):\n",
        "    super(ResnetIdentityBlock,self).__init__(name='')\n",
        "    filters1,filters2,filters3=filters\n",
        "    \n",
        "    self.conv2a=tf.keras.layers.Conv2D(filters1,(1,1))\n",
        "    self.bn2a=tf.keras.layers.BatchNormalization()\n",
        "    \n",
        "    self.conv2b=tf.keras.layers.Conv2D(filters2,kernel_size,padding='same')\n",
        "    self.bn2b=tf.keras.layers.BatchNormalization()\n",
        "    \n",
        "    self.conv2c=tf.keras.layers.Conv2D(filters3,(1,1))\n",
        "    self.bn2c=tf.keras.layers.BatchNormalization()\n",
        "    \n",
        "  def call(self,input_tensor,training=False):\n",
        "    x=self.conv2a(input_tensor)\n",
        "    x=self.bn2a(x,training=training)\n",
        "    x=tf.nn.relu(x)\n",
        "    \n",
        "    x=self.conv2b(x)\n",
        "    x=self.bn2b(x,training=training)\n",
        "    x=tf.nn.relu(x)\n",
        "    \n",
        "    x=self.conv2c(x)\n",
        "    x=self.bn2c(x,training=training)\n",
        "    \n",
        "    x+=input_tensor\n",
        "    return tf.nn.relu(x)\n",
        "  \n",
        "block=ResnetIdentityBlock(1,[1,2,3])\n",
        "print(block(tf.zeros([1,2,3,3])))\n",
        "print([x.name for x in block.variables])\n",
        "  \n",
        "    "
      ],
      "execution_count": 13,
      "outputs": [
        {
          "output_type": "stream",
          "text": [
            "tf.Tensor(\n",
            "[[[[0. 0. 0.]\n",
            "   [0. 0. 0.]\n",
            "   [0. 0. 0.]]\n",
            "\n",
            "  [[0. 0. 0.]\n",
            "   [0. 0. 0.]\n",
            "   [0. 0. 0.]]]], shape=(1, 2, 3, 3), dtype=float32)\n",
            "['resnet_identity_block_3/conv2d_9/kernel:0', 'resnet_identity_block_3/conv2d_9/bias:0', 'resnet_identity_block_3/batch_normalization_9/gamma:0', 'resnet_identity_block_3/batch_normalization_9/beta:0', 'resnet_identity_block_3/conv2d_10/kernel:0', 'resnet_identity_block_3/conv2d_10/bias:0', 'resnet_identity_block_3/batch_normalization_10/gamma:0', 'resnet_identity_block_3/batch_normalization_10/beta:0', 'resnet_identity_block_3/conv2d_11/kernel:0', 'resnet_identity_block_3/conv2d_11/bias:0', 'resnet_identity_block_3/batch_normalization_11/gamma:0', 'resnet_identity_block_3/batch_normalization_11/beta:0', 'resnet_identity_block_3/batch_normalization_9/moving_mean:0', 'resnet_identity_block_3/batch_normalization_9/moving_variance:0', 'resnet_identity_block_3/batch_normalization_10/moving_mean:0', 'resnet_identity_block_3/batch_normalization_10/moving_variance:0', 'resnet_identity_block_3/batch_normalization_11/moving_mean:0', 'resnet_identity_block_3/batch_normalization_11/moving_variance:0']\n"
          ],
          "name": "stdout"
        }
      ]
    },
    {
      "metadata": {
        "id": "UgQLTDgrczjh",
        "colab_type": "code",
        "colab": {
          "base_uri": "https://localhost:8080/",
          "height": 168
        },
        "outputId": "0d1fbebf-6640-4b13-d7ab-03dee802d584"
      },
      "cell_type": "code",
      "source": [
        "myseq=tf.keras.Sequential([tf.keras.layers.Conv2D(1,(1,1)),\n",
        "                          tf.keras.layers.BatchNormalization(),\n",
        "                          tf.keras.layers.Conv2D(2,1,padding='same'),\n",
        "                          tf.keras.layers.BatchNormalization(),\n",
        "                          tf.keras.layers.Conv2D(3,(1,1)),\n",
        "                          tf.keras.layers.BatchNormalization()])\n",
        "myseq(tf.zeros([1,2,3,3]))"
      ],
      "execution_count": 14,
      "outputs": [
        {
          "output_type": "execute_result",
          "data": {
            "text/plain": [
              "<tf.Tensor: id=751, shape=(1, 2, 3, 3), dtype=float32, numpy=\n",
              "array([[[[0., 0., 0.],\n",
              "         [0., 0., 0.],\n",
              "         [0., 0., 0.]],\n",
              "\n",
              "        [[0., 0., 0.],\n",
              "         [0., 0., 0.],\n",
              "         [0., 0., 0.]]]], dtype=float32)>"
            ]
          },
          "metadata": {
            "tags": []
          },
          "execution_count": 14
        }
      ]
    },
    {
      "metadata": {
        "id": "Y2iPDlk1e8zI",
        "colab_type": "code",
        "colab": {}
      },
      "cell_type": "code",
      "source": [
        ""
      ],
      "execution_count": 0,
      "outputs": []
    }
  ]
}