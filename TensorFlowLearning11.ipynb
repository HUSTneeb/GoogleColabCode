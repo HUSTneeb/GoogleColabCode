{
  "nbformat": 4,
  "nbformat_minor": 0,
  "metadata": {
    "colab": {
      "name": "TensorFlowLearning11.ipynb",
      "version": "0.3.2",
      "provenance": [],
      "include_colab_link": true
    },
    "kernelspec": {
      "name": "python3",
      "display_name": "Python 3"
    }
  },
  "cells": [
    {
      "cell_type": "markdown",
      "metadata": {
        "id": "view-in-github",
        "colab_type": "text"
      },
      "source": [
        "[![Open In Colab](https://colab.research.google.com/assets/colab-badge.svg)](https://colab.research.google.com/github/HUSTneeb/GoogleColabCode/blob/master/TensorFlowLearning11.ipynb)"
      ]
    },
    {
      "metadata": {
        "id": "LqLnfQFtgG8w",
        "colab_type": "code",
        "colab": {}
      },
      "cell_type": "code",
      "source": [
        "import tensorflow as tf\n",
        "import tensorflow.feature_column as fc\n",
        "\n",
        "import os\n",
        "import sys\n",
        "\n",
        "import matplotlib.pyplot as plt\n",
        "from IPython.display import clear_output\n",
        "\n",
        "tf.enable_eager_execution()"
      ],
      "execution_count": 0,
      "outputs": []
    },
    {
      "metadata": {
        "id": "Clzt4rjQgfcW",
        "colab_type": "code",
        "outputId": "38a7155b-5e98-42bd-a2f4-2224048df72a",
        "colab": {
          "base_uri": "https://localhost:8080/",
          "height": 36
        }
      },
      "cell_type": "code",
      "source": [
        "!pip install -q requests\n",
        "!git clone --depth 1 http://github.com/tensorflow/models"
      ],
      "execution_count": 4,
      "outputs": [
        {
          "output_type": "stream",
          "text": [
            "fatal: destination path 'models' already exists and is not an empty directory.\n"
          ],
          "name": "stdout"
        }
      ]
    },
    {
      "metadata": {
        "id": "DGBDmn94gxtQ",
        "colab_type": "code",
        "colab": {}
      },
      "cell_type": "code",
      "source": [
        "models_path=os.path.join(os.getcwd(),'models')\n",
        "sys.path.append(models_path)\n",
        "\n",
        "from official.wide_deep import census_dataset\n",
        "from official.wide_deep import census_main\n",
        "\n",
        "census_dataset.download(\"/tmp/census_data/\")"
      ],
      "execution_count": 0,
      "outputs": []
    },
    {
      "metadata": {
        "id": "BmSWAnN-haRi",
        "colab_type": "code",
        "colab": {}
      },
      "cell_type": "code",
      "source": [
        "if \"PYTHONPATH\" in os.environ:\n",
        "  os.environ['PYTHONPATH'] +=os.pathsep+models_path\n",
        "else:\n",
        "  os.environ['PYTHONPATH']=models_path\n",
        "  "
      ],
      "execution_count": 0,
      "outputs": []
    },
    {
      "metadata": {
        "id": "8qpS_siniJRm",
        "colab_type": "code",
        "colab": {}
      },
      "cell_type": "code",
      "source": [
        "#!python -m official.wide_deep.census_main --help"
      ],
      "execution_count": 0,
      "outputs": []
    },
    {
      "metadata": {
        "id": "iVjnKCbPiVWm",
        "colab_type": "code",
        "outputId": "8281032b-4902-46dd-b23a-f6c0a9916e84",
        "colab": {
          "base_uri": "https://localhost:8080/",
          "height": 1980
        }
      },
      "cell_type": "code",
      "source": [
        "!python -m official.wide_deep.census_main --model_type=wide --train_epochs=2"
      ],
      "execution_count": 8,
      "outputs": [
        {
          "output_type": "stream",
          "text": [
            "I1017 03:32:06.349046 140202829473664 tf_logging.py:115] Using config: {'_model_dir': '/tmp/census_model', '_tf_random_seed': None, '_save_summary_steps': 100, '_save_checkpoints_steps': None, '_save_checkpoints_secs': 600, '_session_config': device_count {\n",
            "  key: \"GPU\"\n",
            "}\n",
            ", '_keep_checkpoint_max': 5, '_keep_checkpoint_every_n_hours': 10000, '_log_step_count_steps': 100, '_train_distribute': None, '_device_fn': None, '_protocol': None, '_eval_distribute': None, '_experimental_distribute': None, '_service': None, '_cluster_spec': <tensorflow.python.training.server_lib.ClusterSpec object at 0x7f835b0abac8>, '_task_type': 'worker', '_task_id': 0, '_global_id_in_cluster': 0, '_master': '', '_evaluation_master': '', '_is_chief': True, '_num_ps_replicas': 0, '_num_worker_replicas': 1}\n",
            "W1017 03:32:06.350315 140202829473664 tf_logging.py:120] 'cpuinfo' not imported. CPU info will not be logged.\n",
            "I1017 03:32:11.385197 140202829473664 tf_logging.py:115] Benchmark run: {'model_name': 'wide_deep', 'dataset': {'name': 'Census Income'}, 'machine_config': {'gpu_info': {'count': 0}, 'memory_total': 13655257088, 'memory_available': 12828655616}, 'test_id': None, 'run_date': '2018-10-17T03:32:06.349840Z', 'tensorflow_version': {'version': '1.11.0', 'git_hash': 'unknown'}, 'tensorflow_environment_variables': [{'name': 'TF_FORCE_GPU_ALLOW_GROWTH', 'value': 'true'}], 'run_parameters': [{'name': 'batch_size', 'long_value': 40}, {'name': 'model_type', 'string_value': 'wide'}, {'name': 'train_epochs', 'long_value': 2}]}\n",
            "I1017 03:32:11.417594 140202829473664 tf_logging.py:115] Parsing /tmp/census_data/adult.data\n",
            "I1017 03:32:11.457160 140202829473664 tf_logging.py:115] Calling model_fn.\n",
            "I1017 03:32:12.565427 140202829473664 tf_logging.py:115] Done calling model_fn.\n",
            "I1017 03:32:12.565894 140202829473664 tf_logging.py:115] Create CheckpointSaverHook.\n",
            "I1017 03:32:13.056875 140202829473664 tf_logging.py:115] Graph was finalized.\n",
            "I1017 03:32:13.065481 140202829473664 tf_logging.py:115] Restoring parameters from /tmp/census_model/model.ckpt-1629\n",
            "I1017 03:32:13.129296 140202829473664 tf_logging.py:115] Running local_init_op.\n",
            "I1017 03:32:13.145115 140202829473664 tf_logging.py:115] Done running local_init_op.\n",
            "I1017 03:32:13.778614 140202829473664 tf_logging.py:115] Saving checkpoints for 1629 into /tmp/census_model/model.ckpt.\n",
            "I1017 03:32:14.368326 140202829473664 tf_logging.py:115] average_loss = 0.29980415, loss = 11.9921665\n",
            "I1017 03:32:14.368780 140202829473664 tf_logging.py:115] loss = 11.9921665, step = 1630\n",
            "I1017 03:32:15.046742 140202829473664 tf_logging.py:115] global_step/sec: 147.325\n",
            "I1017 03:32:15.047547 140202829473664 tf_logging.py:115] average_loss = 0.35424918, loss = 14.169968 (0.679 sec)\n",
            "I1017 03:32:15.047745 140202829473664 tf_logging.py:115] loss = 14.169968, step = 1730 (0.679 sec)\n",
            "I1017 03:32:15.313025 140202829473664 tf_logging.py:115] global_step/sec: 375.572\n",
            "I1017 03:32:15.315080 140202829473664 tf_logging.py:115] average_loss = 0.21508059, loss = 8.603224 (0.268 sec)\n",
            "I1017 03:32:15.315366 140202829473664 tf_logging.py:115] loss = 8.603224, step = 1830 (0.268 sec)\n",
            "I1017 03:32:15.600015 140202829473664 tf_logging.py:115] global_step/sec: 348.431\n",
            "I1017 03:32:15.600798 140202829473664 tf_logging.py:115] average_loss = 0.20233467, loss = 8.093387 (0.286 sec)\n",
            "I1017 03:32:15.601136 140202829473664 tf_logging.py:115] loss = 8.093387, step = 1930 (0.286 sec)\n",
            "I1017 03:32:15.887806 140202829473664 tf_logging.py:115] global_step/sec: 347.408\n",
            "I1017 03:32:15.888629 140202829473664 tf_logging.py:115] average_loss = 0.32365313, loss = 12.946125 (0.288 sec)\n",
            "I1017 03:32:15.888836 140202829473664 tf_logging.py:115] loss = 12.946125, step = 2030 (0.288 sec)\n",
            "I1017 03:32:16.145500 140202829473664 tf_logging.py:115] global_step/sec: 388.045\n",
            "I1017 03:32:16.146173 140202829473664 tf_logging.py:115] average_loss = 0.2808722, loss = 11.234888 (0.258 sec)\n",
            "I1017 03:32:16.146358 140202829473664 tf_logging.py:115] loss = 11.234888, step = 2130 (0.258 sec)\n",
            "I1017 03:32:16.420045 140202829473664 tf_logging.py:115] global_step/sec: 364.328\n",
            "I1017 03:32:16.420881 140202829473664 tf_logging.py:115] average_loss = 0.3332848, loss = 13.331392 (0.275 sec)\n",
            "I1017 03:32:16.421094 140202829473664 tf_logging.py:115] loss = 13.331392, step = 2230 (0.275 sec)\n",
            "I1017 03:32:16.727887 140202829473664 tf_logging.py:115] global_step/sec: 324.816\n",
            "I1017 03:32:16.729507 140202829473664 tf_logging.py:115] average_loss = 0.37630326, loss = 15.052131 (0.309 sec)\n",
            "I1017 03:32:16.729724 140202829473664 tf_logging.py:115] loss = 15.052131, step = 2330 (0.309 sec)\n",
            "I1017 03:32:16.998627 140202829473664 tf_logging.py:115] global_step/sec: 369.312\n",
            "I1017 03:32:16.999414 140202829473664 tf_logging.py:115] average_loss = 0.26944488, loss = 10.777795 (0.270 sec)\n",
            "I1017 03:32:16.999610 140202829473664 tf_logging.py:115] loss = 10.777795, step = 2430 (0.270 sec)\n",
            "I1017 03:32:17.324001 140202829473664 tf_logging.py:115] global_step/sec: 307.381\n",
            "I1017 03:32:17.324717 140202829473664 tf_logging.py:115] average_loss = 0.34371057, loss = 13.748423 (0.325 sec)\n",
            "I1017 03:32:17.325037 140202829473664 tf_logging.py:115] loss = 13.748423, step = 2530 (0.325 sec)\n",
            "I1017 03:32:17.606490 140202829473664 tf_logging.py:115] global_step/sec: 353.946\n",
            "I1017 03:32:17.607205 140202829473664 tf_logging.py:115] average_loss = 0.38778085, loss = 15.511234 (0.282 sec)\n",
            "I1017 03:32:17.607397 140202829473664 tf_logging.py:115] loss = 15.511234, step = 2630 (0.282 sec)\n",
            "I1017 03:32:17.880403 140202829473664 tf_logging.py:115] global_step/sec: 365.072\n",
            "I1017 03:32:17.881189 140202829473664 tf_logging.py:115] average_loss = 0.27714047, loss = 11.085619 (0.274 sec)\n",
            "I1017 03:32:17.881401 140202829473664 tf_logging.py:115] loss = 11.085619, step = 2730 (0.274 sec)\n",
            "I1017 03:32:18.152949 140202829473664 tf_logging.py:115] global_step/sec: 366.964\n",
            "I1017 03:32:18.153765 140202829473664 tf_logging.py:115] average_loss = 0.34144118, loss = 13.657647 (0.273 sec)\n",
            "I1017 03:32:18.154078 140202829473664 tf_logging.py:115] loss = 13.657647, step = 2830 (0.273 sec)\n",
            "I1017 03:32:18.428472 140202829473664 tf_logging.py:115] global_step/sec: 362.938\n",
            "I1017 03:32:18.429262 140202829473664 tf_logging.py:115] average_loss = 0.26756328, loss = 10.702531 (0.276 sec)\n",
            "I1017 03:32:18.429480 140202829473664 tf_logging.py:115] loss = 10.702531, step = 2930 (0.275 sec)\n",
            "I1017 03:32:18.711474 140202829473664 tf_logging.py:115] global_step/sec: 353.335\n",
            "I1017 03:32:18.712266 140202829473664 tf_logging.py:115] average_loss = 0.35715762, loss = 14.286304 (0.283 sec)\n",
            "I1017 03:32:18.712476 140202829473664 tf_logging.py:115] loss = 14.286304, step = 3030 (0.283 sec)\n",
            "I1017 03:32:18.985795 140202829473664 tf_logging.py:115] global_step/sec: 364.55\n",
            "I1017 03:32:18.986575 140202829473664 tf_logging.py:115] average_loss = 0.31739467, loss = 12.695787 (0.274 sec)\n",
            "I1017 03:32:18.986780 140202829473664 tf_logging.py:115] loss = 12.695787, step = 3130 (0.274 sec)\n",
            "I1017 03:32:19.248164 140202829473664 tf_logging.py:115] global_step/sec: 381.111\n",
            "I1017 03:32:19.248823 140202829473664 tf_logging.py:115] average_loss = 0.20347622, loss = 8.139049 (0.262 sec)\n",
            "I1017 03:32:19.249046 140202829473664 tf_logging.py:115] loss = 8.139049, step = 3230 (0.262 sec)\n",
            "I1017 03:32:19.322160 140202829473664 tf_logging.py:115] Saving checkpoints for 3258 into /tmp/census_model/model.ckpt.\n",
            "I1017 03:32:19.493934 140202829473664 tf_logging.py:115] Loss for final step: 0.33384958.\n",
            "I1017 03:32:19.503539 140202829473664 tf_logging.py:115] Parsing /tmp/census_data/adult.test\n",
            "I1017 03:32:19.529633 140202829473664 tf_logging.py:115] Calling model_fn.\n",
            "W1017 03:32:20.664832 140202829473664 tf_logging.py:125] Trapezoidal rule is known to produce incorrect PR-AUCs; please switch to \"careful_interpolation\" instead.\n",
            "W1017 03:32:20.684984 140202829473664 tf_logging.py:125] Trapezoidal rule is known to produce incorrect PR-AUCs; please switch to \"careful_interpolation\" instead.\n",
            "I1017 03:32:20.704710 140202829473664 tf_logging.py:115] Done calling model_fn.\n",
            "I1017 03:32:20.725107 140202829473664 tf_logging.py:115] Starting evaluation at 2018-10-17-03:32:20\n",
            "I1017 03:32:20.856649 140202829473664 tf_logging.py:115] Graph was finalized.\n",
            "I1017 03:32:20.858488 140202829473664 tf_logging.py:115] Restoring parameters from /tmp/census_model/model.ckpt-3258\n",
            "I1017 03:32:20.943020 140202829473664 tf_logging.py:115] Running local_init_op.\n",
            "I1017 03:32:20.982521 140202829473664 tf_logging.py:115] Done running local_init_op.\n",
            "I1017 03:32:23.037017 140202829473664 tf_logging.py:115] Finished evaluation at 2018-10-17-03:32:23\n",
            "I1017 03:32:23.037345 140202829473664 tf_logging.py:115] Saving dict for global step 3258: accuracy = 0.83508384, accuracy_baseline = 0.76377374, auc = 0.88310635, auc_precision_recall = 0.6936369, average_loss = 0.3525738, global_step = 3258, label/mean = 0.23622628, loss = 14.069251, precision = 0.6790009, prediction/mean = 0.24386284, recall = 0.5725429\n",
            "I1017 03:32:23.369326 140202829473664 tf_logging.py:115] Saving 'checkpoint_path' summary for global step 3258: /tmp/census_model/model.ckpt-3258\n",
            "I1017 03:32:23.370017 140202829473664 tf_logging.py:115] Results at epoch 2 / 2\n",
            "I1017 03:32:23.370141 140202829473664 tf_logging.py:115] ------------------------------------------------------------\n",
            "I1017 03:32:23.370225 140202829473664 tf_logging.py:115] accuracy: 0.83508384\n",
            "I1017 03:32:23.370291 140202829473664 tf_logging.py:115] accuracy_baseline: 0.76377374\n",
            "I1017 03:32:23.370357 140202829473664 tf_logging.py:115] auc: 0.88310635\n",
            "I1017 03:32:23.370436 140202829473664 tf_logging.py:115] auc_precision_recall: 0.6936369\n",
            "I1017 03:32:23.370504 140202829473664 tf_logging.py:115] average_loss: 0.3525738\n",
            "I1017 03:32:23.370577 140202829473664 tf_logging.py:115] global_step: 3258\n",
            "I1017 03:32:23.370641 140202829473664 tf_logging.py:115] label/mean: 0.23622628\n",
            "I1017 03:32:23.370706 140202829473664 tf_logging.py:115] loss: 14.069251\n",
            "I1017 03:32:23.370769 140202829473664 tf_logging.py:115] precision: 0.6790009\n",
            "I1017 03:32:23.370831 140202829473664 tf_logging.py:115] prediction/mean: 0.24386284\n",
            "I1017 03:32:23.370912 140202829473664 tf_logging.py:115] recall: 0.5725429\n",
            "I1017 03:32:23.371082 140202829473664 tf_logging.py:115] Benchmark metric: {'name': 'accuracy', 'value': 0.8350838422775269, 'unit': None, 'global_step': 3258, 'timestamp': '2018-10-17T03:32:23.371044Z', 'extras': []}\n",
            "I1017 03:32:23.371196 140202829473664 tf_logging.py:115] Benchmark metric: {'name': 'accuracy_baseline', 'value': 0.7637737393379211, 'unit': None, 'global_step': 3258, 'timestamp': '2018-10-17T03:32:23.371175Z', 'extras': []}\n",
            "I1017 03:32:23.371296 140202829473664 tf_logging.py:115] Benchmark metric: {'name': 'auc', 'value': 0.8831063508987427, 'unit': None, 'global_step': 3258, 'timestamp': '2018-10-17T03:32:23.371278Z', 'extras': []}\n",
            "I1017 03:32:23.371389 140202829473664 tf_logging.py:115] Benchmark metric: {'name': 'auc_precision_recall', 'value': 0.6936368942260742, 'unit': None, 'global_step': 3258, 'timestamp': '2018-10-17T03:32:23.371372Z', 'extras': []}\n",
            "I1017 03:32:23.371495 140202829473664 tf_logging.py:115] Benchmark metric: {'name': 'average_loss', 'value': 0.35257381200790405, 'unit': None, 'global_step': 3258, 'timestamp': '2018-10-17T03:32:23.371477Z', 'extras': []}\n",
            "I1017 03:32:23.371587 140202829473664 tf_logging.py:115] Benchmark metric: {'name': 'label/mean', 'value': 0.23622627556324005, 'unit': None, 'global_step': 3258, 'timestamp': '2018-10-17T03:32:23.371570Z', 'extras': []}\n",
            "I1017 03:32:23.371691 140202829473664 tf_logging.py:115] Benchmark metric: {'name': 'loss', 'value': 14.06925106048584, 'unit': None, 'global_step': 3258, 'timestamp': '2018-10-17T03:32:23.371670Z', 'extras': []}\n",
            "I1017 03:32:23.371788 140202829473664 tf_logging.py:115] Benchmark metric: {'name': 'precision', 'value': 0.6790009140968323, 'unit': None, 'global_step': 3258, 'timestamp': '2018-10-17T03:32:23.371771Z', 'extras': []}\n",
            "I1017 03:32:23.371894 140202829473664 tf_logging.py:115] Benchmark metric: {'name': 'prediction/mean', 'value': 0.2438628375530243, 'unit': None, 'global_step': 3258, 'timestamp': '2018-10-17T03:32:23.371877Z', 'extras': []}\n",
            "I1017 03:32:23.371987 140202829473664 tf_logging.py:115] Benchmark metric: {'name': 'recall', 'value': 0.5725429058074951, 'unit': None, 'global_step': 3258, 'timestamp': '2018-10-17T03:32:23.371970Z', 'extras': []}\n"
          ],
          "name": "stdout"
        }
      ]
    },
    {
      "metadata": {
        "id": "ImfDrfpnjR0L",
        "colab_type": "code",
        "outputId": "713f7050-a77e-46ed-ea58-707672f65a1a",
        "colab": {
          "base_uri": "https://localhost:8080/",
          "height": 36
        }
      },
      "cell_type": "code",
      "source": [
        "!ls /tmp/census_data/"
      ],
      "execution_count": 9,
      "outputs": [
        {
          "output_type": "stream",
          "text": [
            "adult.data  adult.test\n"
          ],
          "name": "stdout"
        }
      ]
    },
    {
      "metadata": {
        "id": "MDvtl53Bkc9w",
        "colab_type": "code",
        "outputId": "fd1e4ec6-aa06-4da1-b541-e13635f876c7",
        "colab": {
          "base_uri": "https://localhost:8080/",
          "height": 296
        }
      },
      "cell_type": "code",
      "source": [
        "train_file=\"/tmp/census_data/adult.data\"\n",
        "test_file='/tmp/census_data/adult.test'\n",
        "\n",
        "import pandas\n",
        "\n",
        "train_df =pandas.read_csv(train_file,header=None,names=census_dataset._CSV_COLUMNS)\n",
        "test_df=pandas.read_csv(test_file,header=None,names=census_dataset._CSV_COLUMNS)\n",
        "\n",
        "train_df.head()"
      ],
      "execution_count": 10,
      "outputs": [
        {
          "output_type": "execute_result",
          "data": {
            "text/html": [
              "<div>\n",
              "<style scoped>\n",
              "    .dataframe tbody tr th:only-of-type {\n",
              "        vertical-align: middle;\n",
              "    }\n",
              "\n",
              "    .dataframe tbody tr th {\n",
              "        vertical-align: top;\n",
              "    }\n",
              "\n",
              "    .dataframe thead th {\n",
              "        text-align: right;\n",
              "    }\n",
              "</style>\n",
              "<table border=\"1\" class=\"dataframe\">\n",
              "  <thead>\n",
              "    <tr style=\"text-align: right;\">\n",
              "      <th></th>\n",
              "      <th>age</th>\n",
              "      <th>workclass</th>\n",
              "      <th>fnlwgt</th>\n",
              "      <th>education</th>\n",
              "      <th>education_num</th>\n",
              "      <th>marital_status</th>\n",
              "      <th>occupation</th>\n",
              "      <th>relationship</th>\n",
              "      <th>race</th>\n",
              "      <th>gender</th>\n",
              "      <th>capital_gain</th>\n",
              "      <th>capital_loss</th>\n",
              "      <th>hours_per_week</th>\n",
              "      <th>native_country</th>\n",
              "      <th>income_bracket</th>\n",
              "    </tr>\n",
              "  </thead>\n",
              "  <tbody>\n",
              "    <tr>\n",
              "      <th>0</th>\n",
              "      <td>39</td>\n",
              "      <td>State-gov</td>\n",
              "      <td>77516</td>\n",
              "      <td>Bachelors</td>\n",
              "      <td>13</td>\n",
              "      <td>Never-married</td>\n",
              "      <td>Adm-clerical</td>\n",
              "      <td>Not-in-family</td>\n",
              "      <td>White</td>\n",
              "      <td>Male</td>\n",
              "      <td>2174</td>\n",
              "      <td>0</td>\n",
              "      <td>40</td>\n",
              "      <td>United-States</td>\n",
              "      <td>&lt;=50K</td>\n",
              "    </tr>\n",
              "    <tr>\n",
              "      <th>1</th>\n",
              "      <td>50</td>\n",
              "      <td>Self-emp-not-inc</td>\n",
              "      <td>83311</td>\n",
              "      <td>Bachelors</td>\n",
              "      <td>13</td>\n",
              "      <td>Married-civ-spouse</td>\n",
              "      <td>Exec-managerial</td>\n",
              "      <td>Husband</td>\n",
              "      <td>White</td>\n",
              "      <td>Male</td>\n",
              "      <td>0</td>\n",
              "      <td>0</td>\n",
              "      <td>13</td>\n",
              "      <td>United-States</td>\n",
              "      <td>&lt;=50K</td>\n",
              "    </tr>\n",
              "    <tr>\n",
              "      <th>2</th>\n",
              "      <td>38</td>\n",
              "      <td>Private</td>\n",
              "      <td>215646</td>\n",
              "      <td>HS-grad</td>\n",
              "      <td>9</td>\n",
              "      <td>Divorced</td>\n",
              "      <td>Handlers-cleaners</td>\n",
              "      <td>Not-in-family</td>\n",
              "      <td>White</td>\n",
              "      <td>Male</td>\n",
              "      <td>0</td>\n",
              "      <td>0</td>\n",
              "      <td>40</td>\n",
              "      <td>United-States</td>\n",
              "      <td>&lt;=50K</td>\n",
              "    </tr>\n",
              "    <tr>\n",
              "      <th>3</th>\n",
              "      <td>53</td>\n",
              "      <td>Private</td>\n",
              "      <td>234721</td>\n",
              "      <td>11th</td>\n",
              "      <td>7</td>\n",
              "      <td>Married-civ-spouse</td>\n",
              "      <td>Handlers-cleaners</td>\n",
              "      <td>Husband</td>\n",
              "      <td>Black</td>\n",
              "      <td>Male</td>\n",
              "      <td>0</td>\n",
              "      <td>0</td>\n",
              "      <td>40</td>\n",
              "      <td>United-States</td>\n",
              "      <td>&lt;=50K</td>\n",
              "    </tr>\n",
              "    <tr>\n",
              "      <th>4</th>\n",
              "      <td>28</td>\n",
              "      <td>Private</td>\n",
              "      <td>338409</td>\n",
              "      <td>Bachelors</td>\n",
              "      <td>13</td>\n",
              "      <td>Married-civ-spouse</td>\n",
              "      <td>Prof-specialty</td>\n",
              "      <td>Wife</td>\n",
              "      <td>Black</td>\n",
              "      <td>Female</td>\n",
              "      <td>0</td>\n",
              "      <td>0</td>\n",
              "      <td>40</td>\n",
              "      <td>Cuba</td>\n",
              "      <td>&lt;=50K</td>\n",
              "    </tr>\n",
              "  </tbody>\n",
              "</table>\n",
              "</div>"
            ],
            "text/plain": [
              "   age         workclass  fnlwgt  education  education_num  \\\n",
              "0   39         State-gov   77516  Bachelors             13   \n",
              "1   50  Self-emp-not-inc   83311  Bachelors             13   \n",
              "2   38           Private  215646    HS-grad              9   \n",
              "3   53           Private  234721       11th              7   \n",
              "4   28           Private  338409  Bachelors             13   \n",
              "\n",
              "       marital_status         occupation   relationship   race  gender  \\\n",
              "0       Never-married       Adm-clerical  Not-in-family  White    Male   \n",
              "1  Married-civ-spouse    Exec-managerial        Husband  White    Male   \n",
              "2            Divorced  Handlers-cleaners  Not-in-family  White    Male   \n",
              "3  Married-civ-spouse  Handlers-cleaners        Husband  Black    Male   \n",
              "4  Married-civ-spouse     Prof-specialty           Wife  Black  Female   \n",
              "\n",
              "   capital_gain  capital_loss  hours_per_week native_country income_bracket  \n",
              "0          2174             0              40  United-States          <=50K  \n",
              "1             0             0              13  United-States          <=50K  \n",
              "2             0             0              40  United-States          <=50K  \n",
              "3             0             0              40  United-States          <=50K  \n",
              "4             0             0              40           Cuba          <=50K  "
            ]
          },
          "metadata": {
            "tags": []
          },
          "execution_count": 10
        }
      ]
    },
    {
      "metadata": {
        "id": "KnyFfzkdnD5n",
        "colab_type": "code",
        "colab": {
          "base_uri": "https://localhost:8080/",
          "height": 149
        },
        "outputId": "aac63839-354c-4c03-a0ba-55b2c0734999"
      },
      "cell_type": "code",
      "source": [
        "def easy_input_function(df,label_key,num_epochs,shuffle,batch_size):\n",
        "  label=df[label_key]\n",
        "  ds=tf.data.Dataset.from_tensor_slices((dict(df),label))\n",
        "  \n",
        "  if shuffle:\n",
        "    ds=ds.shuffle(10000)\n",
        "    \n",
        "  ds=ds.batch(batch_size).repeat(num_epochs)\n",
        "  \n",
        "  return ds\n",
        "\n",
        "ds=easy_input_function(train_df,label_key='income_bracket',num_epochs=5,shuffle=True,batch_size=10)\n",
        "\n",
        "for feature_batch,label_batch in ds.take(1):\n",
        "  print('Some featrue keys: ',list(feature_batch.keys())[:5])\n",
        "  print()\n",
        "  print('A batch of Ages:',feature_batch['age'])\n",
        "  print()\n",
        "  print('A batch of Labels:',label_batch)"
      ],
      "execution_count": 11,
      "outputs": [
        {
          "output_type": "stream",
          "text": [
            "Some featrue keys:  ['age', 'workclass', 'fnlwgt', 'education', 'education_num']\n",
            "\n",
            "A batch of Ages: tf.Tensor([18 48 32 30 35 29 28 62 45 23], shape=(10,), dtype=int32)\n",
            "\n",
            "A batch of Labels: tf.Tensor(\n",
            "[b'<=50K' b'>50K' b'<=50K' b'<=50K' b'>50K' b'<=50K' b'<=50K' b'>50K'\n",
            " b'>50K' b'<=50K'], shape=(10,), dtype=string)\n"
          ],
          "name": "stdout"
        }
      ]
    },
    {
      "metadata": {
        "id": "sX8GYu3sEmP9",
        "colab_type": "code",
        "colab": {
          "base_uri": "https://localhost:8080/",
          "height": 545
        },
        "outputId": "a8ddacec-94cd-42fc-94db-9961a3426412"
      },
      "cell_type": "code",
      "source": [
        "import inspect\n",
        "print(inspect.getsource(census_dataset.input_fn))"
      ],
      "execution_count": 12,
      "outputs": [
        {
          "output_type": "stream",
          "text": [
            "def input_fn(data_file, num_epochs, shuffle, batch_size):\n",
            "  \"\"\"Generate an input function for the Estimator.\"\"\"\n",
            "  assert tf.gfile.Exists(data_file), (\n",
            "      '%s not found. Please make sure you have run census_dataset.py and '\n",
            "      'set the --data_dir argument to the correct path.' % data_file)\n",
            "\n",
            "  def parse_csv(value):\n",
            "    tf.logging.info('Parsing {}'.format(data_file))\n",
            "    columns = tf.decode_csv(value, record_defaults=_CSV_COLUMN_DEFAULTS)\n",
            "    features = dict(zip(_CSV_COLUMNS, columns))\n",
            "    labels = features.pop('income_bracket')\n",
            "    classes = tf.equal(labels, '>50K')  # binary classification\n",
            "    return features, classes\n",
            "\n",
            "  # Extract lines from input files using the Dataset API.\n",
            "  dataset = tf.data.TextLineDataset(data_file)\n",
            "\n",
            "  if shuffle:\n",
            "    dataset = dataset.shuffle(buffer_size=_NUM_EXAMPLES['train'])\n",
            "\n",
            "  dataset = dataset.map(parse_csv, num_parallel_calls=5)\n",
            "\n",
            "  # We call repeat after shuffling, rather than before, to prevent separate\n",
            "  # epochs from blending together.\n",
            "  dataset = dataset.repeat(num_epochs)\n",
            "  dataset = dataset.batch(batch_size)\n",
            "  return dataset\n",
            "\n"
          ],
          "name": "stdout"
        }
      ]
    },
    {
      "metadata": {
        "id": "x1ZU-wwLHVed",
        "colab_type": "code",
        "colab": {
          "base_uri": "https://localhost:8080/",
          "height": 168
        },
        "outputId": "cad653c9-dc5f-42a5-b15c-549b66dbd370"
      },
      "cell_type": "code",
      "source": [
        "ds=census_dataset.input_fn(train_file,num_epochs=5,shuffle=True,batch_size=10)\n",
        "\n",
        "for feature_batch,label_batch in ds.take(1):\n",
        "  print('Some featrue keys: ',list(feature_batch.keys())[:5])\n",
        "  print()\n",
        "  print('A batch of Ages:',feature_batch['age'])\n",
        "  print()\n",
        "  print('A batch of Labels:',label_batch)"
      ],
      "execution_count": 13,
      "outputs": [
        {
          "output_type": "stream",
          "text": [
            "INFO:tensorflow:Parsing /tmp/census_data/adult.data\n"
          ],
          "name": "stdout"
        },
        {
          "output_type": "stream",
          "text": [
            "WARNING: Logging before flag parsing goes to stderr.\n",
            "I1017 03:46:11.005810 139918343747456 tf_logging.py:115] Parsing /tmp/census_data/adult.data\n"
          ],
          "name": "stderr"
        },
        {
          "output_type": "stream",
          "text": [
            "Some featrue keys:  ['age', 'workclass', 'fnlwgt', 'education', 'education_num']\n",
            "\n",
            "A batch of Ages: tf.Tensor([25 41 38 21 48 29 19 79 23 24], shape=(10,), dtype=int32)\n",
            "\n",
            "A batch of Labels: tf.Tensor([False False False False  True False False  True False False], shape=(10,), dtype=bool)\n"
          ],
          "name": "stdout"
        }
      ]
    },
    {
      "metadata": {
        "id": "DhTbQZnvIX7M",
        "colab_type": "code",
        "colab": {}
      },
      "cell_type": "code",
      "source": [
        "import functools\n",
        "\n",
        "train_inpf=functools.partial(census_dataset.input_fn,train_file,num_epochs=2,shuffle=True,batch_size=64)\n",
        "test_inpf=functools.partial(census_dataset.input_fn,test_file,num_epochs=1,shuffle=False,batch_size=64)\n",
        "\n"
      ],
      "execution_count": 0,
      "outputs": []
    },
    {
      "metadata": {
        "id": "G60owMIuM9S8",
        "colab_type": "code",
        "colab": {
          "base_uri": "https://localhost:8080/",
          "height": 206
        },
        "outputId": "9f5622b5-bff2-48c8-ea60-3d479e454f3b"
      },
      "cell_type": "code",
      "source": [
        "age=fc.numeric_column('age')\n",
        "fc.input_layer(feature_batch,[age]).numpy()"
      ],
      "execution_count": 15,
      "outputs": [
        {
          "output_type": "execute_result",
          "data": {
            "text/plain": [
              "array([[25.],\n",
              "       [41.],\n",
              "       [38.],\n",
              "       [21.],\n",
              "       [48.],\n",
              "       [29.],\n",
              "       [19.],\n",
              "       [79.],\n",
              "       [23.],\n",
              "       [24.]], dtype=float32)"
            ]
          },
          "metadata": {
            "tags": []
          },
          "execution_count": 15
        }
      ]
    },
    {
      "metadata": {
        "id": "nP89UYnyNNYP",
        "colab_type": "code",
        "colab": {
          "base_uri": "https://localhost:8080/",
          "height": 56
        },
        "outputId": "c390bdd2-e2b1-48a3-fbf7-2efc83725807"
      },
      "cell_type": "code",
      "source": [
        "classifier=tf.estimator.LinearClassifier(feature_columns=[age])\n",
        "classifier.train(train_inpf)\n",
        "result=classifier.evaluate(test_inpf)\n",
        "\n",
        "clear_output()\n",
        "print(result)"
      ],
      "execution_count": 16,
      "outputs": [
        {
          "output_type": "stream",
          "text": [
            "{'accuracy': 0.72606105, 'accuracy_baseline': 0.76377374, 'auc': 0.6783597, 'auc_precision_recall': 0.31139234, 'average_loss': 0.53549147, 'label/mean': 0.23622628, 'loss': 34.189556, 'precision': 0.22686833, 'prediction/mean': 0.30712458, 'recall': 0.06630265, 'global_step': 1018}\n"
          ],
          "name": "stdout"
        }
      ]
    },
    {
      "metadata": {
        "id": "smmvdgUlPjQo",
        "colab_type": "code",
        "colab": {
          "base_uri": "https://localhost:8080/",
          "height": 206
        },
        "outputId": "ef8700a4-b244-4f85-ba43-29f39ad9c831"
      },
      "cell_type": "code",
      "source": [
        "education_num=tf.feature_column.numeric_column('education_num')\n",
        "capital_gain=tf.feature_column.numeric_column('capital_gain')\n",
        "capital_loss=tf.feature_column.numeric_column('capital_loss')\n",
        "hours_per_week=tf.feature_column.numeric_column('hours_per_week')\n",
        "\n",
        "my_numeric_columns=[age,education_num,capital_gain,capital_loss,hours_per_week]\n",
        "\n",
        "fc.input_layer(feature_batch,my_numeric_columns).numpy()"
      ],
      "execution_count": 17,
      "outputs": [
        {
          "output_type": "execute_result",
          "data": {
            "text/plain": [
              "array([[25.,  0.,  0., 13., 40.],\n",
              "       [41.,  0.,  0., 13., 40.],\n",
              "       [38.,  0.,  0.,  9., 48.],\n",
              "       [21.,  0.,  0., 10., 25.],\n",
              "       [48.,  0.,  0.,  9., 44.],\n",
              "       [29.,  0.,  0.,  9., 35.],\n",
              "       [19.,  0.,  0.,  9., 30.],\n",
              "       [79.,  0.,  0.,  9., 40.],\n",
              "       [23.,  0.,  0., 10., 30.],\n",
              "       [24.,  0.,  0.,  9., 25.]], dtype=float32)"
            ]
          },
          "metadata": {
            "tags": []
          },
          "execution_count": 17
        }
      ]
    },
    {
      "metadata": {
        "id": "ArgWcziMQ4cn",
        "colab_type": "code",
        "colab": {
          "base_uri": "https://localhost:8080/",
          "height": 225
        },
        "outputId": "f6f4cf3b-6c37-4148-dd89-c4f56d8f479c"
      },
      "cell_type": "code",
      "source": [
        "classifier=tf.estimator.LinearClassifier(feature_columns=my_numeric_columns)\n",
        "classifier.train(train_inpf)\n",
        "\n",
        "result=classifier.evaluate(test_inpf)\n",
        "clear_output()\n",
        "\n",
        "for key,value in sorted(result.items()):\n",
        "  print('%s:%s'%(key,value))\n",
        "  "
      ],
      "execution_count": 18,
      "outputs": [
        {
          "output_type": "stream",
          "text": [
            "accuracy:0.78250724\n",
            "accuracy_baseline:0.76377374\n",
            "auc:0.6840751\n",
            "auc_precision_recall:0.4912917\n",
            "average_loss:2.9902804\n",
            "global_step:1018\n",
            "label/mean:0.23622628\n",
            "loss:190.92061\n",
            "precision:0.61526835\n",
            "prediction/mean:0.23404077\n",
            "recall:0.21164846\n"
          ],
          "name": "stdout"
        }
      ]
    },
    {
      "metadata": {
        "id": "LfhW_ILlh3g2",
        "colab_type": "code",
        "colab": {
          "base_uri": "https://localhost:8080/",
          "height": 206
        },
        "outputId": "9d37c1ba-1c71-475d-aec5-a51d162b631a"
      },
      "cell_type": "code",
      "source": [
        "relationship=fc.categorical_column_with_vocabulary_list(\n",
        "'relationship',\n",
        "['Husband','Not-in-family','Wife','Own-child','Unmarried','Other-relative'])\n",
        "fc.input_layer(feature_batch,[age,fc.indicator_column(relationship)])\n",
        "\n",
        "occupation=tf.feature_column.categorical_column_with_hash_bucket(\n",
        "'occupation',hash_bucket_size=1000)\n",
        "\n",
        "for item in feature_batch['occupation'].numpy():\n",
        "  print(item.decode())"
      ],
      "execution_count": 20,
      "outputs": [
        {
          "output_type": "stream",
          "text": [
            "Exec-managerial\n",
            "Prof-specialty\n",
            "Machine-op-inspct\n",
            "Tech-support\n",
            "Craft-repair\n",
            "Sales\n",
            "Other-service\n",
            "Exec-managerial\n",
            "Other-service\n",
            "Handlers-cleaners\n"
          ],
          "name": "stdout"
        }
      ]
    },
    {
      "metadata": {
        "id": "Kp-Uj3eqo3vr",
        "colab_type": "code",
        "colab": {
          "base_uri": "https://localhost:8080/",
          "height": 36
        },
        "outputId": "5fd9b4da-76ff-44c7-e585-0dae0f0f64b8"
      },
      "cell_type": "code",
      "source": [
        "occupation_result=fc.input_layer(feature_batch,[fc.indicator_column(occupation)])\n",
        "occupation_result.numpy().shape"
      ],
      "execution_count": 21,
      "outputs": [
        {
          "output_type": "execute_result",
          "data": {
            "text/plain": [
              "(10, 1000)"
            ]
          },
          "metadata": {
            "tags": []
          },
          "execution_count": 21
        }
      ]
    },
    {
      "metadata": {
        "id": "9_Vn65CypkVn",
        "colab_type": "code",
        "colab": {
          "base_uri": "https://localhost:8080/",
          "height": 36
        },
        "outputId": "6b5cd882-f456-458f-eb35-6b47dad83f91"
      },
      "cell_type": "code",
      "source": [
        "tf.argmax(occupation_result,axis=1).numpy()"
      ],
      "execution_count": 22,
      "outputs": [
        {
          "output_type": "execute_result",
          "data": {
            "text/plain": [
              "array([800, 979, 911, 413, 466, 631, 527, 800, 527,  10])"
            ]
          },
          "metadata": {
            "tags": []
          },
          "execution_count": 22
        }
      ]
    },
    {
      "metadata": {
        "id": "nte6TaF5qHB_",
        "colab_type": "code",
        "colab": {}
      },
      "cell_type": "code",
      "source": [
        "education = tf.feature_column.categorical_column_with_vocabulary_list(\n",
        "    'education', [\n",
        "        'Bachelors', 'HS-grad', '11th', 'Masters', '9th', 'Some-college',\n",
        "        'Assoc-acdm', 'Assoc-voc', '7th-8th', 'Doctorate', 'Prof-school',\n",
        "        '5th-6th', '10th', '1st-4th', 'Preschool', '12th'])\n",
        "\n",
        "marital_status = tf.feature_column.categorical_column_with_vocabulary_list(\n",
        "    'marital_status', [\n",
        "        'Married-civ-spouse', 'Divorced', 'Married-spouse-absent',\n",
        "        'Never-married', 'Separated', 'Married-AF-spouse', 'Widowed'])\n",
        "\n",
        "workclass = tf.feature_column.categorical_column_with_vocabulary_list(\n",
        "    'workclass', [\n",
        "        'Self-emp-not-inc', 'Private', 'State-gov', 'Federal-gov',\n",
        "        'Local-gov', '?', 'Self-emp-inc', 'Without-pay', 'Never-worked'])"
      ],
      "execution_count": 0,
      "outputs": []
    },
    {
      "metadata": {
        "id": "1c1HpXW3t_ar",
        "colab_type": "code",
        "colab": {
          "base_uri": "https://localhost:8080/",
          "height": 225
        },
        "outputId": "bb101ce7-b08d-479f-bce4-d5c751cc4a99"
      },
      "cell_type": "code",
      "source": [
        "my_categorical_columns=[relationship,occupation,education,marital_status,workclass]\n",
        "\n",
        "classifier=tf.estimator.LinearClassifier(feature_columns=my_numeric_columns+my_categorical_columns)\n",
        "classifier.train(train_inpf)\n",
        "result=classifier.evaluate(test_inpf)\n",
        "\n",
        "clear_output()\n",
        "\n",
        "for key,value in sorted(result.items()):\n",
        "  print(key,':',value)"
      ],
      "execution_count": 25,
      "outputs": [
        {
          "output_type": "stream",
          "text": [
            "accuracy : 0.8426387\n",
            "accuracy_baseline : 0.76377374\n",
            "auc : 0.8919764\n",
            "auc_precision_recall : 0.7202214\n",
            "average_loss : 0.38773736\n",
            "global_step : 1018\n",
            "label/mean : 0.23622628\n",
            "loss : 24.75589\n",
            "precision : 0.68608695\n",
            "prediction/mean : 0.24088989\n",
            "recall : 0.6154446\n"
          ],
          "name": "stdout"
        }
      ]
    },
    {
      "metadata": {
        "id": "6g9ec-40u52i",
        "colab_type": "code",
        "colab": {
          "base_uri": "https://localhost:8080/",
          "height": 225
        },
        "outputId": "962780fd-081d-48af-9819-e1cfd4b003f1"
      },
      "cell_type": "code",
      "source": [
        "age_buckets=tf.feature_column.bucketized_column(\n",
        "age,boundaries=[18,25,30,35,40,45,50,55,60,65])\n",
        "\n",
        "fc.input_layer(feature_batch,[age,age_buckets]).numpy()"
      ],
      "execution_count": 26,
      "outputs": [
        {
          "output_type": "execute_result",
          "data": {
            "text/plain": [
              "array([[25.,  0.,  0.,  1.,  0.,  0.,  0.,  0.,  0.,  0.,  0.,  0.],\n",
              "       [41.,  0.,  0.,  0.,  0.,  0.,  1.,  0.,  0.,  0.,  0.,  0.],\n",
              "       [38.,  0.,  0.,  0.,  0.,  1.,  0.,  0.,  0.,  0.,  0.,  0.],\n",
              "       [21.,  0.,  1.,  0.,  0.,  0.,  0.,  0.,  0.,  0.,  0.,  0.],\n",
              "       [48.,  0.,  0.,  0.,  0.,  0.,  0.,  1.,  0.,  0.,  0.,  0.],\n",
              "       [29.,  0.,  0.,  1.,  0.,  0.,  0.,  0.,  0.,  0.,  0.,  0.],\n",
              "       [19.,  0.,  1.,  0.,  0.,  0.,  0.,  0.,  0.,  0.,  0.,  0.],\n",
              "       [79.,  0.,  0.,  0.,  0.,  0.,  0.,  0.,  0.,  0.,  0.,  1.],\n",
              "       [23.,  0.,  1.,  0.,  0.,  0.,  0.,  0.,  0.,  0.,  0.,  0.],\n",
              "       [24.,  0.,  1.,  0.,  0.,  0.,  0.,  0.,  0.,  0.,  0.,  0.]],\n",
              "      dtype=float32)"
            ]
          },
          "metadata": {
            "tags": []
          },
          "execution_count": 26
        }
      ]
    },
    {
      "metadata": {
        "id": "lrVICvUEz8v-",
        "colab_type": "code",
        "colab": {}
      },
      "cell_type": "code",
      "source": [
        "education_x_occupation=tf.feature_column.crossed_column(\n",
        "[age_buckets,'education','occupation'],hash_bucket_size=1000)"
      ],
      "execution_count": 0,
      "outputs": []
    },
    {
      "metadata": {
        "id": "o9BIPMtp36JU",
        "colab_type": "code",
        "colab": {
          "base_uri": "https://localhost:8080/",
          "height": 339
        },
        "outputId": "ae92e813-080a-4205-daef-2c825f2f7082"
      },
      "cell_type": "code",
      "source": [
        "import tempfile\n",
        "\n",
        "base_columns=[\n",
        "    education,marital_status,relationship,workclass,occupation,age_buckets,\n",
        "]\n",
        "\n",
        "crossed_columns=[\n",
        "    tf.feature_column.crossed_column(\n",
        "    ['education','occupation'],hash_bucket_size=1000),\n",
        "    tf.feature_column.crossed_column(\n",
        "    [age_buckets,'education','occupation'],hash_bucket_size=1000)\n",
        "]\n",
        "\n",
        "model=tf.estimator.LinearClassifier(\n",
        "model_dir=tempfile.mkdtemp(),\n",
        "feature_columns=base_columns+crossed_columns,\n",
        "optimizer=tf.train.FtrlOptimizer(learning_rate=0.1))"
      ],
      "execution_count": 28,
      "outputs": [
        {
          "output_type": "stream",
          "text": [
            "INFO:tensorflow:Using default config.\n"
          ],
          "name": "stdout"
        },
        {
          "output_type": "stream",
          "text": [
            "I1017 07:19:36.789256 139918343747456 tf_logging.py:115] Using default config.\n"
          ],
          "name": "stderr"
        },
        {
          "output_type": "stream",
          "text": [
            "INFO:tensorflow:Using config: {'_model_dir': '/tmp/tmpv_go583s', '_tf_random_seed': None, '_save_summary_steps': 100, '_save_checkpoints_steps': None, '_save_checkpoints_secs': 600, '_session_config': allow_soft_placement: true\n",
            "graph_options {\n",
            "  rewrite_options {\n",
            "    meta_optimizer_iterations: ONE\n",
            "  }\n",
            "}\n",
            ", '_keep_checkpoint_max': 5, '_keep_checkpoint_every_n_hours': 10000, '_log_step_count_steps': 100, '_train_distribute': None, '_device_fn': None, '_protocol': None, '_eval_distribute': None, '_experimental_distribute': None, '_service': None, '_cluster_spec': <tensorflow.python.training.server_lib.ClusterSpec object at 0x7f410ff42cf8>, '_task_type': 'worker', '_task_id': 0, '_global_id_in_cluster': 0, '_master': '', '_evaluation_master': '', '_is_chief': True, '_num_ps_replicas': 0, '_num_worker_replicas': 1}\n"
          ],
          "name": "stdout"
        },
        {
          "output_type": "stream",
          "text": [
            "I1017 07:19:36.793782 139918343747456 tf_logging.py:115] Using config: {'_model_dir': '/tmp/tmpv_go583s', '_tf_random_seed': None, '_save_summary_steps': 100, '_save_checkpoints_steps': None, '_save_checkpoints_secs': 600, '_session_config': allow_soft_placement: true\n",
            "graph_options {\n",
            "  rewrite_options {\n",
            "    meta_optimizer_iterations: ONE\n",
            "  }\n",
            "}\n",
            ", '_keep_checkpoint_max': 5, '_keep_checkpoint_every_n_hours': 10000, '_log_step_count_steps': 100, '_train_distribute': None, '_device_fn': None, '_protocol': None, '_eval_distribute': None, '_experimental_distribute': None, '_service': None, '_cluster_spec': <tensorflow.python.training.server_lib.ClusterSpec object at 0x7f410ff42cf8>, '_task_type': 'worker', '_task_id': 0, '_global_id_in_cluster': 0, '_master': '', '_evaluation_master': '', '_is_chief': True, '_num_ps_replicas': 0, '_num_worker_replicas': 1}\n"
          ],
          "name": "stderr"
        }
      ]
    },
    {
      "metadata": {
        "id": "JDACaFeS5OTT",
        "colab_type": "code",
        "colab": {
          "base_uri": "https://localhost:8080/",
          "height": 225
        },
        "outputId": "ef3450aa-2f48-4794-b3e0-cd04aa879a3c"
      },
      "cell_type": "code",
      "source": [
        "train_inpf=functools.partial(census_dataset.input_fn,train_file,\n",
        "                            num_epochs=40,shuffle=True,batch_size=64)\n",
        "\n",
        "model.train(train_inpf)\n",
        "clear_output()\n",
        "results=model.evaluate(test_inpf)\n",
        "\n",
        "clear_output()\n",
        "\n",
        "for key,value in sorted(results.items()):\n",
        "  print(key,':',value)"
      ],
      "execution_count": 29,
      "outputs": [
        {
          "output_type": "stream",
          "text": [
            "accuracy : 0.83514524\n",
            "accuracy_baseline : 0.76377374\n",
            "auc : 0.8814626\n",
            "auc_precision_recall : 0.6915461\n",
            "average_loss : 0.354603\n",
            "global_step : 20351\n",
            "label/mean : 0.23622628\n",
            "loss : 22.640358\n",
            "precision : 0.6870573\n",
            "prediction/mean : 0.2376948\n",
            "recall : 0.5548622\n"
          ],
          "name": "stdout"
        }
      ]
    },
    {
      "metadata": {
        "id": "sgfVRe--6Hzc",
        "colab_type": "code",
        "colab": {
          "base_uri": "https://localhost:8080/",
          "height": 677
        },
        "outputId": "ee8ee123-c5fb-4760-bf33-8e9a9dc3abdf"
      },
      "cell_type": "code",
      "source": [
        "import numpy as np\n",
        "predict_df=test_df[:20].copy()\n",
        "\n",
        "pred_iter=model.predict(\n",
        "lambda:easy_input_function(predict_df,label_key='income_bracket',\n",
        "                         num_epochs=1,shuffle=False,batch_size=10))\n",
        "\n",
        "classes=np.array(['<=50K','>50K'])\n",
        "pred_class_id=[]\n",
        "\n",
        "for pred_dict in pred_iter:\n",
        "  pred_class_id.append(pred_dict['class_ids'])\n",
        "  \n",
        "predict_df['predicted_class']=classes[np.array(pred_class_id)]\n",
        "predict_df['correct']=predict_df['predicted_class']==predict_df['income_bracket']\n",
        "\n",
        "clear_output()\n",
        "\n",
        "predict_df[['income_bracket','predicted_class','correct']]"
      ],
      "execution_count": 33,
      "outputs": [
        {
          "output_type": "execute_result",
          "data": {
            "text/html": [
              "<div>\n",
              "<style scoped>\n",
              "    .dataframe tbody tr th:only-of-type {\n",
              "        vertical-align: middle;\n",
              "    }\n",
              "\n",
              "    .dataframe tbody tr th {\n",
              "        vertical-align: top;\n",
              "    }\n",
              "\n",
              "    .dataframe thead th {\n",
              "        text-align: right;\n",
              "    }\n",
              "</style>\n",
              "<table border=\"1\" class=\"dataframe\">\n",
              "  <thead>\n",
              "    <tr style=\"text-align: right;\">\n",
              "      <th></th>\n",
              "      <th>income_bracket</th>\n",
              "      <th>predicted_class</th>\n",
              "      <th>correct</th>\n",
              "    </tr>\n",
              "  </thead>\n",
              "  <tbody>\n",
              "    <tr>\n",
              "      <th>0</th>\n",
              "      <td>&lt;=50K</td>\n",
              "      <td>&lt;=50K</td>\n",
              "      <td>True</td>\n",
              "    </tr>\n",
              "    <tr>\n",
              "      <th>1</th>\n",
              "      <td>&lt;=50K</td>\n",
              "      <td>&lt;=50K</td>\n",
              "      <td>True</td>\n",
              "    </tr>\n",
              "    <tr>\n",
              "      <th>2</th>\n",
              "      <td>&gt;50K</td>\n",
              "      <td>&lt;=50K</td>\n",
              "      <td>False</td>\n",
              "    </tr>\n",
              "    <tr>\n",
              "      <th>3</th>\n",
              "      <td>&gt;50K</td>\n",
              "      <td>&lt;=50K</td>\n",
              "      <td>False</td>\n",
              "    </tr>\n",
              "    <tr>\n",
              "      <th>4</th>\n",
              "      <td>&lt;=50K</td>\n",
              "      <td>&lt;=50K</td>\n",
              "      <td>True</td>\n",
              "    </tr>\n",
              "    <tr>\n",
              "      <th>5</th>\n",
              "      <td>&lt;=50K</td>\n",
              "      <td>&lt;=50K</td>\n",
              "      <td>True</td>\n",
              "    </tr>\n",
              "    <tr>\n",
              "      <th>6</th>\n",
              "      <td>&lt;=50K</td>\n",
              "      <td>&lt;=50K</td>\n",
              "      <td>True</td>\n",
              "    </tr>\n",
              "    <tr>\n",
              "      <th>7</th>\n",
              "      <td>&gt;50K</td>\n",
              "      <td>&gt;50K</td>\n",
              "      <td>True</td>\n",
              "    </tr>\n",
              "    <tr>\n",
              "      <th>8</th>\n",
              "      <td>&lt;=50K</td>\n",
              "      <td>&lt;=50K</td>\n",
              "      <td>True</td>\n",
              "    </tr>\n",
              "    <tr>\n",
              "      <th>9</th>\n",
              "      <td>&lt;=50K</td>\n",
              "      <td>&lt;=50K</td>\n",
              "      <td>True</td>\n",
              "    </tr>\n",
              "    <tr>\n",
              "      <th>10</th>\n",
              "      <td>&gt;50K</td>\n",
              "      <td>&lt;=50K</td>\n",
              "      <td>False</td>\n",
              "    </tr>\n",
              "    <tr>\n",
              "      <th>11</th>\n",
              "      <td>&lt;=50K</td>\n",
              "      <td>&gt;50K</td>\n",
              "      <td>False</td>\n",
              "    </tr>\n",
              "    <tr>\n",
              "      <th>12</th>\n",
              "      <td>&lt;=50K</td>\n",
              "      <td>&lt;=50K</td>\n",
              "      <td>True</td>\n",
              "    </tr>\n",
              "    <tr>\n",
              "      <th>13</th>\n",
              "      <td>&lt;=50K</td>\n",
              "      <td>&lt;=50K</td>\n",
              "      <td>True</td>\n",
              "    </tr>\n",
              "    <tr>\n",
              "      <th>14</th>\n",
              "      <td>&gt;50K</td>\n",
              "      <td>&lt;=50K</td>\n",
              "      <td>False</td>\n",
              "    </tr>\n",
              "    <tr>\n",
              "      <th>15</th>\n",
              "      <td>&gt;50K</td>\n",
              "      <td>&gt;50K</td>\n",
              "      <td>True</td>\n",
              "    </tr>\n",
              "    <tr>\n",
              "      <th>16</th>\n",
              "      <td>&lt;=50K</td>\n",
              "      <td>&lt;=50K</td>\n",
              "      <td>True</td>\n",
              "    </tr>\n",
              "    <tr>\n",
              "      <th>17</th>\n",
              "      <td>&lt;=50K</td>\n",
              "      <td>&lt;=50K</td>\n",
              "      <td>True</td>\n",
              "    </tr>\n",
              "    <tr>\n",
              "      <th>18</th>\n",
              "      <td>&lt;=50K</td>\n",
              "      <td>&lt;=50K</td>\n",
              "      <td>True</td>\n",
              "    </tr>\n",
              "    <tr>\n",
              "      <th>19</th>\n",
              "      <td>&gt;50K</td>\n",
              "      <td>&gt;50K</td>\n",
              "      <td>True</td>\n",
              "    </tr>\n",
              "  </tbody>\n",
              "</table>\n",
              "</div>"
            ],
            "text/plain": [
              "   income_bracket predicted_class  correct\n",
              "0           <=50K           <=50K     True\n",
              "1           <=50K           <=50K     True\n",
              "2            >50K           <=50K    False\n",
              "3            >50K           <=50K    False\n",
              "4           <=50K           <=50K     True\n",
              "5           <=50K           <=50K     True\n",
              "6           <=50K           <=50K     True\n",
              "7            >50K            >50K     True\n",
              "8           <=50K           <=50K     True\n",
              "9           <=50K           <=50K     True\n",
              "10           >50K           <=50K    False\n",
              "11          <=50K            >50K    False\n",
              "12          <=50K           <=50K     True\n",
              "13          <=50K           <=50K     True\n",
              "14           >50K           <=50K    False\n",
              "15           >50K            >50K     True\n",
              "16          <=50K           <=50K     True\n",
              "17          <=50K           <=50K     True\n",
              "18          <=50K           <=50K     True\n",
              "19           >50K            >50K     True"
            ]
          },
          "metadata": {
            "tags": []
          },
          "execution_count": 33
        }
      ]
    },
    {
      "metadata": {
        "id": "7t16t7wz87r4",
        "colab_type": "code",
        "colab": {
          "base_uri": "https://localhost:8080/",
          "height": 225
        },
        "outputId": "8c20b047-46fe-44ba-9e81-4e8be0414cd5"
      },
      "cell_type": "code",
      "source": [
        "model_l1=tf.estimator.LinearClassifier(\n",
        "feature_columns=base_columns+crossed_columns,\n",
        "optimizer=tf.train.FtrlOptimizer(\n",
        "  learning_rate=0.1,\n",
        "  l1_regularization_strength=10.0,\n",
        "  l2_regularization_strength=0.0))\n",
        "\n",
        "model_l1.train(train_inpf)\n",
        "\n",
        "results=model_l1.evaluate(test_inpf)\n",
        "clear_output()\n",
        "for key,value in sorted(results.items()):\n",
        "  print(key,':',value)"
      ],
      "execution_count": 37,
      "outputs": [
        {
          "output_type": "stream",
          "text": [
            "accuracy : 0.8364351\n",
            "accuracy_baseline : 0.76377374\n",
            "auc : 0.883477\n",
            "auc_precision_recall : 0.6941568\n",
            "average_loss : 0.35186374\n",
            "global_step : 20351\n",
            "label/mean : 0.23622628\n",
            "loss : 22.465464\n",
            "precision : 0.69148594\n",
            "prediction/mean : 0.23760998\n",
            "recall : 0.5553822\n"
          ],
          "name": "stdout"
        }
      ]
    },
    {
      "metadata": {
        "id": "rYjU0gADAbk7",
        "colab_type": "code",
        "colab": {
          "base_uri": "https://localhost:8080/",
          "height": 225
        },
        "outputId": "79b57e56-d840-4232-ab4c-1aaaae132bc5"
      },
      "cell_type": "code",
      "source": [
        "model_l2=tf.estimator.LinearClassifier(\n",
        "feature_columns=base_columns+crossed_columns,\n",
        "optimizer=tf.train.FtrlOptimizer(\n",
        "  learning_rate=0.1,\n",
        "  l1_regularization_strength=0.0,\n",
        "  l2_regularization_strength=10.0))\n",
        "\n",
        "model_l2.train(train_inpf)\n",
        "\n",
        "results=model_l2.evaluate(test_inpf)\n",
        "clear_output()\n",
        "for key,value in sorted(results.items()):\n",
        "  print(key,':',value)"
      ],
      "execution_count": 38,
      "outputs": [
        {
          "output_type": "stream",
          "text": [
            "accuracy : 0.8364351\n",
            "accuracy_baseline : 0.76377374\n",
            "auc : 0.88344115\n",
            "auc_precision_recall : 0.6942357\n",
            "average_loss : 0.35179108\n",
            "global_step : 20351\n",
            "label/mean : 0.23622628\n",
            "loss : 22.460827\n",
            "precision : 0.6917342\n",
            "prediction/mean : 0.23727195\n",
            "recall : 0.5548622\n"
          ],
          "name": "stdout"
        }
      ]
    },
    {
      "metadata": {
        "id": "FOtpdH6xEg_v",
        "colab_type": "code",
        "colab": {}
      },
      "cell_type": "code",
      "source": [
        "def get_flat_weights(model):\n",
        "  weight_names=[\n",
        "      name for name in model.get_variable_names()\n",
        "      if \"linear_model\" in name and 'Ftrl' not in name]\n",
        "  weight_values=[model.get_variable_value(name) for name in weight_names]\n",
        "  weights_flat=np.concatenate([item.flatten() for item in weight_values],axis=0)\n",
        "  \n",
        "  return weights_flat\n",
        "\n",
        "weights_flat=get_flat_weights(model)\n",
        "weights_flat_l1=get_flat_weights(model_l1)\n",
        "weights_flat_l2=get_flat_weights(model_l2)"
      ],
      "execution_count": 0,
      "outputs": []
    },
    {
      "metadata": {
        "id": "g52jsNSPFraO",
        "colab_type": "code",
        "colab": {
          "base_uri": "https://localhost:8080/",
          "height": 1071
        },
        "outputId": "d886cd04-e2e6-43a1-b76e-089c6d5b8a35"
      },
      "cell_type": "code",
      "source": [
        "weight_mask=weights_flat !=0\n",
        "\n",
        "weights_base=weights_flat[weight_mask]\n",
        "weights_l1=weights_flat_l1[weight_mask]\n",
        "weights_l2=weights_flat_l2[weight_mask]\n",
        "\n",
        "plt.figure()\n",
        "_=plt.hist(weights_base,bins=np.linspace(-3,3,30))\n",
        "plt.title(\"Base model\")\n",
        "plt.ylim([0,500])\n",
        "\n",
        "plt.figure()\n",
        "_=plt.hist(weights_l1,bins=np.linspace(-3,3,30))\n",
        "plt.title(\"L1 regularization\")\n",
        "plt.ylim([0,500])\n",
        "\n",
        "plt.figure()\n",
        "_=plt.hist(weights_l2,bins=np.linspace(-3,3,30))\n",
        "plt.title(\"L2 Regularization\")\n",
        "plt.ylim([0,500])"
      ],
      "execution_count": 41,
      "outputs": [
        {
          "output_type": "execute_result",
          "data": {
            "text/plain": [
              "(0, 500)"
            ]
          },
          "metadata": {
            "tags": []
          },
          "execution_count": 41
        },
        {
          "output_type": "display_data",
          "data": {
            "image/png": "[encoded data removed]",
            "text/plain": [
              "<matplotlib.figure.Figure at 0x7f41092aee80>"
            ]
          },
          "metadata": {
            "tags": []
          }
        },
        {
          "output_type": "display_data",
          "data": {
            "image/png": "[encoded data removed]",
            "text/plain": [
              "<matplotlib.figure.Figure at 0x7f4109cdd6a0>"
            ]
          },
          "metadata": {
            "tags": []
          }
        },
        {
          "output_type": "display_data",
          "data": {
            "image/png": "[encoded data removed]",
            "text/plain": [
              "<matplotlib.figure.Figure at 0x7f4109d53d30>"
            ]
          },
          "metadata": {
            "tags": []
          }
        }
      ]
    },
    {
      "metadata": {
        "id": "LQSmVOssG9Bq",
        "colab_type": "code",
        "colab": {}
      },
      "cell_type": "code",
      "source": [
        ""
      ],
      "execution_count": 0,
      "outputs": []
    }
  ]
}