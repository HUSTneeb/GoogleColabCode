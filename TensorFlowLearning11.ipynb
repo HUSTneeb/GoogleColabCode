{
  "nbformat": 4,
  "nbformat_minor": 0,
  "metadata": {
    "colab": {
      "name": "TensorFlowLearning11.ipynb",
      "version": "0.3.2",
      "provenance": [],
      "include_colab_link": true
    },
    "kernelspec": {
      "name": "python3",
      "display_name": "Python 3"
    }
  },
  "cells": [
    {
      "cell_type": "markdown",
      "metadata": {
        "id": "view-in-github",
        "colab_type": "text"
      },
      "source": [
        "[View in Colaboratory](https://colab.research.google.com/github/HUSTneeb/GoogleColabCode/blob/master/TensorFlowLearning11.ipynb)"
      ]
    },
    {
      "metadata": {
        "id": "LqLnfQFtgG8w",
        "colab_type": "code",
        "colab": {
          "base_uri": "https://localhost:8080/",
          "height": 36
        },
        "outputId": "51e713b3-e966-4363-c9a9-3b7b6723506d"
      },
      "cell_type": "code",
      "source": [
        "import tensorflow as tf\n",
        "import tensorflow.feature_column as fc\n",
        "\n",
        "import os\n",
        "import sys\n",
        "\n",
        "import matplotlib.pyplot as plt\n",
        "from IPython.display import clear_output\n",
        "\n",
        "tf.enable_eager_execution"
      ],
      "execution_count": 1,
      "outputs": [
        {
          "output_type": "execute_result",
          "data": {
            "text/plain": [
              "<function tensorflow.python.framework.ops.enable_eager_execution>"
            ]
          },
          "metadata": {
            "tags": []
          },
          "execution_count": 1
        }
      ]
    },
    {
      "metadata": {
        "id": "Clzt4rjQgfcW",
        "colab_type": "code",
        "colab": {
          "base_uri": "https://localhost:8080/",
          "height": 187
        },
        "outputId": "6dd5dd69-69c2-4f6e-b707-ff9187599ed7"
      },
      "cell_type": "code",
      "source": [
        "!pip install -q requests\n",
        "!git clone --depth 1 http://github.com/tensorflow/models"
      ],
      "execution_count": 2,
      "outputs": [
        {
          "output_type": "stream",
          "text": [
            "Cloning into 'models'...\n",
            "warning: redirecting to https://github.com/tensorflow/models/\n",
            "remote: Enumerating objects: 2978, done.\u001b[K\n",
            "remote: Counting objects: 100% (2978/2978), done.\u001b[K\n",
            "remote: Compressing objects: 100% (2516/2516), done.\u001b[K\n",
            "remote: Total 2978 (delta 509), reused 1890 (delta 386), pack-reused 0\u001b[K\n",
            "Receiving objects: 100% (2978/2978), 376.92 MiB | 35.35 MiB/s, done.\n",
            "Resolving deltas: 100% (509/509), done.\n",
            "Checking out files: 100% (2809/2809), done.\n"
          ],
          "name": "stdout"
        }
      ]
    },
    {
      "metadata": {
        "id": "DGBDmn94gxtQ",
        "colab_type": "code",
        "colab": {}
      },
      "cell_type": "code",
      "source": [
        "models_path=os.path.join(os.getcwd(),'models')\n",
        "sys.path.append(models_path)\n",
        "\n",
        "from official.wide_deep import census_dataset\n",
        "from official.wide_deep import census_main\n",
        "\n",
        "census_dataset.download(\"/tmp/census_data/\")"
      ],
      "execution_count": 0,
      "outputs": []
    },
    {
      "metadata": {
        "id": "BmSWAnN-haRi",
        "colab_type": "code",
        "colab": {}
      },
      "cell_type": "code",
      "source": [
        "if \"PYTHONPATH\" in os.environ:\n",
        "  os.environ['PYTHONPATH'] +=os.pathsep+models_path\n",
        "else:\n",
        "  os.environ['PYTHONPATH']=models_path\n",
        "  "
      ],
      "execution_count": 0,
      "outputs": []
    },
    {
      "metadata": {
        "id": "8qpS_siniJRm",
        "colab_type": "code",
        "colab": {}
      },
      "cell_type": "code",
      "source": [
        "#!python -m official.wide_deep.census_main --help"
      ],
      "execution_count": 0,
      "outputs": []
    },
    {
      "metadata": {
        "id": "iVjnKCbPiVWm",
        "colab_type": "code",
        "colab": {
          "base_uri": "https://localhost:8080/",
          "height": 1961
        },
        "outputId": "0a4ff57c-5ddd-486c-c0f8-9b98d62b42c7"
      },
      "cell_type": "code",
      "source": [
        "!python -m official.wide_deep.census_main --model_type=wide --train_epochs=2"
      ],
      "execution_count": 9,
      "outputs": [
        {
          "output_type": "stream",
          "text": [
            "I1016 11:05:31.680608 139942071187328 tf_logging.py:115] Using config: {'_model_dir': '/tmp/census_model', '_tf_random_seed': None, '_save_summary_steps': 100, '_save_checkpoints_steps': None, '_save_checkpoints_secs': 600, '_session_config': device_count {\n",
            "  key: \"GPU\"\n",
            "}\n",
            ", '_keep_checkpoint_max': 5, '_keep_checkpoint_every_n_hours': 10000, '_log_step_count_steps': 100, '_train_distribute': None, '_device_fn': None, '_protocol': None, '_eval_distribute': None, '_experimental_distribute': None, '_service': None, '_cluster_spec': <tensorflow.python.training.server_lib.ClusterSpec object at 0x7f46a4a3abe0>, '_task_type': 'worker', '_task_id': 0, '_global_id_in_cluster': 0, '_master': '', '_evaluation_master': '', '_is_chief': True, '_num_ps_replicas': 0, '_num_worker_replicas': 1}\n",
            "W1016 11:05:31.681873 139942071187328 tf_logging.py:120] 'cpuinfo' not imported. CPU info will not be logged.\n",
            "I1016 11:05:36.726691 139942071187328 tf_logging.py:115] Benchmark run: {'model_name': 'wide_deep', 'dataset': {'name': 'Census Income'}, 'machine_config': {'gpu_info': {'count': 0}, 'memory_total': 13655257088, 'memory_available': 12258689024}, 'test_id': None, 'run_date': '2018-10-16T11:05:31.681449Z', 'tensorflow_version': {'version': '1.11.0', 'git_hash': 'unknown'}, 'tensorflow_environment_variables': [{'name': 'TF_FORCE_GPU_ALLOW_GROWTH', 'value': 'true'}], 'run_parameters': [{'name': 'batch_size', 'long_value': 40}, {'name': 'model_type', 'string_value': 'wide'}, {'name': 'train_epochs', 'long_value': 2}]}\n",
            "I1016 11:05:36.762865 139942071187328 tf_logging.py:115] Parsing /tmp/census_data/adult.data\n",
            "I1016 11:05:36.805804 139942071187328 tf_logging.py:115] Calling model_fn.\n",
            "I1016 11:05:38.003690 139942071187328 tf_logging.py:115] Done calling model_fn.\n",
            "I1016 11:05:38.004104 139942071187328 tf_logging.py:115] Create CheckpointSaverHook.\n",
            "I1016 11:05:38.529587 139942071187328 tf_logging.py:115] Graph was finalized.\n",
            "I1016 11:05:38.623773 139942071187328 tf_logging.py:115] Running local_init_op.\n",
            "I1016 11:05:38.643465 139942071187328 tf_logging.py:115] Done running local_init_op.\n",
            "I1016 11:05:39.381859 139942071187328 tf_logging.py:115] Saving checkpoints for 0 into /tmp/census_model/model.ckpt.\n",
            "I1016 11:05:40.150456 139942071187328 tf_logging.py:115] average_loss = 0.6931472, loss = 27.725887\n",
            "I1016 11:05:40.150793 139942071187328 tf_logging.py:115] loss = 27.725887, step = 1\n",
            "I1016 11:05:40.955588 139942071187328 tf_logging.py:115] global_step/sec: 124.146\n",
            "I1016 11:05:40.956560 139942071187328 tf_logging.py:115] average_loss = 0.5485476, loss = 21.941906 (0.806 sec)\n",
            "I1016 11:05:40.956803 139942071187328 tf_logging.py:115] loss = 21.941906, step = 101 (0.806 sec)\n",
            "I1016 11:05:41.292804 139942071187328 tf_logging.py:115] global_step/sec: 296.43\n",
            "I1016 11:05:41.293817 139942071187328 tf_logging.py:115] average_loss = 0.38203505, loss = 15.281402 (0.337 sec)\n",
            "I1016 11:05:41.294046 139942071187328 tf_logging.py:115] loss = 15.281402, step = 201 (0.337 sec)\n",
            "I1016 11:05:41.643297 139942071187328 tf_logging.py:115] global_step/sec: 285.334\n",
            "I1016 11:05:41.644260 139942071187328 tf_logging.py:115] average_loss = 0.21421781, loss = 8.568712 (0.350 sec)\n",
            "I1016 11:05:41.644517 139942071187328 tf_logging.py:115] loss = 8.568712, step = 301 (0.350 sec)\n",
            "I1016 11:05:41.965244 139942071187328 tf_logging.py:115] global_step/sec: 310.597\n",
            "I1016 11:05:41.966159 139942071187328 tf_logging.py:115] average_loss = 0.38746804, loss = 15.498722 (0.322 sec)\n",
            "I1016 11:05:41.966449 139942071187328 tf_logging.py:115] loss = 15.498722, step = 401 (0.322 sec)\n",
            "I1016 11:05:42.296383 139942071187328 tf_logging.py:115] global_step/sec: 301.95\n",
            "I1016 11:05:42.297263 139942071187328 tf_logging.py:115] average_loss = 0.31078464, loss = 12.431385 (0.331 sec)\n",
            "I1016 11:05:42.297496 139942071187328 tf_logging.py:115] loss = 12.431385, step = 501 (0.331 sec)\n",
            "I1016 11:05:42.596468 139942071187328 tf_logging.py:115] global_step/sec: 333.246\n",
            "I1016 11:05:42.597272 139942071187328 tf_logging.py:115] average_loss = 0.3629672, loss = 14.518688 (0.300 sec)\n",
            "I1016 11:05:42.597594 139942071187328 tf_logging.py:115] loss = 14.518688, step = 601 (0.300 sec)\n",
            "I1016 11:05:42.868507 139942071187328 tf_logging.py:115] global_step/sec: 367.609\n",
            "I1016 11:05:42.869314 139942071187328 tf_logging.py:115] average_loss = 0.27696505, loss = 11.078602 (0.272 sec)\n",
            "I1016 11:05:42.869623 139942071187328 tf_logging.py:115] loss = 11.078602, step = 701 (0.272 sec)\n",
            "I1016 11:05:43.159847 139942071187328 tf_logging.py:115] global_step/sec: 343.218\n",
            "I1016 11:05:43.160665 139942071187328 tf_logging.py:115] average_loss = 0.47283942, loss = 18.913576 (0.291 sec)\n",
            "I1016 11:05:43.160962 139942071187328 tf_logging.py:115] loss = 18.913576, step = 801 (0.291 sec)\n",
            "I1016 11:05:43.485390 139942071187328 tf_logging.py:115] global_step/sec: 307.178\n",
            "I1016 11:05:43.486196 139942071187328 tf_logging.py:115] average_loss = 0.4414559, loss = 17.658236 (0.326 sec)\n",
            "I1016 11:05:43.486561 139942071187328 tf_logging.py:115] loss = 17.658236, step = 901 (0.326 sec)\n",
            "I1016 11:05:43.760744 139942071187328 tf_logging.py:115] global_step/sec: 363.164\n",
            "I1016 11:05:43.761597 139942071187328 tf_logging.py:115] average_loss = 0.24676147, loss = 9.870459 (0.275 sec)\n",
            "I1016 11:05:43.761908 139942071187328 tf_logging.py:115] loss = 9.870459, step = 1001 (0.275 sec)\n",
            "I1016 11:05:44.037179 139942071187328 tf_logging.py:115] global_step/sec: 361.774\n",
            "I1016 11:05:44.038306 139942071187328 tf_logging.py:115] average_loss = 0.41847715, loss = 16.739086 (0.277 sec)\n",
            "I1016 11:05:44.038545 139942071187328 tf_logging.py:115] loss = 16.739086, step = 1101 (0.277 sec)\n",
            "I1016 11:05:44.337939 139942071187328 tf_logging.py:115] global_step/sec: 332.468\n",
            "I1016 11:05:44.338724 139942071187328 tf_logging.py:115] average_loss = 0.1368541, loss = 5.474164 (0.300 sec)\n",
            "I1016 11:05:44.338916 139942071187328 tf_logging.py:115] loss = 5.474164, step = 1201 (0.300 sec)\n",
            "I1016 11:05:44.620712 139942071187328 tf_logging.py:115] global_step/sec: 353.634\n",
            "I1016 11:05:44.621527 139942071187328 tf_logging.py:115] average_loss = 0.2696549, loss = 10.786196 (0.283 sec)\n",
            "I1016 11:05:44.621728 139942071187328 tf_logging.py:115] loss = 10.786196, step = 1301 (0.283 sec)\n",
            "I1016 11:05:44.913676 139942071187328 tf_logging.py:115] global_step/sec: 341.342\n",
            "I1016 11:05:44.914577 139942071187328 tf_logging.py:115] average_loss = 0.5639828, loss = 22.55931 (0.293 sec)\n",
            "I1016 11:05:44.914791 139942071187328 tf_logging.py:115] loss = 22.55931, step = 1401 (0.293 sec)\n",
            "I1016 11:05:45.191771 139942071187328 tf_logging.py:115] global_step/sec: 359.601\n",
            "I1016 11:05:45.192605 139942071187328 tf_logging.py:115] average_loss = 0.3718303, loss = 14.873213 (0.278 sec)\n",
            "I1016 11:05:45.192902 139942071187328 tf_logging.py:115] loss = 14.873213, step = 1501 (0.278 sec)\n",
            "I1016 11:05:45.469956 139942071187328 tf_logging.py:115] global_step/sec: 359.466\n",
            "I1016 11:05:45.470756 139942071187328 tf_logging.py:115] average_loss = 0.35788965, loss = 14.315586 (0.278 sec)\n",
            "I1016 11:05:45.470951 139942071187328 tf_logging.py:115] loss = 14.315586, step = 1601 (0.278 sec)\n",
            "I1016 11:05:45.549482 139942071187328 tf_logging.py:115] Saving checkpoints for 1629 into /tmp/census_model/model.ckpt.\n",
            "I1016 11:05:45.743019 139942071187328 tf_logging.py:115] Loss for final step: 0.26825246.\n",
            "I1016 11:05:45.758347 139942071187328 tf_logging.py:115] Parsing /tmp/census_data/adult.test\n",
            "I1016 11:05:45.790559 139942071187328 tf_logging.py:115] Calling model_fn.\n",
            "W1016 11:05:46.993663 139942071187328 tf_logging.py:125] Trapezoidal rule is known to produce incorrect PR-AUCs; please switch to \"careful_interpolation\" instead.\n",
            "W1016 11:05:47.014565 139942071187328 tf_logging.py:125] Trapezoidal rule is known to produce incorrect PR-AUCs; please switch to \"careful_interpolation\" instead.\n",
            "I1016 11:05:47.035546 139942071187328 tf_logging.py:115] Done calling model_fn.\n",
            "I1016 11:05:47.057908 139942071187328 tf_logging.py:115] Starting evaluation at 2018-10-16-11:05:47\n",
            "I1016 11:05:47.198829 139942071187328 tf_logging.py:115] Graph was finalized.\n",
            "I1016 11:05:47.200617 139942071187328 tf_logging.py:115] Restoring parameters from /tmp/census_model/model.ckpt-1629\n",
            "I1016 11:05:47.270854 139942071187328 tf_logging.py:115] Running local_init_op.\n",
            "I1016 11:05:47.314755 139942071187328 tf_logging.py:115] Done running local_init_op.\n",
            "I1016 11:05:49.417535 139942071187328 tf_logging.py:115] Finished evaluation at 2018-10-16-11:05:49\n",
            "I1016 11:05:49.417864 139942071187328 tf_logging.py:115] Saving dict for global step 1629: accuracy = 0.83625084, accuracy_baseline = 0.76377374, auc = 0.8847744, auc_precision_recall = 0.6966702, average_loss = 0.35014293, global_step = 1629, label/mean = 0.23622628, loss = 13.972247, precision = 0.6832298, prediction/mean = 0.23824346, recall = 0.57202286\n",
            "I1016 11:05:49.758009 139942071187328 tf_logging.py:115] Saving 'checkpoint_path' summary for global step 1629: /tmp/census_model/model.ckpt-1629\n",
            "I1016 11:05:49.758795 139942071187328 tf_logging.py:115] Results at epoch 2 / 2\n",
            "I1016 11:05:49.758931 139942071187328 tf_logging.py:115] ------------------------------------------------------------\n",
            "I1016 11:05:49.759020 139942071187328 tf_logging.py:115] accuracy: 0.83625084\n",
            "I1016 11:05:49.759088 139942071187328 tf_logging.py:115] accuracy_baseline: 0.76377374\n",
            "I1016 11:05:49.759183 139942071187328 tf_logging.py:115] auc: 0.8847744\n",
            "I1016 11:05:49.759256 139942071187328 tf_logging.py:115] auc_precision_recall: 0.6966702\n",
            "I1016 11:05:49.759326 139942071187328 tf_logging.py:115] average_loss: 0.35014293\n",
            "I1016 11:05:49.759402 139942071187328 tf_logging.py:115] global_step: 1629\n",
            "I1016 11:05:49.759478 139942071187328 tf_logging.py:115] label/mean: 0.23622628\n",
            "I1016 11:05:49.759543 139942071187328 tf_logging.py:115] loss: 13.972247\n",
            "I1016 11:05:49.759607 139942071187328 tf_logging.py:115] precision: 0.6832298\n",
            "I1016 11:05:49.759672 139942071187328 tf_logging.py:115] prediction/mean: 0.23824346\n",
            "I1016 11:05:49.759753 139942071187328 tf_logging.py:115] recall: 0.57202286\n",
            "I1016 11:05:49.759929 139942071187328 tf_logging.py:115] Benchmark metric: {'name': 'accuracy', 'value': 0.8362508416175842, 'unit': None, 'global_step': 1629, 'timestamp': '2018-10-16T11:05:49.759888Z', 'extras': []}\n",
            "I1016 11:05:49.760049 139942071187328 tf_logging.py:115] Benchmark metric: {'name': 'accuracy_baseline', 'value': 0.7637737393379211, 'unit': None, 'global_step': 1629, 'timestamp': '2018-10-16T11:05:49.760027Z', 'extras': []}\n",
            "I1016 11:05:49.760176 139942071187328 tf_logging.py:115] Benchmark metric: {'name': 'auc', 'value': 0.884774386882782, 'unit': None, 'global_step': 1629, 'timestamp': '2018-10-16T11:05:49.760149Z', 'extras': []}\n",
            "I1016 11:05:49.760276 139942071187328 tf_logging.py:115] Benchmark metric: {'name': 'auc_precision_recall', 'value': 0.6966701745986938, 'unit': None, 'global_step': 1629, 'timestamp': '2018-10-16T11:05:49.760258Z', 'extras': []}\n",
            "I1016 11:05:49.760370 139942071187328 tf_logging.py:115] Benchmark metric: {'name': 'average_loss', 'value': 0.3501429259777069, 'unit': None, 'global_step': 1629, 'timestamp': '2018-10-16T11:05:49.760353Z', 'extras': []}\n",
            "I1016 11:05:49.760478 139942071187328 tf_logging.py:115] Benchmark metric: {'name': 'label/mean', 'value': 0.23622627556324005, 'unit': None, 'global_step': 1629, 'timestamp': '2018-10-16T11:05:49.760461Z', 'extras': []}\n",
            "I1016 11:05:49.760572 139942071187328 tf_logging.py:115] Benchmark metric: {'name': 'loss', 'value': 13.972247123718262, 'unit': None, 'global_step': 1629, 'timestamp': '2018-10-16T11:05:49.760555Z', 'extras': []}\n",
            "I1016 11:05:49.760665 139942071187328 tf_logging.py:115] Benchmark metric: {'name': 'precision', 'value': 0.6832298040390015, 'unit': None, 'global_step': 1629, 'timestamp': '2018-10-16T11:05:49.760648Z', 'extras': []}\n",
            "I1016 11:05:49.760756 139942071187328 tf_logging.py:115] Benchmark metric: {'name': 'prediction/mean', 'value': 0.2382434606552124, 'unit': None, 'global_step': 1629, 'timestamp': '2018-10-16T11:05:49.760740Z', 'extras': []}\n",
            "I1016 11:05:49.760849 139942071187328 tf_logging.py:115] Benchmark metric: {'name': 'recall', 'value': 0.5720228552818298, 'unit': None, 'global_step': 1629, 'timestamp': '2018-10-16T11:05:49.760832Z', 'extras': []}\n"
          ],
          "name": "stdout"
        }
      ]
    },
    {
      "metadata": {
        "id": "ImfDrfpnjR0L",
        "colab_type": "code",
        "colab": {
          "base_uri": "https://localhost:8080/",
          "height": 36
        },
        "outputId": "68de1b99-3390-44c5-8b71-b2761e456e30"
      },
      "cell_type": "code",
      "source": [
        "!ls /tmp/census_data/"
      ],
      "execution_count": 10,
      "outputs": [
        {
          "output_type": "stream",
          "text": [
            "adult.data  adult.test\n"
          ],
          "name": "stdout"
        }
      ]
    },
    {
      "metadata": {
        "id": "MDvtl53Bkc9w",
        "colab_type": "code",
        "colab": {
          "base_uri": "https://localhost:8080/",
          "height": 206
        },
        "outputId": "97dd591e-3ba1-48b2-fb0f-ea0b842d3317"
      },
      "cell_type": "code",
      "source": [
        "train_file=\"/tmp/census_data/adult.data\"\n",
        "test_file='/tmp/census_data/adult.test'\n",
        "\n",
        "import pandas\n",
        "\n",
        "train_df =pandas.read_csv(train_file,header=None,names=census_dataset._CSV_COLUMNS)\n",
        "test_df=pandas.read_csv(test_file,header=None,names=census_dataset._CSV_COLUMNS)\n",
        "\n",
        "train_df.head()"
      ],
      "execution_count": 11,
      "outputs": [
        {
          "output_type": "execute_result",
          "data": {
            "text/html": [
              "<div>\n",
              "<style scoped>\n",
              "    .dataframe tbody tr th:only-of-type {\n",
              "        vertical-align: middle;\n",
              "    }\n",
              "\n",
              "    .dataframe tbody tr th {\n",
              "        vertical-align: top;\n",
              "    }\n",
              "\n",
              "    .dataframe thead th {\n",
              "        text-align: right;\n",
              "    }\n",
              "</style>\n",
              "<table border=\"1\" class=\"dataframe\">\n",
              "  <thead>\n",
              "    <tr style=\"text-align: right;\">\n",
              "      <th></th>\n",
              "      <th>age</th>\n",
              "      <th>workclass</th>\n",
              "      <th>fnlwgt</th>\n",
              "      <th>education</th>\n",
              "      <th>education_num</th>\n",
              "      <th>marital_status</th>\n",
              "      <th>occupation</th>\n",
              "      <th>relationship</th>\n",
              "      <th>race</th>\n",
              "      <th>gender</th>\n",
              "      <th>capital_gain</th>\n",
              "      <th>capital_loss</th>\n",
              "      <th>hours_per_week</th>\n",
              "      <th>native_country</th>\n",
              "      <th>income_bracket</th>\n",
              "    </tr>\n",
              "  </thead>\n",
              "  <tbody>\n",
              "    <tr>\n",
              "      <th>0</th>\n",
              "      <td>39</td>\n",
              "      <td>State-gov</td>\n",
              "      <td>77516</td>\n",
              "      <td>Bachelors</td>\n",
              "      <td>13</td>\n",
              "      <td>Never-married</td>\n",
              "      <td>Adm-clerical</td>\n",
              "      <td>Not-in-family</td>\n",
              "      <td>White</td>\n",
              "      <td>Male</td>\n",
              "      <td>2174</td>\n",
              "      <td>0</td>\n",
              "      <td>40</td>\n",
              "      <td>United-States</td>\n",
              "      <td>&lt;=50K</td>\n",
              "    </tr>\n",
              "    <tr>\n",
              "      <th>1</th>\n",
              "      <td>50</td>\n",
              "      <td>Self-emp-not-inc</td>\n",
              "      <td>83311</td>\n",
              "      <td>Bachelors</td>\n",
              "      <td>13</td>\n",
              "      <td>Married-civ-spouse</td>\n",
              "      <td>Exec-managerial</td>\n",
              "      <td>Husband</td>\n",
              "      <td>White</td>\n",
              "      <td>Male</td>\n",
              "      <td>0</td>\n",
              "      <td>0</td>\n",
              "      <td>13</td>\n",
              "      <td>United-States</td>\n",
              "      <td>&lt;=50K</td>\n",
              "    </tr>\n",
              "    <tr>\n",
              "      <th>2</th>\n",
              "      <td>38</td>\n",
              "      <td>Private</td>\n",
              "      <td>215646</td>\n",
              "      <td>HS-grad</td>\n",
              "      <td>9</td>\n",
              "      <td>Divorced</td>\n",
              "      <td>Handlers-cleaners</td>\n",
              "      <td>Not-in-family</td>\n",
              "      <td>White</td>\n",
              "      <td>Male</td>\n",
              "      <td>0</td>\n",
              "      <td>0</td>\n",
              "      <td>40</td>\n",
              "      <td>United-States</td>\n",
              "      <td>&lt;=50K</td>\n",
              "    </tr>\n",
              "    <tr>\n",
              "      <th>3</th>\n",
              "      <td>53</td>\n",
              "      <td>Private</td>\n",
              "      <td>234721</td>\n",
              "      <td>11th</td>\n",
              "      <td>7</td>\n",
              "      <td>Married-civ-spouse</td>\n",
              "      <td>Handlers-cleaners</td>\n",
              "      <td>Husband</td>\n",
              "      <td>Black</td>\n",
              "      <td>Male</td>\n",
              "      <td>0</td>\n",
              "      <td>0</td>\n",
              "      <td>40</td>\n",
              "      <td>United-States</td>\n",
              "      <td>&lt;=50K</td>\n",
              "    </tr>\n",
              "    <tr>\n",
              "      <th>4</th>\n",
              "      <td>28</td>\n",
              "      <td>Private</td>\n",
              "      <td>338409</td>\n",
              "      <td>Bachelors</td>\n",
              "      <td>13</td>\n",
              "      <td>Married-civ-spouse</td>\n",
              "      <td>Prof-specialty</td>\n",
              "      <td>Wife</td>\n",
              "      <td>Black</td>\n",
              "      <td>Female</td>\n",
              "      <td>0</td>\n",
              "      <td>0</td>\n",
              "      <td>40</td>\n",
              "      <td>Cuba</td>\n",
              "      <td>&lt;=50K</td>\n",
              "    </tr>\n",
              "  </tbody>\n",
              "</table>\n",
              "</div>"
            ],
            "text/plain": [
              "   age         workclass  fnlwgt  education  education_num  \\\n",
              "0   39         State-gov   77516  Bachelors             13   \n",
              "1   50  Self-emp-not-inc   83311  Bachelors             13   \n",
              "2   38           Private  215646    HS-grad              9   \n",
              "3   53           Private  234721       11th              7   \n",
              "4   28           Private  338409  Bachelors             13   \n",
              "\n",
              "       marital_status         occupation   relationship   race  gender  \\\n",
              "0       Never-married       Adm-clerical  Not-in-family  White    Male   \n",
              "1  Married-civ-spouse    Exec-managerial        Husband  White    Male   \n",
              "2            Divorced  Handlers-cleaners  Not-in-family  White    Male   \n",
              "3  Married-civ-spouse  Handlers-cleaners        Husband  Black    Male   \n",
              "4  Married-civ-spouse     Prof-specialty           Wife  Black  Female   \n",
              "\n",
              "   capital_gain  capital_loss  hours_per_week native_country income_bracket  \n",
              "0          2174             0              40  United-States          <=50K  \n",
              "1             0             0              13  United-States          <=50K  \n",
              "2             0             0              40  United-States          <=50K  \n",
              "3             0             0              40  United-States          <=50K  \n",
              "4             0             0              40           Cuba          <=50K  "
            ]
          },
          "metadata": {
            "tags": []
          },
          "execution_count": 11
        }
      ]
    },
    {
      "metadata": {
        "id": "KnyFfzkdnD5n",
        "colab_type": "code",
        "colab": {}
      },
      "cell_type": "code",
      "source": [
        "def easy_input_function(df,label_key,num_epochs,shuffle,batch_size):\n",
        "  label=df[label_key]\n",
        "  ds=tf.data.Dataset.from_tensor_slices((dict(df),label))\n",
        "  \n",
        "  if shuffle:\n",
        "    ds=ds.shuffle(10000)\n",
        "    \n",
        "  ds=ds.batch(batch_size).repeat(num_epochs)\n",
        "  \n",
        "  return ds\n",
        "\n",
        "ds=easy_input_function(train_df,)"
      ],
      "execution_count": 0,
      "outputs": []
    }
  ]
}