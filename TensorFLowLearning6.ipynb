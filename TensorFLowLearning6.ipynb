{
  "nbformat": 4,
  "nbformat_minor": 0,
  "metadata": {
    "colab": {
      "name": "TensorFLowLearning6.ipynb",
      "version": "0.3.2",
      "provenance": [],
      "include_colab_link": true
    },
    "kernelspec": {
      "name": "python3",
      "display_name": "Python 3"
    }
  },
  "cells": [
    {
      "cell_type": "markdown",
      "metadata": {
        "id": "view-in-github",
        "colab_type": "text"
      },
      "source": [
        "[View in Colaboratory](https://colab.research.google.com/github/HUSTneeb/GoogleColabCode/blob/master/TensorFLowLearning6.ipynb)"
      ]
    },
    {
      "metadata": {
        "id": "38vFn_OLpBGr",
        "colab_type": "code",
        "colab": {}
      },
      "cell_type": "code",
      "source": [
        "import tensorflow as tf\n",
        "tf.enable_eager_execution()"
      ],
      "execution_count": 0,
      "outputs": []
    },
    {
      "metadata": {
        "id": "Dk9rvPiMpLLM",
        "colab_type": "code",
        "colab": {
          "base_uri": "https://localhost:8080/",
          "height": 55
        },
        "outputId": "1ed98121-b7ca-46d8-b6a3-9fbef0154132"
      },
      "cell_type": "code",
      "source": [
        "print(tf.add(1,2))\n",
        "print(tf.add([1,2],[3,4]))"
      ],
      "execution_count": 2,
      "outputs": [
        {
          "output_type": "stream",
          "text": [
            "tf.Tensor(3, shape=(), dtype=int32)\n",
            "tf.Tensor([4 6], shape=(2,), dtype=int32)\n"
          ],
          "name": "stdout"
        }
      ]
    },
    {
      "metadata": {
        "id": "m72LLRAEp9nY",
        "colab_type": "code",
        "colab": {
          "base_uri": "https://localhost:8080/",
          "height": 36
        },
        "outputId": "fa15d6d7-6958-42c4-cbb3-6ba76f0638db"
      },
      "cell_type": "code",
      "source": [
        "print(tf.square(5))"
      ],
      "execution_count": 3,
      "outputs": [
        {
          "output_type": "stream",
          "text": [
            "tf.Tensor(25, shape=(), dtype=int32)\n"
          ],
          "name": "stdout"
        }
      ]
    },
    {
      "metadata": {
        "id": "VnpSpF8vqFb-",
        "colab_type": "code",
        "colab": {
          "base_uri": "https://localhost:8080/",
          "height": 36
        },
        "outputId": "cd271957-1000-4018-c7dd-b1d16457b047"
      },
      "cell_type": "code",
      "source": [
        "print(tf.reduce_sum([1,2,3]))"
      ],
      "execution_count": 4,
      "outputs": [
        {
          "output_type": "stream",
          "text": [
            "tf.Tensor(6, shape=(), dtype=int32)\n"
          ],
          "name": "stdout"
        }
      ]
    },
    {
      "metadata": {
        "id": "QHJ3UJE0qL-0",
        "colab_type": "code",
        "colab": {
          "base_uri": "https://localhost:8080/",
          "height": 36
        },
        "outputId": "dd417bb6-7442-4962-e0b7-1c8a6efff148"
      },
      "cell_type": "code",
      "source": [
        "print(tf.encode_base64(\"hello world\"))"
      ],
      "execution_count": 5,
      "outputs": [
        {
          "output_type": "stream",
          "text": [
            "tf.Tensor(b'aGVsbG8gd29ybGQ', shape=(), dtype=string)\n"
          ],
          "name": "stdout"
        }
      ]
    },
    {
      "metadata": {
        "id": "Uve-flaWqTYT",
        "colab_type": "code",
        "colab": {
          "base_uri": "https://localhost:8080/",
          "height": 36
        },
        "outputId": "3b54ffe3-b89a-4c6d-dc6b-cd86aab10c39"
      },
      "cell_type": "code",
      "source": [
        "print(tf.square(2)+tf.square(3))"
      ],
      "execution_count": 8,
      "outputs": [
        {
          "output_type": "stream",
          "text": [
            "tf.Tensor(13, shape=(), dtype=int32)\n"
          ],
          "name": "stdout"
        }
      ]
    },
    {
      "metadata": {
        "id": "m7PvyCnwqi-P",
        "colab_type": "code",
        "colab": {
          "base_uri": "https://localhost:8080/",
          "height": 55
        },
        "outputId": "9f2b9718-5456-4edf-ba3a-2e701ccdb535"
      },
      "cell_type": "code",
      "source": [
        "x=tf.matmul([[1]],[[2,3]])\n",
        "print(x.shape)\n",
        "print(x.dtype)"
      ],
      "execution_count": 9,
      "outputs": [
        {
          "output_type": "stream",
          "text": [
            "(1, 2)\n",
            "<dtype: 'int32'>\n"
          ],
          "name": "stdout"
        }
      ]
    },
    {
      "metadata": {
        "id": "bzwPFJ7vrND_",
        "colab_type": "code",
        "colab": {
          "base_uri": "https://localhost:8080/",
          "height": 262
        },
        "outputId": "08c980ae-0f40-4733-92db-aa0cf9235dcd"
      },
      "cell_type": "code",
      "source": [
        "import numpy as np\n",
        "\n",
        "ndarray=np.ones([3,3])\n",
        "print(\"TensorFlow op convert numpy arrays to Tensors automatically\")\n",
        "tensor=tf.multiply(ndarray,42)\n",
        "print(tensor)\n",
        "\n",
        "print(\"And NumPy operations convert Tensors to numpy arrays automatically\")\n",
        "print(np.add(tensor,1))\n",
        "\n",
        "print(\"The .numpy() method explictly converts a Tensor to a numpy array\")\n",
        "print(tensor.numpy())"
      ],
      "execution_count": 10,
      "outputs": [
        {
          "output_type": "stream",
          "text": [
            "TensorFlow op convert numpy arrays to Tensors automatically\n",
            "tf.Tensor(\n",
            "[[42. 42. 42.]\n",
            " [42. 42. 42.]\n",
            " [42. 42. 42.]], shape=(3, 3), dtype=float64)\n",
            "And NumPy operations convert Tensors to numpy arrays automatically\n",
            "[[43. 43. 43.]\n",
            " [43. 43. 43.]\n",
            " [43. 43. 43.]]\n",
            "The .numpy() method explictly converts a Tensor to a numpy array\n",
            "[[42. 42. 42.]\n",
            " [42. 42. 42.]\n",
            " [42. 42. 42.]]\n"
          ],
          "name": "stdout"
        }
      ]
    },
    {
      "metadata": {
        "id": "wb6HLFeTuQd-",
        "colab_type": "code",
        "colab": {
          "base_uri": "https://localhost:8080/",
          "height": 92
        },
        "outputId": "f3371aea-f38f-4ad5-e5db-89ff7f542318"
      },
      "cell_type": "code",
      "source": [
        "x=tf.random_uniform([3,3])\n",
        "print(\"Is there a GPU available: \")\n",
        "print(tf.test.is_gpu_available())\n",
        "\n",
        "print(\"Is the Tensor on GPU#0: \")\n",
        "print(x.device.endswith('GPU:0'))"
      ],
      "execution_count": 11,
      "outputs": [
        {
          "output_type": "stream",
          "text": [
            "Is there a GPU available: \n",
            "False\n",
            "Is the Tensor on GPU#0: \n",
            "False\n"
          ],
          "name": "stdout"
        }
      ]
    },
    {
      "metadata": {
        "id": "QthFkFIjvf46",
        "colab_type": "code",
        "colab": {
          "base_uri": "https://localhost:8080/",
          "height": 55
        },
        "outputId": "abe99a96-bc38-4649-cf40-d5e61305755c"
      },
      "cell_type": "code",
      "source": [
        "def time_matmul(x):\n",
        "  %timeit tf.matmul(x,x)\n",
        "  \n",
        "print(\"On CPU:\")\n",
        "with tf.device(\"CPU:0\"):\n",
        "  x=tf.random_uniform([1000,1000])\n",
        "  assert x.device.endswith(\"CPU:0\")\n",
        "  time_matmul(x)\n",
        "  \n",
        "if tf.test.is_gpu_available():\n",
        "  with tf.device(\"GPU:0\"):\n",
        "    x=tf.random_uniform([1000,1000])\n",
        "    assert x.device.endswith(\"GPU:0\")\n",
        "    time_matmul(x)\n",
        "    \n",
        "    "
      ],
      "execution_count": 13,
      "outputs": [
        {
          "output_type": "stream",
          "text": [
            "On CPU:\n",
            "10 loops, best of 3: 21.7 ms per loop\n"
          ],
          "name": "stdout"
        }
      ]
    },
    {
      "metadata": {
        "id": "iHNWe7uW2y3r",
        "colab_type": "code",
        "colab": {}
      },
      "cell_type": "code",
      "source": [
        "ds_tensors=tf.data.Dataset.from_tensor_slices([1,2,3,4,5,6])\n",
        "\n",
        "import tempfile\n",
        "_,filename=tempfile.mkstemp()\n",
        "\n",
        "with open(filename,'w') as f:\n",
        "  f.write(\"\"\"Line 1\n",
        "  Line 2\n",
        "  Line3\n",
        "  \"\"\")\n",
        "  \n",
        "ds_file=tf.data.TextLineDataset(filename)"
      ],
      "execution_count": 0,
      "outputs": []
    },
    {
      "metadata": {
        "id": "6c__rtEg6AK8",
        "colab_type": "code",
        "colab": {
          "base_uri": "https://localhost:8080/",
          "height": 262
        },
        "outputId": "edf120e5-7fef-4ca0-c638-5360642e7009"
      },
      "cell_type": "code",
      "source": [
        "print('Elements of ds_tensors:')\n",
        "for x in ds_tensors:\n",
        "  print(x)\n",
        "  \n",
        "print('\\nElements in ds_file:')\n",
        "for x in ds_file:\n",
        "  print(x)\n",
        "  "
      ],
      "execution_count": 16,
      "outputs": [
        {
          "output_type": "stream",
          "text": [
            "Elements of ds_tensors:\n",
            "tf.Tensor(1, shape=(), dtype=int32)\n",
            "tf.Tensor(2, shape=(), dtype=int32)\n",
            "tf.Tensor(3, shape=(), dtype=int32)\n",
            "tf.Tensor(4, shape=(), dtype=int32)\n",
            "tf.Tensor(5, shape=(), dtype=int32)\n",
            "tf.Tensor(6, shape=(), dtype=int32)\n",
            "\n",
            "Elements in ds_file:\n",
            "tf.Tensor(b'Line 1', shape=(), dtype=string)\n",
            "tf.Tensor(b'  Line 2', shape=(), dtype=string)\n",
            "tf.Tensor(b'  Line3', shape=(), dtype=string)\n",
            "tf.Tensor(b'  ', shape=(), dtype=string)\n"
          ],
          "name": "stdout"
        }
      ]
    },
    {
      "metadata": {
        "id": "rAtG_U5x6cxe",
        "colab_type": "code",
        "colab": {}
      },
      "cell_type": "code",
      "source": [
        ""
      ],
      "execution_count": 0,
      "outputs": []
    }
  ]
}