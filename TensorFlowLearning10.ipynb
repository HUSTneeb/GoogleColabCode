{
  "nbformat": 4,
  "nbformat_minor": 0,
  "metadata": {
    "colab": {
      "name": "TensorFlowLearning10.ipynb",
      "version": "0.3.2",
      "provenance": [],
      "include_colab_link": true
    },
    "kernelspec": {
      "name": "python3",
      "display_name": "Python 3"
    }
  },
  "cells": [
    {
      "cell_type": "markdown",
      "metadata": {
        "id": "view-in-github",
        "colab_type": "text"
      },
      "source": [
        "[View in Colaboratory](https://colab.research.google.com/github/HUSTneeb/GoogleColabCode/blob/master/TensorFlowLearning10.ipynb)"
      ]
    },
    {
      "metadata": {
        "id": "dxKa-zvDh9dY",
        "colab_type": "code",
        "colab": {
          "base_uri": "https://localhost:8080/",
          "height": 36
        },
        "outputId": "a6d2a873-e27d-40ca-ddce-d500defcce84"
      },
      "cell_type": "code",
      "source": [
        "from __future__ import absolute_import,division,print_function\n",
        "\n",
        "import os\n",
        "import matplotlib.pyplot as plt\n",
        "\n",
        "import tensorflow as tf\n",
        "import tensorflow.contrib.eager as tfe\n",
        "\n",
        "tf.enable_eager_execution()\n",
        "\n",
        "print (tf.executing_eagerly())"
      ],
      "execution_count": 2,
      "outputs": [
        {
          "output_type": "stream",
          "text": [
            "True\n"
          ],
          "name": "stdout"
        }
      ]
    },
    {
      "metadata": {
        "id": "RzjQEAgIlXo2",
        "colab_type": "code",
        "colab": {
          "base_uri": "https://localhost:8080/",
          "height": 74
        },
        "outputId": "7940bfac-26f8-47c2-bf5e-6e0923b0b91b"
      },
      "cell_type": "code",
      "source": [
        "train_dataset_url='http://download.tensorflow.org/data/iris_training.csv'\n",
        "train_dataset_fp=tf.keras.utils.get_file(fname=os.path.basename(train_dataset_url),\n",
        "                                        origin=train_dataset_url)\n",
        "print(train_dataset_fp)"
      ],
      "execution_count": 3,
      "outputs": [
        {
          "output_type": "stream",
          "text": [
            "Downloading data from http://download.tensorflow.org/data/iris_training.csv\n",
            "\r8192/2194 [================================================================================================================] - 0s 0us/step\n",
            "/root/.keras/datasets/iris_training.csv\n"
          ],
          "name": "stdout"
        }
      ]
    },
    {
      "metadata": {
        "id": "ECOpnC4xn2nK",
        "colab_type": "code",
        "colab": {
          "base_uri": "https://localhost:8080/",
          "height": 111
        },
        "outputId": "fcd61a24-d1bd-45f2-d1d3-f9887e79e4a5"
      },
      "cell_type": "code",
      "source": [
        "!head -n5 {train_dataset_fp}"
      ],
      "execution_count": 5,
      "outputs": [
        {
          "output_type": "stream",
          "text": [
            "120,4,setosa,versicolor,virginica\n",
            "6.4,2.8,5.6,2.2,2\n",
            "5.0,2.3,3.3,1.0,1\n",
            "4.9,2.5,4.5,1.7,2\n",
            "4.9,3.1,1.5,0.1,0\n"
          ],
          "name": "stdout"
        }
      ]
    },
    {
      "metadata": {
        "id": "B-KML2JtoZq8",
        "colab_type": "code",
        "colab": {
          "base_uri": "https://localhost:8080/",
          "height": 55
        },
        "outputId": "742a2ef6-f4f7-4c77-84cf-bb7a86c99c8d"
      },
      "cell_type": "code",
      "source": [
        "column_names=['sepal_length','sepal_width','petal_length','petal_width','species']\n",
        "\n",
        "feature_names=column_names[:-1]\n",
        "label_name=column_names[-1]\n",
        "\n",
        "print(feature_names)\n",
        "print(label_name)"
      ],
      "execution_count": 6,
      "outputs": [
        {
          "output_type": "stream",
          "text": [
            "['sepal_length', 'sepal_width', 'petal_length', 'petal_width']\n",
            "species\n"
          ],
          "name": "stdout"
        }
      ]
    },
    {
      "metadata": {
        "id": "t1H3tTvIpoPD",
        "colab_type": "code",
        "colab": {}
      },
      "cell_type": "code",
      "source": [
        "class_names=['setosa','versicolor','virginica']"
      ],
      "execution_count": 0,
      "outputs": []
    },
    {
      "metadata": {
        "id": "nTG_ALv3qCfa",
        "colab_type": "code",
        "colab": {}
      },
      "cell_type": "code",
      "source": [
        "batch_size=32\n",
        "\n",
        "train_dataset=tf.contrib.data.make_csv_dataset(\n",
        "  train_dataset_fp,\n",
        "  batch_size,\n",
        "  column_names=column_names,\n",
        "  label_name=label_name,\n",
        "  num_epochs=1)\n"
      ],
      "execution_count": 0,
      "outputs": []
    },
    {
      "metadata": {
        "id": "KojXajgLrOUB",
        "colab_type": "code",
        "colab": {
          "base_uri": "https://localhost:8080/",
          "height": 394
        },
        "outputId": "129cc156-b7be-47e3-b099-0b5d013dde3b"
      },
      "cell_type": "code",
      "source": [
        "features,labels=next(iter(train_dataset))\n",
        "features"
      ],
      "execution_count": 11,
      "outputs": [
        {
          "output_type": "execute_result",
          "data": {
            "text/plain": [
              "OrderedDict([('sepal_length',\n",
              "              <tf.Tensor: id=108, shape=(32,), dtype=float32, numpy=\n",
              "              array([5.4, 5.7, 4.9, 4.7, 5.4, 6.9, 4.5, 4.6, 7.2, 6.4, 5. , 7.7, 5.4,\n",
              "                     5. , 6.5, 5. , 6.5, 5. , 5. , 6.2, 6.2, 4.4, 5.1, 6.3, 6. , 4.8,\n",
              "                     4.7, 6. , 5. , 5. , 4.6, 5.7], dtype=float32)>),\n",
              "             ('sepal_width',\n",
              "              <tf.Tensor: id=109, shape=(32,), dtype=float32, numpy=\n",
              "              array([3. , 3. , 3.1, 3.2, 3.4, 3.2, 2.3, 3.2, 3.2, 2.8, 3. , 2.8, 3.7,\n",
              "                     3.5, 3.2, 2.3, 2.8, 3.4, 3.2, 2.8, 2.2, 2.9, 3.8, 2.5, 2.7, 3.4,\n",
              "                     3.2, 3. , 2. , 3.5, 3.4, 2.8], dtype=float32)>),\n",
              "             ('petal_length',\n",
              "              <tf.Tensor: id=106, shape=(32,), dtype=float32, numpy=\n",
              "              array([4.5, 4.2, 1.5, 1.6, 1.5, 5.7, 1.3, 1.4, 6. , 5.6, 1.6, 6.7, 1.5,\n",
              "                     1.6, 5.1, 3.3, 4.6, 1.5, 1.2, 4.8, 4.5, 1.4, 1.9, 5. , 5.1, 1.6,\n",
              "                     1.3, 4.8, 3.5, 1.3, 1.4, 4.1], dtype=float32)>),\n",
              "             ('petal_width',\n",
              "              <tf.Tensor: id=107, shape=(32,), dtype=float32, numpy=\n",
              "              array([1.5, 1.2, 0.1, 0.2, 0.4, 2.3, 0.3, 0.2, 1.8, 2.2, 0.2, 2. , 0.2,\n",
              "                     0.6, 2. , 1. , 1.5, 0.2, 0.2, 1.8, 1.5, 0.2, 0.4, 1.9, 1.6, 0.2,\n",
              "                     0.2, 1.8, 1. , 0.3, 0.3, 1.3], dtype=float32)>)])"
            ]
          },
          "metadata": {
            "tags": []
          },
          "execution_count": 11
        }
      ]
    },
    {
      "metadata": {
        "id": "GJCsVM67t48t",
        "colab_type": "code",
        "colab": {
          "base_uri": "https://localhost:8080/",
          "height": 380
        },
        "outputId": "b74b450a-2266-4949-ca3e-644c45887db1"
      },
      "cell_type": "code",
      "source": [
        "plt.scatter(features['petal_length'],\n",
        "           features['sepal_length'],\n",
        "           c=labels,\n",
        "           cmap='viridis')\n",
        "plt.xlabel(\"Petal length\")\n",
        "plt.ylabel('Sepal length')"
      ],
      "execution_count": 12,
      "outputs": [
        {
          "output_type": "execute_result",
          "data": {
            "text/plain": [
              "Text(0,0.5,'Sepal length')"
            ]
          },
          "metadata": {
            "tags": []
          },
          "execution_count": 12
        },
        {
          "output_type": "display_data",
          "data": {
            "image/png": "[encoded data removed]",
            "text/plain": [
              "<matplotlib.figure.Figure at 0x7f1b5e98d9b0>"
            ]
          },
          "metadata": {
            "tags": []
          }
        }
      ]
    },
    {
      "metadata": {
        "id": "r1JrxC6zvPm4",
        "colab_type": "code",
        "colab": {
          "base_uri": "https://localhost:8080/",
          "height": 130
        },
        "outputId": "39fd2f5d-0107-4de7-d440-7e33ab81d687"
      },
      "cell_type": "code",
      "source": [
        "def pack_features_vector(features,labels):\n",
        "  features=tf.stack(list(features.values()),axis=1)\n",
        "  return features,labels\n",
        "train_dataset=train_dataset.map(pack_features_vector)\n",
        "\n",
        "features,labels=next(iter(train_dataset))\n",
        "print(features[:5])"
      ],
      "execution_count": 13,
      "outputs": [
        {
          "output_type": "stream",
          "text": [
            "tf.Tensor(\n",
            "[[6.5 3.  5.8 2.2]\n",
            " [5.  3.2 1.2 0.2]\n",
            " [5.8 2.7 5.1 1.9]\n",
            " [5.8 2.6 4.  1.2]\n",
            " [7.7 2.8 6.7 2. ]], shape=(5, 4), dtype=float32)\n"
          ],
          "name": "stdout"
        }
      ]
    },
    {
      "metadata": {
        "id": "E7qjgyDcwX_1",
        "colab_type": "code",
        "colab": {}
      },
      "cell_type": "code",
      "source": [
        "model=tf.keras.Sequential([\n",
        "    tf.keras.layers.Dense(10,activation=tf.nn.relu,input_shape=(4,)),\n",
        "    tf.keras.layers.Dense(10,activation=tf.nn.relu),\n",
        "    tf.keras.layers.Dense(3)\n",
        "])\n"
      ],
      "execution_count": 0,
      "outputs": []
    },
    {
      "metadata": {
        "id": "RZdIkysQ2aAH",
        "colab_type": "code",
        "colab": {
          "base_uri": "https://localhost:8080/",
          "height": 130
        },
        "outputId": "ada26663-1735-49a4-82a6-1016ca544717"
      },
      "cell_type": "code",
      "source": [
        "predictions=model(features)\n",
        "predictions[:5]"
      ],
      "execution_count": 15,
      "outputs": [
        {
          "output_type": "execute_result",
          "data": {
            "text/plain": [
              "<tf.Tensor: id=255, shape=(5, 3), dtype=float32, numpy=\n",
              "array([[ 0.03561166,  0.21391368, -3.4287226 ],\n",
              "       [ 0.45951807,  0.18680882, -2.0883331 ],\n",
              "       [ 0.03365034,  0.1872369 , -3.052793  ],\n",
              "       [ 0.06727913,  0.16299808, -2.8741183 ],\n",
              "       [ 0.00605261,  0.2711463 , -3.8804536 ]], dtype=float32)>"
            ]
          },
          "metadata": {
            "tags": []
          },
          "execution_count": 15
        }
      ]
    },
    {
      "metadata": {
        "id": "I7NYJfpG2hE_",
        "colab_type": "code",
        "colab": {
          "base_uri": "https://localhost:8080/",
          "height": 55
        },
        "outputId": "2302ccaf-1af8-4bb6-e98c-21bdde7136b0"
      },
      "cell_type": "code",
      "source": [
        "tf.nn.softmax(predictions[:5])\n",
        "print(tf.argmax(predictions,axis=1))\n",
        "print(labels)"
      ],
      "execution_count": 18,
      "outputs": [
        {
          "output_type": "stream",
          "text": [
            "tf.Tensor([1 0 1 1 1 1 0 0 1 1 1 1 0 0 1 0 1 1 1 1 1 1 0 0 0 1 1 1 1 0 1 0], shape=(32,), dtype=int64)\n",
            "tf.Tensor([2 0 2 1 2 1 0 0 1 1 2 1 0 0 1 0 1 1 2 2 2 2 0 0 0 2 1 1 2 0 2 0], shape=(32,), dtype=int32)\n"
          ],
          "name": "stdout"
        }
      ]
    },
    {
      "metadata": {
        "id": "DlA3__c12vgr",
        "colab_type": "code",
        "colab": {
          "base_uri": "https://localhost:8080/",
          "height": 36
        },
        "outputId": "ffd460c7-7e1c-4e36-e2b8-ba88627e29b7"
      },
      "cell_type": "code",
      "source": [
        "def loss(model,x,y):\n",
        "  y_=model(x)\n",
        "  return tf.losses.sparse_softmax_cross_entropy(labels=y,logits=y_)\n",
        "\n",
        "l=loss(model,features,labels)\n",
        "print(format(l))"
      ],
      "execution_count": 21,
      "outputs": [
        {
          "output_type": "stream",
          "text": [
            "1.8859347105026245\n"
          ],
          "name": "stdout"
        }
      ]
    },
    {
      "metadata": {
        "id": "B2CXrMRD7LmU",
        "colab_type": "code",
        "colab": {}
      },
      "cell_type": "code",
      "source": [
        "def grad(model,inputs,targets):\n",
        "  with tf.GradientTape() as tape:\n",
        "    loss_value=loss(model,inputs,targets)\n",
        "  return loss_value,tape.gradient(loss_value,model.trainable_variables)"
      ],
      "execution_count": 0,
      "outputs": []
    },
    {
      "metadata": {
        "id": "0mHKXiRU76he",
        "colab_type": "code",
        "colab": {
          "base_uri": "https://localhost:8080/",
          "height": 55
        },
        "outputId": "17dad71d-f8d9-4da3-a357-4b6b8284b2dd"
      },
      "cell_type": "code",
      "source": [
        "optimizer=tf.train.GradientDescentOptimizer(learning_rate=0.01)\n",
        "global_step=tf.train.get_or_create_global_step()\n",
        "\n",
        "loss_value,grads=grad(model,features,labels)\n",
        "print((global_step.numpy(),\n",
        "            loss_value.numpy()))\n",
        "optimizer.apply_gradients(zip(grads,model.variables),global_step)\n",
        "print((global_step.numpy(),\n",
        "            loss(model,features,labels).numpy()))"
      ],
      "execution_count": 26,
      "outputs": [
        {
          "output_type": "stream",
          "text": [
            "(1, 1.6057882)\n",
            "(2, 1.3783455)\n"
          ],
          "name": "stdout"
        }
      ]
    },
    {
      "metadata": {
        "id": "w7Mu1TWW9qpB",
        "colab_type": "code",
        "colab": {
          "base_uri": "https://localhost:8080/",
          "height": 111
        },
        "outputId": "d9b15577-48d7-45c1-ae9c-7987c0e51bce"
      },
      "cell_type": "code",
      "source": [
        "train_loss_results=[]\n",
        "train_accuracy_results=[]\n",
        "\n",
        "num_epochs=201\n",
        "\n",
        "for epoch in range(num_epochs):\n",
        "  epoch_loss_avg=tfe.metrics.Mean()\n",
        "  epoch_accuracy=tfe.metrics.Accuracy()\n",
        "  \n",
        "  for x,y in train_dataset:\n",
        "    loss_value,grads=grad(model,x,y)\n",
        "    optimizer.apply_gradients(zip(grads,model.variables),\n",
        "                             global_step)\n",
        "    \n",
        "    epoch_loss_avg(loss_value)\n",
        "    epoch_accuracy(tf.argmax(model(x),axis=1,output_type=tf.int32),y)\n",
        "    \n",
        "  train_loss_results.append(epoch_loss_avg.result())\n",
        "  train_accuracy_results.append(epoch_accuracy.result())\n",
        "  \n",
        "  if epoch %50 ==0:\n",
        "    print(format(epoch),format(epoch_loss_avg.result()),format(epoch_accuracy.result()))"
      ],
      "execution_count": 31,
      "outputs": [
        {
          "output_type": "stream",
          "text": [
            "0 3.379836916923523 0.6\n",
            "50 0.5401478856801987 0.7\n",
            "100 0.30955399945378304 0.9666666666666667\n",
            "150 0.19919445738196373 0.975\n",
            "200 0.14157757349312305 0.9833333333333333\n"
          ],
          "name": "stdout"
        }
      ]
    },
    {
      "metadata": {
        "id": "it_vljF8-BRn",
        "colab_type": "code",
        "colab": {
          "base_uri": "https://localhost:8080/",
          "height": 577
        },
        "outputId": "1e3781fb-e5af-4e22-c63d-995f18d294d7"
      },
      "cell_type": "code",
      "source": [
        "fig,axes=plt.subplots(2,sharex=True,figsize=(12,8))\n",
        "fig.suptitle(\"Training Metrics\")\n",
        "\n",
        "axes[0].set_ylabel(\"loss\",fontsize=14)\n",
        "axes[0].plot(train_loss_results)\n",
        "\n",
        "axes[1].set_ylabel(\"Accuracy\",fontsize=14)\n",
        "axes[1].set_xlabel(\"Epoch\",fontsize=14)\n",
        "axes[1].plot(train_accuracy_results)\n"
      ],
      "execution_count": 44,
      "outputs": [
        {
          "output_type": "execute_result",
          "data": {
            "text/plain": [
              "[<matplotlib.lines.Line2D at 0x7f1b5a885ac8>]"
            ]
          },
          "metadata": {
            "tags": []
          },
          "execution_count": 44
        },
        {
          "output_type": "display_data",
          "data": {
            "image/png": "[encoded data removed]",
            "text/plain": [
              "<matplotlib.figure.Figure at 0x7f1b5a8f8c18>"
            ]
          },
          "metadata": {
            "tags": []
          }
        }
      ]
    },
    {
      "metadata": {
        "id": "xtwJ3DN3D0pP",
        "colab_type": "code",
        "colab": {
          "base_uri": "https://localhost:8080/",
          "height": 75
        },
        "outputId": "6f48de11-feb5-43ca-d111-26df8677edf3"
      },
      "cell_type": "code",
      "source": [
        "test_url=\"http://download.tensorflow.org/data/iris_test.csv\"\n",
        "test_fp=tf.keras.utils.get_file(fname=os.path.basename(test_url),\n",
        "                               origin=test_url)"
      ],
      "execution_count": 45,
      "outputs": [
        {
          "output_type": "stream",
          "text": [
            "Downloading data from http://download.tensorflow.org/data/iris_test.csv\n",
            "\r8192/573 [============================================================================================================================================================================================================================================================================================================================================================================================================================================] - 0s 0us/step\n"
          ],
          "name": "stdout"
        }
      ]
    },
    {
      "metadata": {
        "id": "E2Mt7cYbIuza",
        "colab_type": "code",
        "colab": {}
      },
      "cell_type": "code",
      "source": [
        "test_dataset=tf.contrib.data.make_csv_dataset(\n",
        "test_fp,\n",
        "batch_size,\n",
        "column_names=column_names,\n",
        "label_name='species',\n",
        "num_epochs=1,\n",
        "shuffle=False)\n",
        "\n",
        "test_dataset=test_dataset.map(pack_features_vector)"
      ],
      "execution_count": 0,
      "outputs": []
    },
    {
      "metadata": {
        "id": "oplZYQm_JX-4",
        "colab_type": "code",
        "colab": {
          "base_uri": "https://localhost:8080/",
          "height": 36
        },
        "outputId": "96f4addf-aab0-42e9-b136-9ab506e157e2"
      },
      "cell_type": "code",
      "source": [
        "test_accuracy=tfe.metrics.Accuracy()\n",
        "\n",
        "for (x,y) in test_dataset:\n",
        "  logits=model(x)\n",
        "  prediction=tf.argmax(logits,axis=1,output_type=tf.int32)\n",
        "  test_accuracy(prediction,y)\n",
        "  \n",
        "print(format(test_accuracy.result()))"
      ],
      "execution_count": 48,
      "outputs": [
        {
          "output_type": "stream",
          "text": [
            "0.9333333333333333\n"
          ],
          "name": "stdout"
        }
      ]
    },
    {
      "metadata": {
        "id": "AizCs6c2J6am",
        "colab_type": "code",
        "colab": {
          "base_uri": "https://localhost:8080/",
          "height": 74
        },
        "outputId": "db38bf68-3a98-4e9b-d28a-d38a3d9640fb"
      },
      "cell_type": "code",
      "source": [
        "predict_dataset=tf.convert_to_tensor([\n",
        "    [5.1,3.3,1.7,0.5,],\n",
        "    [5.9,3.0,4.2,1.5,],\n",
        "    [6.9,3.1,5.4,2.1]\n",
        "])\n",
        "\n",
        "predictions=model(predict_dataset)\n",
        "\n",
        "for i,logits in enumerate(predictions):\n",
        "  class_idx=tf.argmax(logits).numpy()\n",
        "  p=tf.nn.softmax(logits)[class_idx]\n",
        "  name=class_names[class_idx]\n",
        "  print(\"Example {} prediction:{}({:4.1f}%)\".format(i,name,100*p))"
      ],
      "execution_count": 49,
      "outputs": [
        {
          "output_type": "stream",
          "text": [
            "Example 0 prediction:setosa(96.6%)\n",
            "Example 1 prediction:versicolor(81.3%)\n",
            "Example 2 prediction:virginica(82.9%)\n"
          ],
          "name": "stdout"
        }
      ]
    },
    {
      "metadata": {
        "id": "GutVfXTsLqRU",
        "colab_type": "code",
        "colab": {}
      },
      "cell_type": "code",
      "source": [
        ""
      ],
      "execution_count": 0,
      "outputs": []
    }
  ]
}