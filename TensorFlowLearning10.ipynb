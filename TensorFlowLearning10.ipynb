{
  "nbformat": 4,
  "nbformat_minor": 0,
  "metadata": {
    "colab": {
      "name": "TensorFlowLearning10.ipynb",
      "version": "0.3.2",
      "provenance": [],
      "include_colab_link": true
    },
    "kernelspec": {
      "name": "python3",
      "display_name": "Python 3"
    }
  },
  "cells": [
    {
      "cell_type": "markdown",
      "metadata": {
        "id": "view-in-github",
        "colab_type": "text"
      },
      "source": [
        "[View in Colaboratory](https://colab.research.google.com/github/HUSTneeb/GoogleColabCode/blob/master/TensorFlowLearning10.ipynb)"
      ]
    },
    {
      "metadata": {
        "id": "dxKa-zvDh9dY",
        "colab_type": "code",
        "colab": {
          "base_uri": "https://localhost:8080/",
          "height": 36
        },
        "outputId": "a6d2a873-e27d-40ca-ddce-d500defcce84"
      },
      "cell_type": "code",
      "source": [
        "from __future__ import absolute_import,division,print_function\n",
        "\n",
        "import os\n",
        "import matplotlib.pyplot as plt\n",
        "\n",
        "import tensorflow as tf\n",
        "import tensorflow.contrib.eager as tfe\n",
        "\n",
        "tf.enable_eager_execution()\n",
        "\n",
        "print (tf.executing_eagerly())"
      ],
      "execution_count": 2,
      "outputs": [
        {
          "output_type": "stream",
          "text": [
            "True\n"
          ],
          "name": "stdout"
        }
      ]
    },
    {
      "metadata": {
        "id": "RzjQEAgIlXo2",
        "colab_type": "code",
        "colab": {
          "base_uri": "https://localhost:8080/",
          "height": 74
        },
        "outputId": "7940bfac-26f8-47c2-bf5e-6e0923b0b91b"
      },
      "cell_type": "code",
      "source": [
        "train_dataset_url='http://download.tensorflow.org/data/iris_training.csv'\n",
        "train_dataset_fp=tf.keras.utils.get_file(fname=os.path.basename(train_dataset_url),\n",
        "                                        origin=train_dataset_url)\n",
        "print(train_dataset_fp)"
      ],
      "execution_count": 3,
      "outputs": [
        {
          "output_type": "stream",
          "text": [
            "Downloading data from http://download.tensorflow.org/data/iris_training.csv\n",
            "\r8192/2194 [================================================================================================================] - 0s 0us/step\n",
            "/root/.keras/datasets/iris_training.csv\n"
          ],
          "name": "stdout"
        }
      ]
    },
    {
      "metadata": {
        "id": "ECOpnC4xn2nK",
        "colab_type": "code",
        "colab": {
          "base_uri": "https://localhost:8080/",
          "height": 111
        },
        "outputId": "fcd61a24-d1bd-45f2-d1d3-f9887e79e4a5"
      },
      "cell_type": "code",
      "source": [
        "!head -n5 {train_dataset_fp}"
      ],
      "execution_count": 5,
      "outputs": [
        {
          "output_type": "stream",
          "text": [
            "120,4,setosa,versicolor,virginica\n",
            "6.4,2.8,5.6,2.2,2\n",
            "5.0,2.3,3.3,1.0,1\n",
            "4.9,2.5,4.5,1.7,2\n",
            "4.9,3.1,1.5,0.1,0\n"
          ],
          "name": "stdout"
        }
      ]
    },
    {
      "metadata": {
        "id": "B-KML2JtoZq8",
        "colab_type": "code",
        "colab": {
          "base_uri": "https://localhost:8080/",
          "height": 55
        },
        "outputId": "742a2ef6-f4f7-4c77-84cf-bb7a86c99c8d"
      },
      "cell_type": "code",
      "source": [
        "column_names=['sepal_length','sepal_width','petal_length','petal_width','species']\n",
        "\n",
        "feature_names=column_names[:-1]\n",
        "label_name=column_names[-1]\n",
        "\n",
        "print(feature_names)\n",
        "print(label_name)"
      ],
      "execution_count": 6,
      "outputs": [
        {
          "output_type": "stream",
          "text": [
            "['sepal_length', 'sepal_width', 'petal_length', 'petal_width']\n",
            "species\n"
          ],
          "name": "stdout"
        }
      ]
    },
    {
      "metadata": {
        "id": "t1H3tTvIpoPD",
        "colab_type": "code",
        "colab": {}
      },
      "cell_type": "code",
      "source": [
        "class_names=['setosa','versicolor','virginica']"
      ],
      "execution_count": 0,
      "outputs": []
    },
    {
      "metadata": {
        "id": "nTG_ALv3qCfa",
        "colab_type": "code",
        "colab": {}
      },
      "cell_type": "code",
      "source": [
        "batch_size=32\n",
        "\n",
        "train_dataset=tf.contrib.data.make_csv_dataset(\n",
        "  train_dataset_fp,\n",
        "  batch_size,\n",
        "  column_names=column_names,\n",
        "  label_name=label_name,\n",
        "  num_epochs=1)\n"
      ],
      "execution_count": 0,
      "outputs": []
    },
    {
      "metadata": {
        "id": "KojXajgLrOUB",
        "colab_type": "code",
        "colab": {
          "base_uri": "https://localhost:8080/",
          "height": 394
        },
        "outputId": "129cc156-b7be-47e3-b099-0b5d013dde3b"
      },
      "cell_type": "code",
      "source": [
        "features,labels=next(iter(train_dataset))\n",
        "features"
      ],
      "execution_count": 11,
      "outputs": [
        {
          "output_type": "execute_result",
          "data": {
            "text/plain": [
              "OrderedDict([('sepal_length',\n",
              "              <tf.Tensor: id=108, shape=(32,), dtype=float32, numpy=\n",
              "              array([5.4, 5.7, 4.9, 4.7, 5.4, 6.9, 4.5, 4.6, 7.2, 6.4, 5. , 7.7, 5.4,\n",
              "                     5. , 6.5, 5. , 6.5, 5. , 5. , 6.2, 6.2, 4.4, 5.1, 6.3, 6. , 4.8,\n",
              "                     4.7, 6. , 5. , 5. , 4.6, 5.7], dtype=float32)>),\n",
              "             ('sepal_width',\n",
              "              <tf.Tensor: id=109, shape=(32,), dtype=float32, numpy=\n",
              "              array([3. , 3. , 3.1, 3.2, 3.4, 3.2, 2.3, 3.2, 3.2, 2.8, 3. , 2.8, 3.7,\n",
              "                     3.5, 3.2, 2.3, 2.8, 3.4, 3.2, 2.8, 2.2, 2.9, 3.8, 2.5, 2.7, 3.4,\n",
              "                     3.2, 3. , 2. , 3.5, 3.4, 2.8], dtype=float32)>),\n",
              "             ('petal_length',\n",
              "              <tf.Tensor: id=106, shape=(32,), dtype=float32, numpy=\n",
              "              array([4.5, 4.2, 1.5, 1.6, 1.5, 5.7, 1.3, 1.4, 6. , 5.6, 1.6, 6.7, 1.5,\n",
              "                     1.6, 5.1, 3.3, 4.6, 1.5, 1.2, 4.8, 4.5, 1.4, 1.9, 5. , 5.1, 1.6,\n",
              "                     1.3, 4.8, 3.5, 1.3, 1.4, 4.1], dtype=float32)>),\n",
              "             ('petal_width',\n",
              "              <tf.Tensor: id=107, shape=(32,), dtype=float32, numpy=\n",
              "              array([1.5, 1.2, 0.1, 0.2, 0.4, 2.3, 0.3, 0.2, 1.8, 2.2, 0.2, 2. , 0.2,\n",
              "                     0.6, 2. , 1. , 1.5, 0.2, 0.2, 1.8, 1.5, 0.2, 0.4, 1.9, 1.6, 0.2,\n",
              "                     0.2, 1.8, 1. , 0.3, 0.3, 1.3], dtype=float32)>)])"
            ]
          },
          "metadata": {
            "tags": []
          },
          "execution_count": 11
        }
      ]
    },
    {
      "metadata": {
        "id": "GJCsVM67t48t",
        "colab_type": "code",
        "colab": {
          "base_uri": "https://localhost:8080/",
          "height": 380
        },
        "outputId": "b74b450a-2266-4949-ca3e-644c45887db1"
      },
      "cell_type": "code",
      "source": [
        "plt.scatter(features['petal_length'],\n",
        "           features['sepal_length'],\n",
        "           c=labels,\n",
        "           cmap='viridis')\n",
        "plt.xlabel(\"Petal length\")\n",
        "plt.ylabel('Sepal length')"
      ],
      "execution_count": 12,
      "outputs": [
        {
          "output_type": "execute_result",
          "data": {
            "text/plain": [
              "Text(0,0.5,'Sepal length')"
            ]
          },
          "metadata": {
            "tags": []
          },
          "execution_count": 12
        },
        {
          "output_type": "display_data",
          "data": {
            "image/png": "[encoded data removed]",
            "text/plain": [
              "<matplotlib.figure.Figure at 0x7f1b5e98d9b0>"
            ]
          },
          "metadata": {
            "tags": []
          }
        }
      ]
    },
    {
      "metadata": {
        "id": "r1JrxC6zvPm4",
        "colab_type": "code",
        "colab": {
          "base_uri": "https://localhost:8080/",
          "height": 130
        },
        "outputId": "39fd2f5d-0107-4de7-d440-7e33ab81d687"
      },
      "cell_type": "code",
      "source": [
        "def pack_features_vector(features,labels):\n",
        "  features=tf.stack(list(features.values()),axis=1)\n",
        "  return features,labels\n",
        "train_dataset=train_dataset.map(pack_features_vector)\n",
        "\n",
        "features,labels=next(iter(train_dataset))\n",
        "print(features[:5])"
      ],
      "execution_count": 13,
      "outputs": [
        {
          "output_type": "stream",
          "text": [
            "tf.Tensor(\n",
            "[[6.5 3.  5.8 2.2]\n",
            " [5.  3.2 1.2 0.2]\n",
            " [5.8 2.7 5.1 1.9]\n",
            " [5.8 2.6 4.  1.2]\n",
            " [7.7 2.8 6.7 2. ]], shape=(5, 4), dtype=float32)\n"
          ],
          "name": "stdout"
        }
      ]
    },
    {
      "metadata": {
        "id": "E7qjgyDcwX_1",
        "colab_type": "code",
        "colab": {}
      },
      "cell_type": "code",
      "source": [
        "model=tf.keras.Sequential([\n",
        "    tf.keras.layers.Dense(10,activation=tf.nn.relu,input_shape=(4,)),\n",
        "    tf.keras.layers.Dense(10,activation=tf.nn.relu),\n",
        "    tf.keras.layers.Dense(3)\n",
        "])\n"
      ],
      "execution_count": 0,
      "outputs": []
    },
    {
      "metadata": {
        "id": "RZdIkysQ2aAH",
        "colab_type": "code",
        "colab": {
          "base_uri": "https://localhost:8080/",
          "height": 130
        },
        "outputId": "ada26663-1735-49a4-82a6-1016ca544717"
      },
      "cell_type": "code",
      "source": [
        "predictions=model(features)\n",
        "predictions[:5]"
      ],
      "execution_count": 15,
      "outputs": [
        {
          "output_type": "execute_result",
          "data": {
            "text/plain": [
              "<tf.Tensor: id=255, shape=(5, 3), dtype=float32, numpy=\n",
              "array([[ 0.03561166,  0.21391368, -3.4287226 ],\n",
              "       [ 0.45951807,  0.18680882, -2.0883331 ],\n",
              "       [ 0.03365034,  0.1872369 , -3.052793  ],\n",
              "       [ 0.06727913,  0.16299808, -2.8741183 ],\n",
              "       [ 0.00605261,  0.2711463 , -3.8804536 ]], dtype=float32)>"
            ]
          },
          "metadata": {
            "tags": []
          },
          "execution_count": 15
        }
      ]
    },
    {
      "metadata": {
        "id": "I7NYJfpG2hE_",
        "colab_type": "code",
        "colab": {
          "base_uri": "https://localhost:8080/",
          "height": 55
        },
        "outputId": "2302ccaf-1af8-4bb6-e98c-21bdde7136b0"
      },
      "cell_type": "code",
      "source": [
        "tf.nn.softmax(predictions[:5])\n",
        "print(tf.argmax(predictions,axis=1))\n",
        "print(labels)"
      ],
      "execution_count": 18,
      "outputs": [
        {
          "output_type": "stream",
          "text": [
            "tf.Tensor([1 0 1 1 1 1 0 0 1 1 1 1 0 0 1 0 1 1 1 1 1 1 0 0 0 1 1 1 1 0 1 0], shape=(32,), dtype=int64)\n",
            "tf.Tensor([2 0 2 1 2 1 0 0 1 1 2 1 0 0 1 0 1 1 2 2 2 2 0 0 0 2 1 1 2 0 2 0], shape=(32,), dtype=int32)\n"
          ],
          "name": "stdout"
        }
      ]
    },
    {
      "metadata": {
        "id": "DlA3__c12vgr",
        "colab_type": "code",
        "colab": {
          "base_uri": "https://localhost:8080/",
          "height": 36
        },
        "outputId": "ffd460c7-7e1c-4e36-e2b8-ba88627e29b7"
      },
      "cell_type": "code",
      "source": [
        "def loss(model,x,y):\n",
        "  y_=model(x)\n",
        "  return tf.losses.sparse_softmax_cross_entropy(labels=y,logits=y_)\n",
        "\n",
        "l=loss(model,features,labels)\n",
        "print(format(l))"
      ],
      "execution_count": 21,
      "outputs": [
        {
          "output_type": "stream",
          "text": [
            "1.8859347105026245\n"
          ],
          "name": "stdout"
        }
      ]
    },
    {
      "metadata": {
        "id": "B2CXrMRD7LmU",
        "colab_type": "code",
        "colab": {}
      },
      "cell_type": "code",
      "source": [
        "def grad(model,inputs,targets):\n",
        "  with tf.GradientTape() as tape:\n",
        "    loss_value=loss(model,inputs,targets)\n",
        "  return loss_value,tape.gradient(loss_value,model.trainable_variables)"
      ],
      "execution_count": 0,
      "outputs": []
    },
    {
      "metadata": {
        "id": "0mHKXiRU76he",
        "colab_type": "code",
        "colab": {}
      },
      "cell_type": "code",
      "source": [
        "optimizer=tf.train.GradientDescentOptimizer(learning_rate=0.01)\n",
        "global_step=tf.train.get_or_create_global_step()\n",
        "\n",
        "loss_value,grads=grad(model,features,labels)\n",
        "print(format(global_step.numpy(),\n",
        "            loss_value.numpy()))\n",
        "optimizer.apply_gradients(zip(grads,model.variables),global_step)\n",
        "print(format(global_step.numpy(),\n",
        "            loss(model,features,labels.numpy())))"
      ],
      "execution_count": 0,
      "outputs": []
    },
    {
      "metadata": {
        "id": "w7Mu1TWW9qpB",
        "colab_type": "code",
        "colab": {}
      },
      "cell_type": "code",
      "source": [
        ""
      ],
      "execution_count": 0,
      "outputs": []
    },
    {
      "metadata": {
        "id": "it_vljF8-BRn",
        "colab_type": "code",
        "colab": {}
      },
      "cell_type": "code",
      "source": [
        ""
      ],
      "execution_count": 0,
      "outputs": []
    }
  ]
}