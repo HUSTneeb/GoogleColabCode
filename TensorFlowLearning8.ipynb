{
  "nbformat": 4,
  "nbformat_minor": 0,
  "metadata": {
    "colab": {
      "name": "TensorFlowLearning8.ipynb",
      "version": "0.3.2",
      "provenance": [],
      "include_colab_link": true
    },
    "kernelspec": {
      "name": "python3",
      "display_name": "Python 3"
    }
  },
  "cells": [
    {
      "cell_type": "markdown",
      "metadata": {
        "id": "view-in-github",
        "colab_type": "text"
      },
      "source": [
        "[View in Colaboratory](https://colab.research.google.com/github/HUSTneeb/GoogleColabCode/blob/master/TensorFlowLearning8.ipynb)"
      ]
    },
    {
      "metadata": {
        "id": "CHNEPtbgtApE",
        "colab_type": "code",
        "colab": {
          "base_uri": "https://localhost:8080/",
          "height": 225
        },
        "outputId": "f1699e6e-cee2-4e7c-b70c-bd10988eee67"
      },
      "cell_type": "code",
      "source": [
        "import tensorflow as tf\n",
        "tfe=tf.contrib.eager\n",
        "tf.enable_eager_execution()\n",
        "\n",
        "x=tf.zeros([10,10])\n",
        "x+=2\n",
        "print(x)"
      ],
      "execution_count": 1,
      "outputs": [
        {
          "output_type": "stream",
          "text": [
            "tf.Tensor(\n",
            "[[2. 2. 2. 2. 2. 2. 2. 2. 2. 2.]\n",
            " [2. 2. 2. 2. 2. 2. 2. 2. 2. 2.]\n",
            " [2. 2. 2. 2. 2. 2. 2. 2. 2. 2.]\n",
            " [2. 2. 2. 2. 2. 2. 2. 2. 2. 2.]\n",
            " [2. 2. 2. 2. 2. 2. 2. 2. 2. 2.]\n",
            " [2. 2. 2. 2. 2. 2. 2. 2. 2. 2.]\n",
            " [2. 2. 2. 2. 2. 2. 2. 2. 2. 2.]\n",
            " [2. 2. 2. 2. 2. 2. 2. 2. 2. 2.]\n",
            " [2. 2. 2. 2. 2. 2. 2. 2. 2. 2.]\n",
            " [2. 2. 2. 2. 2. 2. 2. 2. 2. 2.]], shape=(10, 10), dtype=float32)\n"
          ],
          "name": "stdout"
        }
      ]
    },
    {
      "metadata": {
        "id": "dBjGNCmdtSgK",
        "colab_type": "code",
        "colab": {}
      },
      "cell_type": "code",
      "source": [
        "v=tfe.Variable(1.0)\n",
        "assert v.numpy()==1.0\n",
        "\n",
        "v.assign(3.0)\n",
        "assert v.numpy()==3.0\n",
        "\n",
        "v.assign(tf.square(v))\n",
        "assert v.numpy()==9.0"
      ],
      "execution_count": 0,
      "outputs": []
    },
    {
      "metadata": {
        "id": "2Ey6cuGmtL33",
        "colab_type": "code",
        "colab": {}
      },
      "cell_type": "code",
      "source": [
        "class Model():\n",
        "  def __init__(self):\n",
        "    self.W=tfe.Variable(5.0)\n",
        "    self.b=tfe.Variable(0.0)\n",
        "    \n",
        "  def __call__(self,x):\n",
        "    return self.W*x+self.b\n",
        "  \n",
        "model=Model()\n",
        "assert model(3.0).numpy()==15.0"
      ],
      "execution_count": 0,
      "outputs": []
    },
    {
      "metadata": {
        "id": "Dz39MAcTy8vQ",
        "colab_type": "code",
        "colab": {}
      },
      "cell_type": "code",
      "source": [
        "def loss_function(predicted_y,desired_y):\n",
        "  return tf.reduce_mean(tf.square(predicted_y-desired_y))"
      ],
      "execution_count": 0,
      "outputs": []
    },
    {
      "metadata": {
        "id": "LYnvmvy31GV_",
        "colab_type": "code",
        "colab": {}
      },
      "cell_type": "code",
      "source": [
        "TRUE_W=3.0\n",
        "TRUE_b=2.0\n",
        "NUM_EXAMPLES=1000\n",
        "\n",
        "inputs=tf.random_normal(shape=[NUM_EXAMPLES])\n",
        "noise=tf.random_normal(shape=[NUM_EXAMPLES])\n",
        "outputs=inputs*TRUE_W +TRUE_b+noise\n"
      ],
      "execution_count": 0,
      "outputs": []
    },
    {
      "metadata": {
        "id": "SxswkeNE16D3",
        "colab_type": "code",
        "colab": {
          "base_uri": "https://localhost:8080/",
          "height": 385
        },
        "outputId": "ee20d414-9ad3-4af1-b8ef-5160c9b88954"
      },
      "cell_type": "code",
      "source": [
        "import matplotlib.pyplot as plt\n",
        "\n",
        "plt.scatter(inputs,outputs,c='b')\n",
        "plt.scatter(inputs,model(inputs),c='r')\n",
        "plt.show()\n",
        "\n",
        "print('Current loss: ')\n",
        "print(loss_function(model(inputs),outputs).numpy())"
      ],
      "execution_count": 9,
      "outputs": [
        {
          "output_type": "display_data",
          "data": {
            "image/png": "[encoded data removed]",
            "text/plain": [
              "<matplotlib.figure.Figure at 0x7fb34c7233c8>"
            ]
          },
          "metadata": {
            "tags": []
          }
        },
        {
          "output_type": "stream",
          "text": [
            "Current loss: \n",
            "8.921101\n"
          ],
          "name": "stdout"
        }
      ]
    },
    {
      "metadata": {
        "id": "kPML4bbl2dYB",
        "colab_type": "code",
        "colab": {}
      },
      "cell_type": "code",
      "source": [
        "def train(model,inputs,outputs,learning_rate):\n",
        "  with tf.GradientTape() as t:\n",
        "    current_loss=loss_function(model(inputs),outputs)\n",
        "  dW,db=t.gradient(current_loss,[model.W,model.b])\n",
        "  model.W.assign_sub(learning_rate*dW)\n",
        "  model.b.assign_sub(learning_rate*db)"
      ],
      "execution_count": 0,
      "outputs": []
    },
    {
      "metadata": {
        "id": "DVF6_U1g7sNB",
        "colab_type": "code",
        "colab": {
          "base_uri": "https://localhost:8080/",
          "height": 536
        },
        "outputId": "ca13dde8-fc38-4ee2-a026-6990bd3438a8"
      },
      "cell_type": "code",
      "source": [
        "model=Model()\n",
        "\n",
        "Ws,bs=[],[]\n",
        "epochs=range(10)\n",
        "for epoch in epochs:\n",
        "  Ws.append(model.W.numpy())\n",
        "  bs.append(model.b.numpy())\n",
        "  current_loss=loss_function(model(inputs),outputs)\n",
        "  \n",
        "  train(model,inputs,outputs,learning_rate=0.1)\n",
        "  print('Epoch %2d: W=%1.2f,b=%1.2f,loss=%2.5f'%\n",
        "       (epoch,Ws[-1],bs[-1],current_loss))\n",
        "  \n",
        "plt.plot(epochs,Ws,'r',\n",
        "        epochs,bs,'b')\n",
        "\n",
        "plt.plot([TRUE_W]*len(epochs),'r--',\n",
        "         [TRUE_b]*len(epochs),'b--')\n",
        "plt.legend(['W','b','true W','true_b'])\n",
        "plt.show()"
      ],
      "execution_count": 15,
      "outputs": [
        {
          "output_type": "stream",
          "text": [
            "Epoch  0: W=5.00,b=0.00,loss=8.92110\n",
            "Epoch  1: W=4.62,b=0.41,loss=6.07982\n",
            "Epoch  2: W=4.31,b=0.74,loss=4.25959\n",
            "Epoch  3: W=4.06,b=1.00,loss=3.09334\n",
            "Epoch  4: W=3.86,b=1.20,loss=2.34601\n",
            "Epoch  5: W=3.70,b=1.37,loss=1.86707\n",
            "Epoch  6: W=3.57,b=1.50,loss=1.56009\n",
            "Epoch  7: W=3.46,b=1.60,loss=1.36330\n",
            "Epoch  8: W=3.38,b=1.69,loss=1.23713\n",
            "Epoch  9: W=3.31,b=1.75,loss=1.15623\n"
          ],
          "name": "stdout"
        },
        {
          "output_type": "display_data",
          "data": {
            "image/png": "[encoded data removed]",
            "text/plain": [
              "<matplotlib.figure.Figure at 0x7fb34a61d320>"
            ]
          },
          "metadata": {
            "tags": []
          }
        }
      ]
    },
    {
      "metadata": {
        "id": "ubI7anZn9eT_",
        "colab_type": "code",
        "colab": {}
      },
      "cell_type": "code",
      "source": [
        ""
      ],
      "execution_count": 0,
      "outputs": []
    }
  ]
}