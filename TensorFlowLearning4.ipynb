{
  "nbformat": 4,
  "nbformat_minor": 0,
  "metadata": {
    "colab": {
      "name": "TensorFlowLearning4.ipynb",
      "version": "0.3.2",
      "provenance": [],
      "include_colab_link": true
    },
    "kernelspec": {
      "name": "python3",
      "display_name": "Python 3"
    }
  },
  "cells": [
    {
      "cell_type": "markdown",
      "metadata": {
        "id": "view-in-github",
        "colab_type": "text"
      },
      "source": [
        "[View in Colaboratory](https://colab.research.google.com/github/HUSTneeb/GoogleColabCode/blob/master/TensorFlowLearning4.ipynb)"
      ]
    },
    {
      "metadata": {
        "id": "DcvMs-vQFVpa",
        "colab_type": "code",
        "colab": {
          "base_uri": "https://localhost:8080/",
          "height": 36
        },
        "outputId": "f9e9f6cf-6389-4ec1-c370-b1208ecae21d"
      },
      "cell_type": "code",
      "source": [
        "import tensorflow as tf\n",
        "from tensorflow import keras\n",
        "\n",
        "import numpy as np\n",
        "import matplotlib.pyplot as plt\n",
        "\n",
        "print(tf.__version__)\n"
      ],
      "execution_count": 1,
      "outputs": [
        {
          "output_type": "stream",
          "text": [
            "1.11.0-rc2\n"
          ],
          "name": "stdout"
        }
      ]
    },
    {
      "metadata": {
        "id": "goiNkHDIFG9U",
        "colab_type": "code",
        "colab": {}
      },
      "cell_type": "code",
      "source": [
        "NUM_WORDS=10000\n",
        "\n",
        "(train_data,train_labels),(test_data,test_labels)=keras.datasets.imdb.load_data(num_words=NUM_WORDS)\n",
        "\n",
        "def multi_hot_sequences(sequences,dimension):\n",
        "  results=np.zeros((len(sequences),dimension))\n",
        "  for i,word_indices in enumerate(sequences):\n",
        "    results[i,word_indices]=1.0\n",
        "    \n",
        "  return results\n",
        "\n",
        "train_data=multi_hot_sequences(train_data,dimension=NUM_WORDS)\n",
        "test_data=multi_hot_sequences(test_data,dimension=NUM_WORDS)"
      ],
      "execution_count": 0,
      "outputs": []
    },
    {
      "metadata": {
        "id": "tkUtLzqkFhqC",
        "colab_type": "code",
        "colab": {
          "base_uri": "https://localhost:8080/",
          "height": 366
        },
        "outputId": "c2acacb1-73cc-4ef1-dc61-568236480a65"
      },
      "cell_type": "code",
      "source": [
        "plt.plot(train_data[0])"
      ],
      "execution_count": 4,
      "outputs": [
        {
          "output_type": "execute_result",
          "data": {
            "text/plain": [
              "[<matplotlib.lines.Line2D at 0x7f58817e6780>]"
            ]
          },
          "metadata": {
            "tags": []
          },
          "execution_count": 4
        },
        {
          "output_type": "display_data",
          "data": {
            "image/png": "[encoded data removed]",
            "text/plain": [
              "<matplotlib.figure.Figure at 0x7f587639b5c0>"
            ]
          },
          "metadata": {
            "tags": []
          }
        }
      ]
    },
    {
      "metadata": {
        "id": "PuTJhKd0G6fc",
        "colab_type": "code",
        "colab": {
          "base_uri": "https://localhost:8080/",
          "height": 262
        },
        "outputId": "b30c9eb9-018d-4959-f855-c1bab7fcc4f1"
      },
      "cell_type": "code",
      "source": [
        "baseline_model=keras.Sequential([\n",
        "    keras.layers.Dense(16,activation=tf.nn.relu,input_shape=(NUM_WORDS,)),\n",
        "    keras.layers.Dense(16,activation=tf.nn.relu),\n",
        "    keras.layers.Dense(1,activation=tf.nn.sigmoid)\n",
        "])\n",
        "\n",
        "baseline_model.compile(optimizer='adam',\n",
        "                      loss='binary_crossentropy',\n",
        "                      metrics=['accuracy','binary_crossentropy'])\n",
        "\n",
        "baseline_model.summary()"
      ],
      "execution_count": 7,
      "outputs": [
        {
          "output_type": "stream",
          "text": [
            "_________________________________________________________________\n",
            "Layer (type)                 Output Shape              Param #   \n",
            "=================================================================\n",
            "dense_4 (Dense)              (None, 16)                160016    \n",
            "_________________________________________________________________\n",
            "dense_5 (Dense)              (None, 16)                272       \n",
            "_________________________________________________________________\n",
            "dense_6 (Dense)              (None, 1)                 17        \n",
            "=================================================================\n",
            "Total params: 160,305\n",
            "Trainable params: 160,305\n",
            "Non-trainable params: 0\n",
            "_________________________________________________________________\n"
          ],
          "name": "stdout"
        }
      ]
    },
    {
      "metadata": {
        "id": "rpwUERsaJt9w",
        "colab_type": "code",
        "colab": {
          "base_uri": "https://localhost:8080/",
          "height": 809
        },
        "outputId": "c6ededed-ca38-4421-c11e-8a38daa822b4"
      },
      "cell_type": "code",
      "source": [
        "baseline_model.fit(train_data,train_labels,\n",
        "                  epochs=20,\n",
        "                  batch_size=512,\n",
        "                  validation_data=(test_data,test_labels),\n",
        "                  verbose=2)"
      ],
      "execution_count": 8,
      "outputs": [
        {
          "output_type": "stream",
          "text": [
            "Train on 25000 samples, validate on 25000 samples\n",
            "Epoch 1/20\n",
            " - 4s - loss: 0.5048 - acc: 0.7886 - binary_crossentropy: 0.5048 - val_loss: 0.3465 - val_acc: 0.8750 - val_binary_crossentropy: 0.3465\n",
            "Epoch 2/20\n",
            " - 4s - loss: 0.2520 - acc: 0.9100 - binary_crossentropy: 0.2520 - val_loss: 0.2861 - val_acc: 0.8864 - val_binary_crossentropy: 0.2861\n",
            "Epoch 3/20\n",
            " - 4s - loss: 0.1797 - acc: 0.9377 - binary_crossentropy: 0.1797 - val_loss: 0.2925 - val_acc: 0.8846 - val_binary_crossentropy: 0.2925\n",
            "Epoch 4/20\n",
            " - 4s - loss: 0.1414 - acc: 0.9522 - binary_crossentropy: 0.1414 - val_loss: 0.3207 - val_acc: 0.8786 - val_binary_crossentropy: 0.3207\n",
            "Epoch 5/20\n",
            " - 4s - loss: 0.1164 - acc: 0.9617 - binary_crossentropy: 0.1164 - val_loss: 0.3469 - val_acc: 0.8740 - val_binary_crossentropy: 0.3469\n",
            "Epoch 6/20\n",
            " - 4s - loss: 0.0936 - acc: 0.9717 - binary_crossentropy: 0.0936 - val_loss: 0.3829 - val_acc: 0.8689 - val_binary_crossentropy: 0.3829\n",
            "Epoch 7/20\n",
            " - 4s - loss: 0.0749 - acc: 0.9799 - binary_crossentropy: 0.0749 - val_loss: 0.4274 - val_acc: 0.8617 - val_binary_crossentropy: 0.4274\n",
            "Epoch 8/20\n",
            " - 4s - loss: 0.0596 - acc: 0.9856 - binary_crossentropy: 0.0596 - val_loss: 0.4618 - val_acc: 0.8634 - val_binary_crossentropy: 0.4618\n",
            "Epoch 9/20\n",
            " - 4s - loss: 0.0465 - acc: 0.9908 - binary_crossentropy: 0.0465 - val_loss: 0.5014 - val_acc: 0.8615 - val_binary_crossentropy: 0.5014\n",
            "Epoch 10/20\n",
            " - 4s - loss: 0.0351 - acc: 0.9943 - binary_crossentropy: 0.0351 - val_loss: 0.5435 - val_acc: 0.8578 - val_binary_crossentropy: 0.5435\n",
            "Epoch 11/20\n",
            " - 4s - loss: 0.0267 - acc: 0.9968 - binary_crossentropy: 0.0267 - val_loss: 0.5801 - val_acc: 0.8584 - val_binary_crossentropy: 0.5801\n",
            "Epoch 12/20\n",
            " - 4s - loss: 0.0201 - acc: 0.9977 - binary_crossentropy: 0.0201 - val_loss: 0.6161 - val_acc: 0.8573 - val_binary_crossentropy: 0.6161\n",
            "Epoch 13/20\n",
            " - 4s - loss: 0.0146 - acc: 0.9986 - binary_crossentropy: 0.0146 - val_loss: 0.6490 - val_acc: 0.8562 - val_binary_crossentropy: 0.6490\n",
            "Epoch 14/20\n",
            " - 4s - loss: 0.0106 - acc: 0.9992 - binary_crossentropy: 0.0106 - val_loss: 0.6784 - val_acc: 0.8554 - val_binary_crossentropy: 0.6784\n",
            "Epoch 15/20\n",
            " - 4s - loss: 0.0077 - acc: 0.9995 - binary_crossentropy: 0.0077 - val_loss: 0.7085 - val_acc: 0.8542 - val_binary_crossentropy: 0.7085\n",
            "Epoch 16/20\n",
            " - 4s - loss: 0.0059 - acc: 0.9996 - binary_crossentropy: 0.0059 - val_loss: 0.7342 - val_acc: 0.8546 - val_binary_crossentropy: 0.7342\n",
            "Epoch 17/20\n",
            " - 4s - loss: 0.0046 - acc: 0.9999 - binary_crossentropy: 0.0046 - val_loss: 0.7567 - val_acc: 0.8544 - val_binary_crossentropy: 0.7567\n",
            "Epoch 18/20\n",
            " - 4s - loss: 0.0038 - acc: 0.9999 - binary_crossentropy: 0.0038 - val_loss: 0.7788 - val_acc: 0.8544 - val_binary_crossentropy: 0.7788\n",
            "Epoch 19/20\n",
            " - 4s - loss: 0.0031 - acc: 0.9999 - binary_crossentropy: 0.0031 - val_loss: 0.7999 - val_acc: 0.8542 - val_binary_crossentropy: 0.7999\n",
            "Epoch 20/20\n",
            " - 4s - loss: 0.0026 - acc: 1.0000 - binary_crossentropy: 0.0026 - val_loss: 0.8161 - val_acc: 0.8538 - val_binary_crossentropy: 0.8161\n"
          ],
          "name": "stdout"
        },
        {
          "output_type": "execute_result",
          "data": {
            "text/plain": [
              "<tensorflow.python.keras.callbacks.History at 0x7f586d3e3ac8>"
            ]
          },
          "metadata": {
            "tags": []
          },
          "execution_count": 8
        }
      ]
    },
    {
      "metadata": {
        "id": "CC8eewxPKO2L",
        "colab_type": "code",
        "colab": {}
      },
      "cell_type": "code",
      "source": [
        ""
      ],
      "execution_count": 0,
      "outputs": []
    }
  ]
}