{
  "nbformat": 4,
  "nbformat_minor": 0,
  "metadata": {
    "colab": {
      "name": "TensorFlowLearning2.ipynb",
      "version": "0.3.2",
      "provenance": [],
      "include_colab_link": true
    },
    "kernelspec": {
      "name": "python3",
      "display_name": "Python 3"
    }
  },
  "cells": [
    {
      "cell_type": "markdown",
      "metadata": {
        "id": "view-in-github",
        "colab_type": "text"
      },
      "source": [
        "[View in Colaboratory](https://colab.research.google.com/github/HUSTneeb/GoogleColabCode/blob/master/TensorFlowLearning2.ipynb)"
      ]
    },
    {
      "metadata": {
        "id": "UCcr96ONUdx-",
        "colab_type": "code",
        "colab": {
          "base_uri": "https://localhost:8080/",
          "height": 36
        },
        "outputId": "3a9512a5-075f-4728-dfbb-e8762d4dda79"
      },
      "cell_type": "code",
      "source": [
        "import tensorflow as tf\n",
        "from tensorflow import keras\n",
        "import numpy as np\n",
        "\n",
        "print(tf.__version__)"
      ],
      "execution_count": 2,
      "outputs": [
        {
          "output_type": "stream",
          "text": [
            "1.11.0-rc2\n"
          ],
          "name": "stdout"
        }
      ]
    },
    {
      "metadata": {
        "id": "-W4lrh0nZZoa",
        "colab_type": "code",
        "colab": {
          "base_uri": "https://localhost:8080/",
          "height": 55
        },
        "outputId": "3cc34728-1ced-4ac7-a7e1-b867220b5a47"
      },
      "cell_type": "code",
      "source": [
        "imdb=keras.datasets.imdb\n",
        "(train_data,train_labels),(test_data,test_labels)=imdb.load_data(num_words=10000)\n"
      ],
      "execution_count": 3,
      "outputs": [
        {
          "output_type": "stream",
          "text": [
            "Downloading data from https://storage.googleapis.com/tensorflow/tf-keras-datasets/imdb.npz\n",
            "17465344/17464789 [==============================] - 0s 0us/step\n"
          ],
          "name": "stdout"
        }
      ]
    },
    {
      "metadata": {
        "id": "c0xeORIqZ8VD",
        "colab_type": "code",
        "colab": {
          "base_uri": "https://localhost:8080/",
          "height": 36
        },
        "outputId": "1b39129d-8e39-46d9-f13b-a3bf9643c7f3"
      },
      "cell_type": "code",
      "source": [
        "print(\"Training entries:{},labels:{}\".format(len(train_data),len(train_labels)))"
      ],
      "execution_count": 4,
      "outputs": [
        {
          "output_type": "stream",
          "text": [
            "Training entries:25000,labels:25000\n"
          ],
          "name": "stdout"
        }
      ]
    },
    {
      "metadata": {
        "id": "uM2-li92aWr1",
        "colab_type": "code",
        "colab": {
          "base_uri": "https://localhost:8080/",
          "height": 56
        },
        "outputId": "9b50a867-cbd0-425f-862a-25df156dfd91"
      },
      "cell_type": "code",
      "source": [
        "print(train_data[0])"
      ],
      "execution_count": 5,
      "outputs": [
        {
          "output_type": "stream",
          "text": [
            "[1, 14, 22, 16, 43, 530, 973, 1622, 1385, 65, 458, 4468, 66, 3941, 4, 173, 36, 256, 5, 25, 100, 43, 838, 112, 50, 670, 2, 9, 35, 480, 284, 5, 150, 4, 172, 112, 167, 2, 336, 385, 39, 4, 172, 4536, 1111, 17, 546, 38, 13, 447, 4, 192, 50, 16, 6, 147, 2025, 19, 14, 22, 4, 1920, 4613, 469, 4, 22, 71, 87, 12, 16, 43, 530, 38, 76, 15, 13, 1247, 4, 22, 17, 515, 17, 12, 16, 626, 18, 2, 5, 62, 386, 12, 8, 316, 8, 106, 5, 4, 2223, 5244, 16, 480, 66, 3785, 33, 4, 130, 12, 16, 38, 619, 5, 25, 124, 51, 36, 135, 48, 25, 1415, 33, 6, 22, 12, 215, 28, 77, 52, 5, 14, 407, 16, 82, 2, 8, 4, 107, 117, 5952, 15, 256, 4, 2, 7, 3766, 5, 723, 36, 71, 43, 530, 476, 26, 400, 317, 46, 7, 4, 2, 1029, 13, 104, 88, 4, 381, 15, 297, 98, 32, 2071, 56, 26, 141, 6, 194, 7486, 18, 4, 226, 22, 21, 134, 476, 26, 480, 5, 144, 30, 5535, 18, 51, 36, 28, 224, 92, 25, 104, 4, 226, 65, 16, 38, 1334, 88, 12, 16, 283, 5, 16, 4472, 113, 103, 32, 15, 16, 5345, 19, 178, 32]\n"
          ],
          "name": "stdout"
        }
      ]
    },
    {
      "metadata": {
        "id": "JhOdbCVIaaGc",
        "colab_type": "code",
        "colab": {
          "base_uri": "https://localhost:8080/",
          "height": 36
        },
        "outputId": "3a514bd8-0245-4fa5-eb2d-3108906c70ff"
      },
      "cell_type": "code",
      "source": [
        "len(train_data[0]),len(train_data[1])"
      ],
      "execution_count": 6,
      "outputs": [
        {
          "output_type": "execute_result",
          "data": {
            "text/plain": [
              "(218, 189)"
            ]
          },
          "metadata": {
            "tags": []
          },
          "execution_count": 6
        }
      ]
    },
    {
      "metadata": {
        "id": "kmECSQnEangU",
        "colab_type": "code",
        "colab": {}
      },
      "cell_type": "code",
      "source": [
        "# A dictionary mapping words to integer index\n",
        "word_index=imdb.get_word_index()\n",
        "\n",
        "#print(word_index.items())\n",
        "word_index={k:(v+3) for k,v in word_index.items()}\n",
        "word_index[\"<PAD>\"]=0\n",
        "word_index[\"<START>\"]=1\n",
        "word_index[\"<UNK>\"]=2\n",
        "word_index[\"<UNUSED>\"]=3\n",
        "\n",
        "reverse_word_index =dict([(value,key) for (key,value) in word_index.items()])\n",
        "\n",
        "def decode_review(text):\n",
        "  return ' '.join([reverse_word_index.get(i,'?') for i in text])\n"
      ],
      "execution_count": 0,
      "outputs": []
    },
    {
      "metadata": {
        "id": "IgoiBZFFbhJ4",
        "colab_type": "code",
        "colab": {
          "base_uri": "https://localhost:8080/",
          "height": 56
        },
        "outputId": "81fdaf5f-d62d-40d8-a303-ffc7d3d1a51f"
      },
      "cell_type": "code",
      "source": [
        "decode_review(train_data[0])"
      ],
      "execution_count": 10,
      "outputs": [
        {
          "output_type": "execute_result",
          "data": {
            "text/plain": [
              "\"<START> this film was just brilliant casting location scenery story direction everyone's really suited the part they played and you could just imagine being there robert <UNK> is an amazing actor and now the same being director <UNK> father came from the same scottish island as myself so i loved the fact there was a real connection with this film the witty remarks throughout the film were great it was just brilliant so much that i bought the film as soon as it was released for <UNK> and would recommend it to everyone to watch and the fly fishing was amazing really cried at the end it was so sad and you know what they say if you cry at a film it must have been good and this definitely was also <UNK> to the two little boy's that played the <UNK> of norman and paul they were just brilliant children are often left out of the <UNK> list i think because the stars that play them all grown up are such a big profile for the whole film but these children are amazing and should be praised for what they have done don't you think the whole story was so lovely because it was true and was someone's life after all that was shared with us all\""
            ]
          },
          "metadata": {
            "tags": []
          },
          "execution_count": 10
        }
      ]
    },
    {
      "metadata": {
        "id": "wAL-qnwhcPzd",
        "colab_type": "code",
        "colab": {}
      },
      "cell_type": "code",
      "source": [
        "train_data=keras.preprocessing.sequence.pad_sequences(train_data,\n",
        "                                                    value=word_index[\"<PAD>\"],\n",
        "                                                    padding='post',\n",
        "                                                    maxlen=256)\n",
        "test_data=keras.preprocessing.sequence.pad_sequences(test_data,\n",
        "                                                    value=word_index[\"<PAD>\"],\n",
        "                                                    padding='post',\n",
        "                                                    maxlen=256)"
      ],
      "execution_count": 0,
      "outputs": []
    },
    {
      "metadata": {
        "id": "rx75rBntj0wI",
        "colab_type": "code",
        "colab": {
          "base_uri": "https://localhost:8080/",
          "height": 36
        },
        "outputId": "bb7539be-be28-4b6b-9ef4-c8ff791bf1c7"
      },
      "cell_type": "code",
      "source": [
        "len(train_data[0]),len(train_data[1])"
      ],
      "execution_count": 14,
      "outputs": [
        {
          "output_type": "execute_result",
          "data": {
            "text/plain": [
              "(256, 256)"
            ]
          },
          "metadata": {
            "tags": []
          },
          "execution_count": 14
        }
      ]
    },
    {
      "metadata": {
        "id": "5oUW95F_j5IZ",
        "colab_type": "code",
        "colab": {
          "base_uri": "https://localhost:8080/",
          "height": 375
        },
        "outputId": "d20b8adf-17d2-426d-b202-68785da8f1c1"
      },
      "cell_type": "code",
      "source": [
        "print(train_data[0])"
      ],
      "execution_count": 15,
      "outputs": [
        {
          "output_type": "stream",
          "text": [
            "[   1   14   22   16   43  530  973 1622 1385   65  458 4468   66 3941\n",
            "    4  173   36  256    5   25  100   43  838  112   50  670    2    9\n",
            "   35  480  284    5  150    4  172  112  167    2  336  385   39    4\n",
            "  172 4536 1111   17  546   38   13  447    4  192   50   16    6  147\n",
            " 2025   19   14   22    4 1920 4613  469    4   22   71   87   12   16\n",
            "   43  530   38   76   15   13 1247    4   22   17  515   17   12   16\n",
            "  626   18    2    5   62  386   12    8  316    8  106    5    4 2223\n",
            " 5244   16  480   66 3785   33    4  130   12   16   38  619    5   25\n",
            "  124   51   36  135   48   25 1415   33    6   22   12  215   28   77\n",
            "   52    5   14  407   16   82    2    8    4  107  117 5952   15  256\n",
            "    4    2    7 3766    5  723   36   71   43  530  476   26  400  317\n",
            "   46    7    4    2 1029   13  104   88    4  381   15  297   98   32\n",
            " 2071   56   26  141    6  194 7486   18    4  226   22   21  134  476\n",
            "   26  480    5  144   30 5535   18   51   36   28  224   92   25  104\n",
            "    4  226   65   16   38 1334   88   12   16  283    5   16 4472  113\n",
            "  103   32   15   16 5345   19  178   32    0    0    0    0    0    0\n",
            "    0    0    0    0    0    0    0    0    0    0    0    0    0    0\n",
            "    0    0    0    0    0    0    0    0    0    0    0    0    0    0\n",
            "    0    0    0    0]\n"
          ],
          "name": "stdout"
        }
      ]
    },
    {
      "metadata": {
        "id": "LHIXjyKRkFx5",
        "colab_type": "code",
        "colab": {
          "base_uri": "https://localhost:8080/",
          "height": 300
        },
        "outputId": "9d7f9d50-0126-41cd-9534-ffd766c184af"
      },
      "cell_type": "code",
      "source": [
        "#input shape is the vocabulary count used for the movie reviews(10000 words)\n",
        "vocab_size=10000\n",
        "\n",
        "model=keras.Sequential()\n",
        "model.add(keras.layers.Embedding(vocab_size,16))\n",
        "model.add(keras.layers.GlobalAveragePooling1D())\n",
        "model.add(keras.layers.Dense(16,activation=tf.nn.relu))\n",
        "model.add(keras.layers.Dense(1,activation=tf.nn.sigmoid))\n",
        "\n",
        "model.summary()"
      ],
      "execution_count": 17,
      "outputs": [
        {
          "output_type": "stream",
          "text": [
            "_________________________________________________________________\n",
            "Layer (type)                 Output Shape              Param #   \n",
            "=================================================================\n",
            "embedding_1 (Embedding)      (None, None, 16)          160000    \n",
            "_________________________________________________________________\n",
            "global_average_pooling1d_1 ( (None, 16)                0         \n",
            "_________________________________________________________________\n",
            "dense_1 (Dense)              (None, 16)                272       \n",
            "_________________________________________________________________\n",
            "dense_2 (Dense)              (None, 1)                 17        \n",
            "=================================================================\n",
            "Total params: 160,289\n",
            "Trainable params: 160,289\n",
            "Non-trainable params: 0\n",
            "_________________________________________________________________\n"
          ],
          "name": "stdout"
        }
      ]
    },
    {
      "metadata": {
        "id": "3D27ZaqXlN2e",
        "colab_type": "code",
        "colab": {}
      },
      "cell_type": "code",
      "source": [
        "model.compile(optimizer=tf.train.AdamOptimizer(),\n",
        "             loss='binary_crossentropy',\n",
        "             metrics=['accuracy'])"
      ],
      "execution_count": 0,
      "outputs": []
    },
    {
      "metadata": {
        "id": "U4Q6aeuIBPtb",
        "colab_type": "code",
        "colab": {}
      },
      "cell_type": "code",
      "source": [
        "x_val=train_data[:10000]\n",
        "partial_x_train=train_data[10000:]\n",
        "\n",
        "y_val=train_labels[:10000]\n",
        "partial_y_train=train_labels[10000:]"
      ],
      "execution_count": 0,
      "outputs": []
    },
    {
      "metadata": {
        "id": "pbDhMA_hB9DZ",
        "colab_type": "code",
        "colab": {
          "base_uri": "https://localhost:8080/",
          "height": 1545
        },
        "outputId": "b36525af-71f6-45d1-af3f-603ea5ad65c3"
      },
      "cell_type": "code",
      "source": [
        "history=model.fit(partial_x_train,\n",
        "                 partial_y_train,\n",
        "                 epochs=40,\n",
        "                 batch_size=512,\n",
        "                 validation_data=(x_val,y_val),\n",
        "                 verbose=1)"
      ],
      "execution_count": 22,
      "outputs": [
        {
          "output_type": "stream",
          "text": [
            "Train on 15000 samples, validate on 10000 samples\n",
            "Epoch 1/40\n",
            "15000/15000 [==============================] - 1s 75us/step - loss: 0.6919 - acc: 0.5481 - val_loss: 0.6903 - val_acc: 0.5864\n",
            "Epoch 2/40\n",
            "15000/15000 [==============================] - 1s 59us/step - loss: 0.6866 - acc: 0.6190 - val_loss: 0.6830 - val_acc: 0.7215\n",
            "Epoch 3/40\n",
            "15000/15000 [==============================] - 1s 59us/step - loss: 0.6757 - acc: 0.7363 - val_loss: 0.6699 - val_acc: 0.7335\n",
            "Epoch 4/40\n",
            "15000/15000 [==============================] - 1s 59us/step - loss: 0.6572 - acc: 0.7679 - val_loss: 0.6493 - val_acc: 0.7505\n",
            "Epoch 5/40\n",
            "15000/15000 [==============================] - 1s 60us/step - loss: 0.6296 - acc: 0.7881 - val_loss: 0.6195 - val_acc: 0.7789\n",
            "Epoch 6/40\n",
            "15000/15000 [==============================] - 1s 60us/step - loss: 0.5939 - acc: 0.8047 - val_loss: 0.5842 - val_acc: 0.7956\n",
            "Epoch 7/40\n",
            "15000/15000 [==============================] - 1s 60us/step - loss: 0.5526 - acc: 0.8227 - val_loss: 0.5458 - val_acc: 0.8109\n",
            "Epoch 8/40\n",
            "15000/15000 [==============================] - 1s 60us/step - loss: 0.5095 - acc: 0.8381 - val_loss: 0.5071 - val_acc: 0.8246\n",
            "Epoch 9/40\n",
            "15000/15000 [==============================] - 1s 60us/step - loss: 0.4679 - acc: 0.8495 - val_loss: 0.4704 - val_acc: 0.8356\n",
            "Epoch 10/40\n",
            "15000/15000 [==============================] - 1s 60us/step - loss: 0.4284 - acc: 0.8631 - val_loss: 0.4376 - val_acc: 0.8423\n",
            "Epoch 11/40\n",
            "15000/15000 [==============================] - 1s 59us/step - loss: 0.3939 - acc: 0.8725 - val_loss: 0.4117 - val_acc: 0.8503\n",
            "Epoch 12/40\n",
            "15000/15000 [==============================] - 1s 60us/step - loss: 0.3641 - acc: 0.8815 - val_loss: 0.3867 - val_acc: 0.8575\n",
            "Epoch 13/40\n",
            "15000/15000 [==============================] - 1s 60us/step - loss: 0.3377 - acc: 0.8884 - val_loss: 0.3684 - val_acc: 0.8612\n",
            "Epoch 14/40\n",
            "15000/15000 [==============================] - 1s 60us/step - loss: 0.3158 - acc: 0.8944 - val_loss: 0.3524 - val_acc: 0.8679\n",
            "Epoch 15/40\n",
            "15000/15000 [==============================] - 1s 60us/step - loss: 0.2970 - acc: 0.8991 - val_loss: 0.3397 - val_acc: 0.8719\n",
            "Epoch 16/40\n",
            "15000/15000 [==============================] - 1s 59us/step - loss: 0.2808 - acc: 0.9013 - val_loss: 0.3296 - val_acc: 0.8734\n",
            "Epoch 17/40\n",
            "15000/15000 [==============================] - 1s 60us/step - loss: 0.2656 - acc: 0.9092 - val_loss: 0.3208 - val_acc: 0.8760\n",
            "Epoch 18/40\n",
            "15000/15000 [==============================] - 1s 60us/step - loss: 0.2525 - acc: 0.9139 - val_loss: 0.3136 - val_acc: 0.8791\n",
            "Epoch 19/40\n",
            "15000/15000 [==============================] - 1s 61us/step - loss: 0.2404 - acc: 0.9170 - val_loss: 0.3076 - val_acc: 0.8797\n",
            "Epoch 20/40\n",
            "15000/15000 [==============================] - 1s 59us/step - loss: 0.2298 - acc: 0.9208 - val_loss: 0.3029 - val_acc: 0.8811\n",
            "Epoch 21/40\n",
            "15000/15000 [==============================] - 1s 59us/step - loss: 0.2194 - acc: 0.9247 - val_loss: 0.2984 - val_acc: 0.8815\n",
            "Epoch 22/40\n",
            "15000/15000 [==============================] - 1s 60us/step - loss: 0.2100 - acc: 0.9276 - val_loss: 0.2954 - val_acc: 0.8819\n",
            "Epoch 23/40\n",
            "15000/15000 [==============================] - 1s 59us/step - loss: 0.2014 - acc: 0.9306 - val_loss: 0.2927 - val_acc: 0.8825\n",
            "Epoch 24/40\n",
            "15000/15000 [==============================] - 1s 59us/step - loss: 0.1929 - acc: 0.9342 - val_loss: 0.2899 - val_acc: 0.8835\n",
            "Epoch 25/40\n",
            "15000/15000 [==============================] - 1s 60us/step - loss: 0.1853 - acc: 0.9383 - val_loss: 0.2880 - val_acc: 0.8844\n",
            "Epoch 26/40\n",
            "15000/15000 [==============================] - 1s 59us/step - loss: 0.1778 - acc: 0.9409 - val_loss: 0.2869 - val_acc: 0.8838\n",
            "Epoch 27/40\n",
            "15000/15000 [==============================] - 1s 59us/step - loss: 0.1715 - acc: 0.9444 - val_loss: 0.2862 - val_acc: 0.8855\n",
            "Epoch 28/40\n",
            "15000/15000 [==============================] - 1s 59us/step - loss: 0.1648 - acc: 0.9472 - val_loss: 0.2852 - val_acc: 0.8851\n",
            "Epoch 29/40\n",
            "15000/15000 [==============================] - 1s 59us/step - loss: 0.1587 - acc: 0.9489 - val_loss: 0.2849 - val_acc: 0.8861\n",
            "Epoch 30/40\n",
            "15000/15000 [==============================] - 1s 59us/step - loss: 0.1533 - acc: 0.9506 - val_loss: 0.2853 - val_acc: 0.8862\n",
            "Epoch 31/40\n",
            "15000/15000 [==============================] - 1s 60us/step - loss: 0.1471 - acc: 0.9542 - val_loss: 0.2857 - val_acc: 0.8868\n",
            "Epoch 32/40\n",
            "15000/15000 [==============================] - 1s 59us/step - loss: 0.1420 - acc: 0.9567 - val_loss: 0.2865 - val_acc: 0.8871\n",
            "Epoch 33/40\n",
            "15000/15000 [==============================] - 1s 59us/step - loss: 0.1365 - acc: 0.9588 - val_loss: 0.2876 - val_acc: 0.8868\n",
            "Epoch 34/40\n",
            "15000/15000 [==============================] - 1s 60us/step - loss: 0.1317 - acc: 0.9606 - val_loss: 0.2886 - val_acc: 0.8862\n",
            "Epoch 35/40\n",
            "15000/15000 [==============================] - 1s 59us/step - loss: 0.1274 - acc: 0.9623 - val_loss: 0.2900 - val_acc: 0.8860\n",
            "Epoch 36/40\n",
            "15000/15000 [==============================] - 1s 59us/step - loss: 0.1223 - acc: 0.9659 - val_loss: 0.2919 - val_acc: 0.8858\n",
            "Epoch 37/40\n",
            "15000/15000 [==============================] - 1s 59us/step - loss: 0.1182 - acc: 0.9663 - val_loss: 0.2943 - val_acc: 0.8855\n",
            "Epoch 38/40\n",
            "15000/15000 [==============================] - 1s 59us/step - loss: 0.1146 - acc: 0.9675 - val_loss: 0.2953 - val_acc: 0.8854\n",
            "Epoch 39/40\n",
            "15000/15000 [==============================] - 1s 60us/step - loss: 0.1099 - acc: 0.9693 - val_loss: 0.2975 - val_acc: 0.8853\n",
            "Epoch 40/40\n",
            "15000/15000 [==============================] - 1s 59us/step - loss: 0.1061 - acc: 0.9705 - val_loss: 0.2999 - val_acc: 0.8857\n"
          ],
          "name": "stdout"
        }
      ]
    },
    {
      "metadata": {
        "id": "unpFkM3WCW5g",
        "colab_type": "code",
        "colab": {
          "base_uri": "https://localhost:8080/",
          "height": 55
        },
        "outputId": "9e2db838-9455-4dea-d9a3-ddd266923034"
      },
      "cell_type": "code",
      "source": [
        "results=model.evaluate(test_data,test_labels)\n",
        "print(results)"
      ],
      "execution_count": 23,
      "outputs": [
        {
          "output_type": "stream",
          "text": [
            "25000/25000 [==============================] - 1s 35us/step\n",
            "[0.31904203624248506, 0.87388]\n"
          ],
          "name": "stdout"
        }
      ]
    },
    {
      "metadata": {
        "id": "phtuvMLkCsBd",
        "colab_type": "code",
        "colab": {
          "base_uri": "https://localhost:8080/",
          "height": 36
        },
        "outputId": "e3ba4522-17f0-4d65-c93c-6b17449507d6"
      },
      "cell_type": "code",
      "source": [
        "history_dict = history.history\n",
        "history_dict.keys()\n"
      ],
      "execution_count": 24,
      "outputs": [
        {
          "output_type": "execute_result",
          "data": {
            "text/plain": [
              "dict_keys(['val_loss', 'val_acc', 'loss', 'acc'])"
            ]
          },
          "metadata": {
            "tags": []
          },
          "execution_count": 24
        }
      ]
    },
    {
      "metadata": {
        "id": "JC8gXGczJzjk",
        "colab_type": "code",
        "colab": {
          "base_uri": "https://localhost:8080/",
          "height": 376
        },
        "outputId": "b7fd6695-99a2-4d47-9986-826486a5ac32"
      },
      "cell_type": "code",
      "source": [
        "import matplotlib.pyplot as plt\n",
        "\n",
        "acc=history.history['acc']\n",
        "val_acc=history.history['val_acc']\n",
        "loss=history.history['loss']\n",
        "val_loss=history.history['val_loss']\n",
        "\n",
        "epochs=range(1,len(acc)+1)\n",
        "\n",
        "#'bo' is for 'blue dot'\n",
        "plt.plot(epochs,loss,'bo',label='Train loss')\n",
        "plt.plot(epochs,val_loss,'b',label='Validation loss')\n",
        "plt.title('Training and validation loss')\n",
        "plt.xlabel('Epochs')\n",
        "plt.ylabel('Loss')\n",
        "plt.legend()\n",
        "\n",
        "plt.show()\n"
      ],
      "execution_count": 26,
      "outputs": [
        {
          "output_type": "display_data",
          "data": {
            "image/png": "[encoded data removed]",
            "text/plain": [
              "<matplotlib.figure.Figure at 0x7fce6f967ba8>"
            ]
          },
          "metadata": {
            "tags": []
          }
        }
      ]
    },
    {
      "metadata": {
        "id": "5hPonRPELJEX",
        "colab_type": "code",
        "colab": {
          "base_uri": "https://localhost:8080/",
          "height": 376
        },
        "outputId": "2ff8fc60-9142-4fa1-98a3-1ba272757606"
      },
      "cell_type": "code",
      "source": [
        "plt.clf()\n",
        "acc_values=history_dict['acc']\n",
        "val_acc_values=history_dict['val_acc']\n",
        "\n",
        "plt.plot(epochs,acc,'bo',label='Training acc')\n",
        "plt.plot(epochs,val_acc,'b',label='Validation acc')\n",
        "plt.title(\"Training and validation accruacy\")\n",
        "plt.xlabel('Epochs')\n",
        "plt.ylabel('Accuracy')\n",
        "\n",
        "plt.legend()\n",
        "plt.show()"
      ],
      "execution_count": 27,
      "outputs": [
        {
          "output_type": "display_data",
          "data": {
            "image/png": "[encoded data removed]",
            "text/plain": [
              "<matplotlib.figure.Figure at 0x7fce6f843e10>"
            ]
          },
          "metadata": {
            "tags": []
          }
        }
      ]
    },
    {
      "metadata": {
        "id": "42weRFIjMpEi",
        "colab_type": "code",
        "colab": {}
      },
      "cell_type": "code",
      "source": [
        ""
      ],
      "execution_count": 0,
      "outputs": []
    }
  ]
}