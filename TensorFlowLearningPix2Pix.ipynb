{
  "nbformat": 4,
  "nbformat_minor": 0,
  "metadata": {
    "colab": {
      "name": "TensorFlowLearningPix2Pix.ipynb",
      "version": "0.3.2",
      "provenance": [],
      "include_colab_link": true
    },
    "kernelspec": {
      "name": "python3",
      "display_name": "Python 3"
    }
  },
  "cells": [
    {
      "cell_type": "markdown",
      "metadata": {
        "id": "view-in-github",
        "colab_type": "text"
      },
      "source": [
        "[![Open In Colab](https://colab.research.google.com/assets/colab-badge.svg)](https://colab.research.google.com/github/HUSTneeb/GoogleColabCode/blob/master/TensorFlowLearningPix2Pix.ipynb)"
      ]
    },
    {
      "metadata": {
        "id": "kztM-aq5LsPV",
        "colab_type": "code",
        "colab": {}
      },
      "cell_type": "code",
      "source": [
        "import tensorflow as tf\n",
        "tf.enable_eager_execution()\n",
        "\n",
        "import os\n",
        "import time\n",
        "import numpy as np\n",
        "import matplotlib.pyplot as plt\n",
        "import PIL\n",
        "from IPython.display import clear_output\n"
      ],
      "execution_count": 0,
      "outputs": []
    },
    {
      "metadata": {
        "id": "jrRvFytWMnJ1",
        "colab_type": "code",
        "colab": {
          "base_uri": "https://localhost:8080/",
          "height": 55
        },
        "outputId": "3bed0da2-3cdf-4b61-b088-d857df1cee75"
      },
      "cell_type": "code",
      "source": [
        "path_to_zip=tf.keras.utils.get_file('facades.tar.gz',\n",
        "                                   cache_subdir=os.path.abspath('.'),\n",
        "                                   origin='https://people.eecs.berkeley.edu/~tinghuiz/projects/pix2pix/datasets/facades.tar.gz',\n",
        "                                   extract=True)\n",
        "PATH=os.path.join(os.path.dirname(path_to_zip),'facades/')"
      ],
      "execution_count": 3,
      "outputs": [
        {
          "output_type": "stream",
          "text": [
            "Downloading data from https://people.eecs.berkeley.edu/~tinghuiz/projects/pix2pix/datasets/facades.tar.gz\n",
            "30171136/30168306 [==============================] - 0s 0us/step\n"
          ],
          "name": "stdout"
        }
      ]
    },
    {
      "metadata": {
        "id": "FNiEHFzeNYsM",
        "colab_type": "code",
        "colab": {}
      },
      "cell_type": "code",
      "source": [
        "BUFFER_SIZE=400\n",
        "BATCH_SIZE=1\n",
        "IMG_WIDTH=256\n",
        "IMG_HEIGHT=256"
      ],
      "execution_count": 0,
      "outputs": []
    },
    {
      "metadata": {
        "id": "i68G5e6JNm_m",
        "colab_type": "code",
        "colab": {}
      },
      "cell_type": "code",
      "source": [
        "def load_image(image_file,is_train):\n",
        "  image=tf.read_file(image_file)\n",
        "  image=tf.image.decode_jpeg(image)\n",
        "  \n",
        "  w=tf.shape(image)[1]\n",
        "  \n",
        "  w=w//2\n",
        "  real_image=image[:,:w,:]\n",
        "  input_image=image[:,w:,:]\n",
        "  \n",
        "  input_image=tf.cast(input_image,tf.float32)\n",
        "  real_image=tf.cast(real_image,tf.float32)\n",
        "  \n",
        "  if is_train:\n",
        "    input_image=tf.image.resize_images(input_image,[286,286],\n",
        "                                      align_corners=True,\n",
        "                                      method=tf.image.ResizeMethod.NEAREST_NEIGHBOR)\n",
        "    real_image=tf.image.resize_images(real_image,[286,286],\n",
        "                                     align_corners=True,\n",
        "                                     method=tf.image.ResizeMethod.NEAREST_NEIGHBOR)\n",
        "    \n",
        "    stacked_image=tf.stack([input_image,real_image],axis=0)\n",
        "    cropped_image=tf.random_crop(stacked_image,size=[2,IMG_HEIGHT,IMG_WIDTH,3])\n",
        "    input_image,real_image=cropped_image[0],cropped_image[1]\n",
        "    \n",
        "    if np.random.random()>0.5:\n",
        "      input_image=tf.image.flip_left_right(input_image)\n",
        "      real_image=tf.image.flip_left_right(real_image)\n",
        "    else:\n",
        "      input_image=tf.image.resize_images(input_image,size=[IMG_HEIGHT,IMG_WIDTH],\n",
        "                                        align_corners=True,method=2)\n",
        "      real_image=tf.image.resize_images(real_image,size=[IMG_HEIGHT,IMG_WIDTH],\n",
        "                                       align_corners=True,method=2)\n",
        "      \n",
        "  input_image=(input_image/127.5)-1\n",
        "  real_image=(real_image/127.5)-1\n",
        "  \n",
        "  return input_image,real_image\n",
        "  "
      ],
      "execution_count": 0,
      "outputs": []
    },
    {
      "metadata": {
        "id": "CZrrILolTczs",
        "colab_type": "code",
        "colab": {}
      },
      "cell_type": "code",
      "source": [
        "train_dataset=tf.data.Dataset.list_files(PATH+'train/*.jpg')\n",
        "train_dataset=train_dataset.shuffle(BUFFER_SIZE)\n",
        "train_dataset=train_dataset.map(lambda x:load_image(x,True))\n",
        "train_dataset=train_dataset.batch(1)\n",
        "\n",
        "test_dataset=tf.data.Dataset.list_files(PATH+'test/*.jpg')\n",
        "test_dataset=test_dataset.map(lambda x:load_image(x,False))\n",
        "test_dataset=test_dataset.batch(1)"
      ],
      "execution_count": 0,
      "outputs": []
    },
    {
      "metadata": {
        "id": "nLekkKPEWNT9",
        "colab_type": "code",
        "colab": {}
      },
      "cell_type": "code",
      "source": [
        "OUTPUT_CHANNELS=3\n",
        "\n",
        "class Downsample(tf.keras.Model):\n",
        "  def __init__(self,filters,size,apply_batchnorm=True):\n",
        "    super(Downsample,self).__init__()\n",
        "    self.apply_batchnorm=apply_batchnorm\n",
        "    initializer=tf.random_normal_initializer(0.,0.02)\n",
        "    \n",
        "    self.conv1=tf.keras.layers.Conv2D(filters,\n",
        "                                     (size,size),\n",
        "                                     strides=2,\n",
        "                                     padding='same',\n",
        "                                     kernel_initializer=initializer,\n",
        "                                     use_bias=False)\n",
        "    \n",
        "    if self.apply_batchnorm:\n",
        "      self.batchnorm=tf.keras.layers.BatchNormalization()\n",
        "      \n",
        "  def call(self,x,training)"
      ],
      "execution_count": 0,
      "outputs": []
    }
  ]
}