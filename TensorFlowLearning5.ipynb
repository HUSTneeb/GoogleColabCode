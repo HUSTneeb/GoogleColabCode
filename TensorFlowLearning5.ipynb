{
  "nbformat": 4,
  "nbformat_minor": 0,
  "metadata": {
    "colab": {
      "name": "TensorFlowLearning5.ipynb",
      "version": "0.3.2",
      "provenance": [],
      "include_colab_link": true
    },
    "kernelspec": {
      "name": "python3",
      "display_name": "Python 3"
    }
  },
  "cells": [
    {
      "cell_type": "markdown",
      "metadata": {
        "id": "view-in-github",
        "colab_type": "text"
      },
      "source": [
        "[View in Colaboratory](https://colab.research.google.com/github/HUSTneeb/GoogleColabCode/blob/master/TensorFlowLearning5.ipynb)"
      ]
    },
    {
      "metadata": {
        "id": "DGOEmcCQQIwo",
        "colab_type": "code",
        "colab": {}
      },
      "cell_type": "code",
      "source": [
        "!pip install -q h5py pyyaml"
      ],
      "execution_count": 0,
      "outputs": []
    },
    {
      "metadata": {
        "id": "Si1U_GyJRXLC",
        "colab_type": "code",
        "colab": {
          "base_uri": "https://localhost:8080/",
          "height": 36
        },
        "outputId": "afb0606d-6c0a-419c-b079-abf792645702"
      },
      "cell_type": "code",
      "source": [
        "from __future__ import absolute_import ,division,print_function\n",
        "\n",
        "import os\n",
        "\n",
        "import tensorflow as tf\n",
        "from tensorflow import keras\n",
        "\n",
        "tf.__version__\n"
      ],
      "execution_count": 6,
      "outputs": [
        {
          "output_type": "execute_result",
          "data": {
            "text/plain": [
              "'1.11.0'"
            ]
          },
          "metadata": {
            "tags": []
          },
          "execution_count": 6
        }
      ]
    },
    {
      "metadata": {
        "id": "imwGS5TgW-uN",
        "colab_type": "code",
        "colab": {}
      },
      "cell_type": "code",
      "source": [
        "(train_images,train_labels),(test_images,test_labels)=tf.keras.datasets.mnist.load_data()\n",
        "\n",
        "train_labels=train_labels[:1000]\n",
        "test_labels=test_labels[:1000]\n",
        "\n",
        "train_images=train_images[:1000].reshape(-1,28*28)/255.0\n",
        "test_images=test_images[:1000].reshape(-1,28*28)/255.0"
      ],
      "execution_count": 0,
      "outputs": []
    },
    {
      "metadata": {
        "id": "4EI-sC-RX1uG",
        "colab_type": "code",
        "colab": {}
      },
      "cell_type": "code",
      "source": [
        "def creat_model():\n",
        "  model=tf.keras.models.Sequential([\n",
        "      keras.layers.Dense(512,activation=tf.nn.relu,input_shape=(784,)),\n",
        "      keras.layers.Dropout(0.2),\n",
        "      keras.layers.Dense(10,activation=tf.nn.softmax)\n",
        "  ])\n",
        "  \n",
        "  model.compile(optimizer='adam',\n",
        "               loss=tf.keras.losses.sparse_categorical_crossentropy,\n",
        "               metrics=['accuracy'])\n",
        "  return model"
      ],
      "execution_count": 0,
      "outputs": []
    },
    {
      "metadata": {
        "id": "thdJ5WOiZU21",
        "colab_type": "code",
        "colab": {
          "base_uri": "https://localhost:8080/",
          "height": 262
        },
        "outputId": "ad986a84-940e-4f87-c76a-51cb87c18156"
      },
      "cell_type": "code",
      "source": [
        "model=creat_model()\n",
        "model.summary()"
      ],
      "execution_count": 12,
      "outputs": [
        {
          "output_type": "stream",
          "text": [
            "_________________________________________________________________\n",
            "Layer (type)                 Output Shape              Param #   \n",
            "=================================================================\n",
            "dense (Dense)                (None, 512)               401920    \n",
            "_________________________________________________________________\n",
            "dropout (Dropout)            (None, 512)               0         \n",
            "_________________________________________________________________\n",
            "dense_1 (Dense)              (None, 10)                5130      \n",
            "=================================================================\n",
            "Total params: 407,050\n",
            "Trainable params: 407,050\n",
            "Non-trainable params: 0\n",
            "_________________________________________________________________\n"
          ],
          "name": "stdout"
        }
      ]
    },
    {
      "metadata": {
        "id": "Ft8JkfqgZ6mG",
        "colab_type": "code",
        "colab": {
          "base_uri": "https://localhost:8080/",
          "height": 1395
        },
        "outputId": "56463a56-276d-4176-fa13-44b4f7b369f5"
      },
      "cell_type": "code",
      "source": [
        "checkpoint_path='training_1/cp.ckpt'\n",
        "checkpoint_dir=os.path.dirname(checkpoint_path)\n",
        "\n",
        "cp_callback=tf.keras.callbacks.ModelCheckpoint(checkpoint_path,\n",
        "                                             save_weights_only=True,\n",
        "                                             verbose=1)\n",
        "model=creat_model()\n",
        "model.fit(train_images,train_labels,epochs=10,\n",
        "         validation_data=(test_images,test_labels),\n",
        "         callbacks=[cp_callback])"
      ],
      "execution_count": 14,
      "outputs": [
        {
          "output_type": "stream",
          "text": [
            "Train on 1000 samples, validate on 1000 samples\n",
            "Epoch 1/10\n",
            " 960/1000 [===========================>..] - ETA: 0s - loss: 1.1685 - acc: 0.6521\n",
            "Epoch 00001: saving model to training_1/cp.ckpt\n",
            "WARNING:tensorflow:This model was compiled with a Keras optimizer (<tensorflow.python.keras.optimizers.Adam object at 0x7f7f70faa240>) but is being saved in TensorFlow format with `save_weights`. The model's weights will be saved, but unlike with TensorFlow optimizers in the TensorFlow format the optimizer's state will not be saved.\n",
            "\n",
            "Consider using a TensorFlow optimizer from `tf.train`.\n",
            "1000/1000 [==============================] - 1s 711us/step - loss: 1.1566 - acc: 0.6590 - val_loss: 0.7175 - val_acc: 0.7760\n",
            "Epoch 2/10\n",
            " 992/1000 [============================>.] - ETA: 0s - loss: 0.4276 - acc: 0.8851\n",
            "Epoch 00002: saving model to training_1/cp.ckpt\n",
            "WARNING:tensorflow:This model was compiled with a Keras optimizer (<tensorflow.python.keras.optimizers.Adam object at 0x7f7f70faa240>) but is being saved in TensorFlow format with `save_weights`. The model's weights will be saved, but unlike with TensorFlow optimizers in the TensorFlow format the optimizer's state will not be saved.\n",
            "\n",
            "Consider using a TensorFlow optimizer from `tf.train`.\n",
            "1000/1000 [==============================] - 0s 383us/step - loss: 0.4246 - acc: 0.8860 - val_loss: 0.5460 - val_acc: 0.8170\n",
            "Epoch 3/10\n",
            " 960/1000 [===========================>..] - ETA: 0s - loss: 0.2949 - acc: 0.9198\n",
            "Epoch 00003: saving model to training_1/cp.ckpt\n",
            "WARNING:tensorflow:This model was compiled with a Keras optimizer (<tensorflow.python.keras.optimizers.Adam object at 0x7f7f70faa240>) but is being saved in TensorFlow format with `save_weights`. The model's weights will be saved, but unlike with TensorFlow optimizers in the TensorFlow format the optimizer's state will not be saved.\n",
            "\n",
            "Consider using a TensorFlow optimizer from `tf.train`.\n",
            "1000/1000 [==============================] - 0s 377us/step - loss: 0.2909 - acc: 0.9200 - val_loss: 0.4730 - val_acc: 0.8530\n",
            "Epoch 4/10\n",
            " 992/1000 [============================>.] - ETA: 0s - loss: 0.2056 - acc: 0.9546\n",
            "Epoch 00004: saving model to training_1/cp.ckpt\n",
            "WARNING:tensorflow:This model was compiled with a Keras optimizer (<tensorflow.python.keras.optimizers.Adam object at 0x7f7f70faa240>) but is being saved in TensorFlow format with `save_weights`. The model's weights will be saved, but unlike with TensorFlow optimizers in the TensorFlow format the optimizer's state will not be saved.\n",
            "\n",
            "Consider using a TensorFlow optimizer from `tf.train`.\n",
            "1000/1000 [==============================] - 0s 379us/step - loss: 0.2053 - acc: 0.9550 - val_loss: 0.4268 - val_acc: 0.8620\n",
            "Epoch 5/10\n",
            " 992/1000 [============================>.] - ETA: 0s - loss: 0.1704 - acc: 0.9567\n",
            "Epoch 00005: saving model to training_1/cp.ckpt\n",
            "WARNING:tensorflow:This model was compiled with a Keras optimizer (<tensorflow.python.keras.optimizers.Adam object at 0x7f7f70faa240>) but is being saved in TensorFlow format with `save_weights`. The model's weights will be saved, but unlike with TensorFlow optimizers in the TensorFlow format the optimizer's state will not be saved.\n",
            "\n",
            "Consider using a TensorFlow optimizer from `tf.train`.\n",
            "1000/1000 [==============================] - 0s 370us/step - loss: 0.1698 - acc: 0.9570 - val_loss: 0.4276 - val_acc: 0.8620\n",
            "Epoch 6/10\n",
            " 896/1000 [=========================>....] - ETA: 0s - loss: 0.1152 - acc: 0.9777\n",
            "Epoch 00006: saving model to training_1/cp.ckpt\n",
            "WARNING:tensorflow:This model was compiled with a Keras optimizer (<tensorflow.python.keras.optimizers.Adam object at 0x7f7f70faa240>) but is being saved in TensorFlow format with `save_weights`. The model's weights will be saved, but unlike with TensorFlow optimizers in the TensorFlow format the optimizer's state will not be saved.\n",
            "\n",
            "Consider using a TensorFlow optimizer from `tf.train`.\n",
            "1000/1000 [==============================] - 0s 381us/step - loss: 0.1171 - acc: 0.9770 - val_loss: 0.4428 - val_acc: 0.8660\n",
            "Epoch 7/10\n",
            " 960/1000 [===========================>..] - ETA: 0s - loss: 0.1020 - acc: 0.9802\n",
            "Epoch 00007: saving model to training_1/cp.ckpt\n",
            "WARNING:tensorflow:This model was compiled with a Keras optimizer (<tensorflow.python.keras.optimizers.Adam object at 0x7f7f70faa240>) but is being saved in TensorFlow format with `save_weights`. The model's weights will be saved, but unlike with TensorFlow optimizers in the TensorFlow format the optimizer's state will not be saved.\n",
            "\n",
            "Consider using a TensorFlow optimizer from `tf.train`.\n",
            "1000/1000 [==============================] - 0s 373us/step - loss: 0.1046 - acc: 0.9790 - val_loss: 0.4319 - val_acc: 0.8570\n",
            "Epoch 8/10\n",
            " 960/1000 [===========================>..] - ETA: 0s - loss: 0.0686 - acc: 0.9917\n",
            "Epoch 00008: saving model to training_1/cp.ckpt\n",
            "WARNING:tensorflow:This model was compiled with a Keras optimizer (<tensorflow.python.keras.optimizers.Adam object at 0x7f7f70faa240>) but is being saved in TensorFlow format with `save_weights`. The model's weights will be saved, but unlike with TensorFlow optimizers in the TensorFlow format the optimizer's state will not be saved.\n",
            "\n",
            "Consider using a TensorFlow optimizer from `tf.train`.\n",
            "1000/1000 [==============================] - 0s 383us/step - loss: 0.0695 - acc: 0.9910 - val_loss: 0.4349 - val_acc: 0.8590\n",
            "Epoch 9/10\n",
            " 960/1000 [===========================>..] - ETA: 0s - loss: 0.0522 - acc: 0.9927\n",
            "Epoch 00009: saving model to training_1/cp.ckpt\n",
            "WARNING:tensorflow:This model was compiled with a Keras optimizer (<tensorflow.python.keras.optimizers.Adam object at 0x7f7f70faa240>) but is being saved in TensorFlow format with `save_weights`. The model's weights will be saved, but unlike with TensorFlow optimizers in the TensorFlow format the optimizer's state will not be saved.\n",
            "\n",
            "Consider using a TensorFlow optimizer from `tf.train`.\n",
            "1000/1000 [==============================] - 0s 380us/step - loss: 0.0526 - acc: 0.9930 - val_loss: 0.3894 - val_acc: 0.8740\n",
            "Epoch 10/10\n",
            " 992/1000 [============================>.] - ETA: 0s - loss: 0.0403 - acc: 0.9990\n",
            "Epoch 00010: saving model to training_1/cp.ckpt\n",
            "WARNING:tensorflow:This model was compiled with a Keras optimizer (<tensorflow.python.keras.optimizers.Adam object at 0x7f7f70faa240>) but is being saved in TensorFlow format with `save_weights`. The model's weights will be saved, but unlike with TensorFlow optimizers in the TensorFlow format the optimizer's state will not be saved.\n",
            "\n",
            "Consider using a TensorFlow optimizer from `tf.train`.\n",
            "1000/1000 [==============================] - 0s 367us/step - loss: 0.0402 - acc: 0.9990 - val_loss: 0.3963 - val_acc: 0.8750\n"
          ],
          "name": "stdout"
        },
        {
          "output_type": "execute_result",
          "data": {
            "text/plain": [
              "<tensorflow.python.keras.callbacks.History at 0x7f7f70faa470>"
            ]
          },
          "metadata": {
            "tags": []
          },
          "execution_count": 14
        }
      ]
    },
    {
      "metadata": {
        "id": "pCevNJj3b3Gg",
        "colab_type": "code",
        "colab": {
          "base_uri": "https://localhost:8080/",
          "height": 36
        },
        "outputId": "a1311237-fea6-4765-c189-a470e49b175d"
      },
      "cell_type": "code",
      "source": [
        "!ls {checkpoint_dir}"
      ],
      "execution_count": 15,
      "outputs": [
        {
          "output_type": "stream",
          "text": [
            "checkpoint  cp.ckpt.data-00000-of-00001  cp.ckpt.index\n"
          ],
          "name": "stdout"
        }
      ]
    },
    {
      "metadata": {
        "id": "DCIyaCulcXuM",
        "colab_type": "code",
        "colab": {
          "base_uri": "https://localhost:8080/",
          "height": 55
        },
        "outputId": "8a479a54-ba5b-4a1f-f747-056034dbaf74"
      },
      "cell_type": "code",
      "source": [
        "model=creat_model()\n",
        "\n",
        "loss,acc=model.evaluate(test_images,test_labels)\n",
        "print(\"Untrained model, accuracy:{:5.2f}%\".format(100*acc))"
      ],
      "execution_count": 16,
      "outputs": [
        {
          "output_type": "stream",
          "text": [
            "1000/1000 [==============================] - 0s 155us/step\n",
            "Untrained model, accuracy:12.20%\n"
          ],
          "name": "stdout"
        }
      ]
    },
    {
      "metadata": {
        "id": "mNmSMw-jdNMh",
        "colab_type": "code",
        "colab": {
          "base_uri": "https://localhost:8080/",
          "height": 999
        },
        "outputId": "22b0067a-6e11-4d94-8022-8a1d8621eb31"
      },
      "cell_type": "code",
      "source": [
        "checkpoint_path='training_2/cp-{epoch:04d}.ckpt'\n",
        "checkpoint_dir=os.path.dirname(checkpoint_path)\n",
        "\n",
        "cp_callback=tf.keras.callbacks.ModelCheckpoint(\n",
        "checkpoint_path,verbose=1,save_weights_only=True,\n",
        "period=5)\n",
        "\n",
        "model=creat_model()\n",
        "model.fit(train_images,train_labels,\n",
        "         epochs=50,callbacks=[cp_callback],\n",
        "         validation_data=(test_images,test_labels),\n",
        "         verbose=0)"
      ],
      "execution_count": 17,
      "outputs": [
        {
          "output_type": "stream",
          "text": [
            "\n",
            "Epoch 00005: saving model to training_2/cp-0005.ckpt\n",
            "WARNING:tensorflow:This model was compiled with a Keras optimizer (<tensorflow.python.keras.optimizers.Adam object at 0x7f7f7c450e80>) but is being saved in TensorFlow format with `save_weights`. The model's weights will be saved, but unlike with TensorFlow optimizers in the TensorFlow format the optimizer's state will not be saved.\n",
            "\n",
            "Consider using a TensorFlow optimizer from `tf.train`.\n",
            "\n",
            "Epoch 00010: saving model to training_2/cp-0010.ckpt\n",
            "WARNING:tensorflow:This model was compiled with a Keras optimizer (<tensorflow.python.keras.optimizers.Adam object at 0x7f7f7c450e80>) but is being saved in TensorFlow format with `save_weights`. The model's weights will be saved, but unlike with TensorFlow optimizers in the TensorFlow format the optimizer's state will not be saved.\n",
            "\n",
            "Consider using a TensorFlow optimizer from `tf.train`.\n",
            "\n",
            "Epoch 00015: saving model to training_2/cp-0015.ckpt\n",
            "WARNING:tensorflow:This model was compiled with a Keras optimizer (<tensorflow.python.keras.optimizers.Adam object at 0x7f7f7c450e80>) but is being saved in TensorFlow format with `save_weights`. The model's weights will be saved, but unlike with TensorFlow optimizers in the TensorFlow format the optimizer's state will not be saved.\n",
            "\n",
            "Consider using a TensorFlow optimizer from `tf.train`.\n",
            "\n",
            "Epoch 00020: saving model to training_2/cp-0020.ckpt\n",
            "WARNING:tensorflow:This model was compiled with a Keras optimizer (<tensorflow.python.keras.optimizers.Adam object at 0x7f7f7c450e80>) but is being saved in TensorFlow format with `save_weights`. The model's weights will be saved, but unlike with TensorFlow optimizers in the TensorFlow format the optimizer's state will not be saved.\n",
            "\n",
            "Consider using a TensorFlow optimizer from `tf.train`.\n",
            "\n",
            "Epoch 00025: saving model to training_2/cp-0025.ckpt\n",
            "WARNING:tensorflow:This model was compiled with a Keras optimizer (<tensorflow.python.keras.optimizers.Adam object at 0x7f7f7c450e80>) but is being saved in TensorFlow format with `save_weights`. The model's weights will be saved, but unlike with TensorFlow optimizers in the TensorFlow format the optimizer's state will not be saved.\n",
            "\n",
            "Consider using a TensorFlow optimizer from `tf.train`.\n",
            "\n",
            "Epoch 00030: saving model to training_2/cp-0030.ckpt\n",
            "WARNING:tensorflow:This model was compiled with a Keras optimizer (<tensorflow.python.keras.optimizers.Adam object at 0x7f7f7c450e80>) but is being saved in TensorFlow format with `save_weights`. The model's weights will be saved, but unlike with TensorFlow optimizers in the TensorFlow format the optimizer's state will not be saved.\n",
            "\n",
            "Consider using a TensorFlow optimizer from `tf.train`.\n",
            "\n",
            "Epoch 00035: saving model to training_2/cp-0035.ckpt\n",
            "WARNING:tensorflow:This model was compiled with a Keras optimizer (<tensorflow.python.keras.optimizers.Adam object at 0x7f7f7c450e80>) but is being saved in TensorFlow format with `save_weights`. The model's weights will be saved, but unlike with TensorFlow optimizers in the TensorFlow format the optimizer's state will not be saved.\n",
            "\n",
            "Consider using a TensorFlow optimizer from `tf.train`.\n",
            "\n",
            "Epoch 00040: saving model to training_2/cp-0040.ckpt\n",
            "WARNING:tensorflow:This model was compiled with a Keras optimizer (<tensorflow.python.keras.optimizers.Adam object at 0x7f7f7c450e80>) but is being saved in TensorFlow format with `save_weights`. The model's weights will be saved, but unlike with TensorFlow optimizers in the TensorFlow format the optimizer's state will not be saved.\n",
            "\n",
            "Consider using a TensorFlow optimizer from `tf.train`.\n",
            "\n",
            "Epoch 00045: saving model to training_2/cp-0045.ckpt\n",
            "WARNING:tensorflow:This model was compiled with a Keras optimizer (<tensorflow.python.keras.optimizers.Adam object at 0x7f7f7c450e80>) but is being saved in TensorFlow format with `save_weights`. The model's weights will be saved, but unlike with TensorFlow optimizers in the TensorFlow format the optimizer's state will not be saved.\n",
            "\n",
            "Consider using a TensorFlow optimizer from `tf.train`.\n",
            "\n",
            "Epoch 00050: saving model to training_2/cp-0050.ckpt\n",
            "WARNING:tensorflow:This model was compiled with a Keras optimizer (<tensorflow.python.keras.optimizers.Adam object at 0x7f7f7c450e80>) but is being saved in TensorFlow format with `save_weights`. The model's weights will be saved, but unlike with TensorFlow optimizers in the TensorFlow format the optimizer's state will not be saved.\n",
            "\n",
            "Consider using a TensorFlow optimizer from `tf.train`.\n"
          ],
          "name": "stdout"
        },
        {
          "output_type": "execute_result",
          "data": {
            "text/plain": [
              "<tensorflow.python.keras.callbacks.History at 0x7f7f70fa9a58>"
            ]
          },
          "metadata": {
            "tags": []
          },
          "execution_count": 17
        }
      ]
    },
    {
      "metadata": {
        "id": "tNgJP8JMeRgi",
        "colab_type": "code",
        "colab": {
          "base_uri": "https://localhost:8080/",
          "height": 225
        },
        "outputId": "920c2b9f-0817-4738-aefb-38454edb330a"
      },
      "cell_type": "code",
      "source": [
        "!ls {checkpoint_dir}"
      ],
      "execution_count": 18,
      "outputs": [
        {
          "output_type": "stream",
          "text": [
            "checkpoint\t\t\t  cp-0030.ckpt.data-00000-of-00001\n",
            "cp-0005.ckpt.data-00000-of-00001  cp-0030.ckpt.index\n",
            "cp-0005.ckpt.index\t\t  cp-0035.ckpt.data-00000-of-00001\n",
            "cp-0010.ckpt.data-00000-of-00001  cp-0035.ckpt.index\n",
            "cp-0010.ckpt.index\t\t  cp-0040.ckpt.data-00000-of-00001\n",
            "cp-0015.ckpt.data-00000-of-00001  cp-0040.ckpt.index\n",
            "cp-0015.ckpt.index\t\t  cp-0045.ckpt.data-00000-of-00001\n",
            "cp-0020.ckpt.data-00000-of-00001  cp-0045.ckpt.index\n",
            "cp-0020.ckpt.index\t\t  cp-0050.ckpt.data-00000-of-00001\n",
            "cp-0025.ckpt.data-00000-of-00001  cp-0050.ckpt.index\n",
            "cp-0025.ckpt.index\n"
          ],
          "name": "stdout"
        }
      ]
    },
    {
      "metadata": {
        "id": "jpkNqPtqe1LC",
        "colab_type": "code",
        "colab": {
          "base_uri": "https://localhost:8080/",
          "height": 36
        },
        "outputId": "2c1a2178-cfaf-469b-ef51-d2b2453ed230"
      },
      "cell_type": "code",
      "source": [
        "latest=tf.train.latest_checkpoint(checkpoint_dir)\n",
        "latest"
      ],
      "execution_count": 19,
      "outputs": [
        {
          "output_type": "execute_result",
          "data": {
            "text/plain": [
              "'training_2/cp-0050.ckpt'"
            ]
          },
          "metadata": {
            "tags": []
          },
          "execution_count": 19
        }
      ]
    },
    {
      "metadata": {
        "id": "xEeRd3bWfAAv",
        "colab_type": "code",
        "colab": {
          "base_uri": "https://localhost:8080/",
          "height": 55
        },
        "outputId": "00022813-d9b9-4827-f974-4a93b055a37c"
      },
      "cell_type": "code",
      "source": [
        "model=creat_model()\n",
        "model.load_weights(latest)\n",
        "loss,acc=model.evaluate(test_images,test_labels)\n",
        "print(\"Restored model,accuracy:{:5.2f}%\".format(100*acc))"
      ],
      "execution_count": 20,
      "outputs": [
        {
          "output_type": "stream",
          "text": [
            "1000/1000 [==============================] - 0s 153us/step\n",
            "Restored model,accuracy:87.40%\n"
          ],
          "name": "stdout"
        }
      ]
    },
    {
      "metadata": {
        "id": "1_9-jwm4fcGp",
        "colab_type": "code",
        "colab": {
          "base_uri": "https://localhost:8080/",
          "height": 94
        },
        "outputId": "31b0c4f6-1312-4963-d301-d29f1410e7b9"
      },
      "cell_type": "code",
      "source": [
        "model.save_weights('./checkpoints/my_checkpoint')"
      ],
      "execution_count": 21,
      "outputs": [
        {
          "output_type": "stream",
          "text": [
            "WARNING:tensorflow:This model was compiled with a Keras optimizer (<tensorflow.python.keras.optimizers.Adam object at 0x7f7f6ced94a8>) but is being saved in TensorFlow format with `save_weights`. The model's weights will be saved, but unlike with TensorFlow optimizers in the TensorFlow format the optimizer's state will not be saved.\n",
            "\n",
            "Consider using a TensorFlow optimizer from `tf.train`.\n"
          ],
          "name": "stdout"
        }
      ]
    },
    {
      "metadata": {
        "id": "d5rO7s-8hJJ2",
        "colab_type": "code",
        "colab": {
          "base_uri": "https://localhost:8080/",
          "height": 55
        },
        "outputId": "ad95cae0-e058-4406-8c00-960e459e62e8"
      },
      "cell_type": "code",
      "source": [
        "model=creat_model()\n",
        "model.load_weights('./checkpoints/my_checkpoint')\n",
        "\n",
        "loss,acc =model.evaluate(test_images,test_labels)\n",
        "print(\"Restored model, accuracy:{:5.2f}%\".format(100*acc))"
      ],
      "execution_count": 23,
      "outputs": [
        {
          "output_type": "stream",
          "text": [
            "1000/1000 [==============================] - 0s 164us/step\n",
            "Restored model, accuracy:87.40%\n"
          ],
          "name": "stdout"
        }
      ]
    },
    {
      "metadata": {
        "id": "ydnzCgSihm54",
        "colab_type": "code",
        "colab": {
          "base_uri": "https://localhost:8080/",
          "height": 206
        },
        "outputId": "8cd436f9-f677-4131-be48-9f616c910841"
      },
      "cell_type": "code",
      "source": [
        "model=creat_model()\n",
        "model.fit(train_images,train_labels,epochs=5)\n",
        "\n",
        "model.save('my_model.h5')"
      ],
      "execution_count": 24,
      "outputs": [
        {
          "output_type": "stream",
          "text": [
            "Epoch 1/5\n",
            "1000/1000 [==============================] - 1s 689us/step - loss: 1.1740 - acc: 0.6590\n",
            "Epoch 2/5\n",
            "1000/1000 [==============================] - 0s 263us/step - loss: 0.4157 - acc: 0.8920\n",
            "Epoch 3/5\n",
            "1000/1000 [==============================] - 0s 252us/step - loss: 0.2815 - acc: 0.9330\n",
            "Epoch 4/5\n",
            "1000/1000 [==============================] - 0s 257us/step - loss: 0.1969 - acc: 0.9540\n",
            "Epoch 5/5\n",
            "1000/1000 [==============================] - 0s 260us/step - loss: 0.1567 - acc: 0.9660\n"
          ],
          "name": "stdout"
        }
      ]
    },
    {
      "metadata": {
        "id": "ZeF7Cr3GizDW",
        "colab_type": "code",
        "colab": {
          "base_uri": "https://localhost:8080/",
          "height": 262
        },
        "outputId": "a987e50e-f406-4b72-e812-d0159a5c7294"
      },
      "cell_type": "code",
      "source": [
        "new_model=keras.models.load_model('my_model.h5')\n",
        "new_model.summary()"
      ],
      "execution_count": 25,
      "outputs": [
        {
          "output_type": "stream",
          "text": [
            "_________________________________________________________________\n",
            "Layer (type)                 Output Shape              Param #   \n",
            "=================================================================\n",
            "dense_14 (Dense)             (None, 512)               401920    \n",
            "_________________________________________________________________\n",
            "dropout_7 (Dropout)          (None, 512)               0         \n",
            "_________________________________________________________________\n",
            "dense_15 (Dense)             (None, 10)                5130      \n",
            "=================================================================\n",
            "Total params: 407,050\n",
            "Trainable params: 407,050\n",
            "Non-trainable params: 0\n",
            "_________________________________________________________________\n"
          ],
          "name": "stdout"
        }
      ]
    },
    {
      "metadata": {
        "id": "HaPI27Ggi_gh",
        "colab_type": "code",
        "colab": {
          "base_uri": "https://localhost:8080/",
          "height": 55
        },
        "outputId": "f3cdb7e3-d958-44b9-fbdb-d0cf35b566f0"
      },
      "cell_type": "code",
      "source": [
        "loss,acc=new_model.evaluate(test_images,test_labels)\n",
        "print(\"Restored model,accuracy:{:5.2f}%\".format(100*acc))"
      ],
      "execution_count": 26,
      "outputs": [
        {
          "output_type": "stream",
          "text": [
            "1000/1000 [==============================] - 0s 212us/step\n",
            "Restored model,accuracy:86.00%\n"
          ],
          "name": "stdout"
        }
      ]
    },
    {
      "metadata": {
        "id": "RbR_S_1NjVws",
        "colab_type": "code",
        "colab": {}
      },
      "cell_type": "code",
      "source": [
        ""
      ],
      "execution_count": 0,
      "outputs": []
    }
  ]
}