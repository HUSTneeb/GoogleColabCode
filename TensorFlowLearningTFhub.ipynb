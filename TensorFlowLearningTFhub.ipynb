{
  "nbformat": 4,
  "nbformat_minor": 0,
  "metadata": {
    "colab": {
      "name": "TensorFlowLearningTFhub.ipynb",
      "version": "0.3.2",
      "provenance": [],
      "include_colab_link": true
    },
    "kernelspec": {
      "name": "python3",
      "display_name": "Python 3"
    },
    "accelerator": "TPU"
  },
  "cells": [
    {
      "cell_type": "markdown",
      "metadata": {
        "id": "view-in-github",
        "colab_type": "text"
      },
      "source": [
        "[View in Colaboratory](https://colab.research.google.com/github/HUSTneeb/GoogleColabCode/blob/master/TensorFlowLearningTFhub.ipynb)"
      ]
    },
    {
      "metadata": {
        "id": "7Dmm38oyIKZW",
        "colab_type": "code",
        "colab": {}
      },
      "cell_type": "code",
      "source": [
        "!pip install --quiet \"tensorflow>=1.7\"\n",
        "!pip install -q tensorflow-hub\n",
        "!pip install -q seaborn"
      ],
      "execution_count": 0,
      "outputs": []
    },
    {
      "metadata": {
        "id": "0c9I1C91KpDz",
        "colab_type": "code",
        "colab": {}
      },
      "cell_type": "code",
      "source": [
        "import tensorflow as tf\n",
        "import tensorflow_hub as hub\n",
        "import matplotlib.pyplot as plt\n",
        "import numpy as np\n",
        "import os\n",
        "import pandas as pd\n",
        "import re\n",
        "import seaborn as sns\n"
      ],
      "execution_count": 0,
      "outputs": []
    },
    {
      "metadata": {
        "id": "n6GrkTlOLb0s",
        "colab_type": "code",
        "colab": {
          "base_uri": "https://localhost:8080/",
          "height": 206
        },
        "outputId": "64a725df-5fcc-458a-8420-5ac7a72a8a96"
      },
      "cell_type": "code",
      "source": [
        "def load_directory_data(directory):\n",
        "  data={}\n",
        "  data['sentence']=[]\n",
        "  data['sentiment']=[]\n",
        "  for file_path in os.listdir(directory):\n",
        "    with tf.gfile.GFile(os.path.join(directory,file_path),'r') as f:\n",
        "      data['sentence'].append(f.read())\n",
        "      data['sentiment'].append(re.match(\"\\d+_(\\d+)\\.txt\",file_path).group(1))\n",
        "  return pd.DataFrame.from_dict(data)\n",
        "\n",
        "def load_dataset(directory):\n",
        "  pos_df=load_directory_data(os.path.join(directory,'pos'))\n",
        "  neg_df=load_directory_data(os.path.join(directory,'neg'))\n",
        "  pos_df['polarity']=1\n",
        "  neg_df['polarity']=0\n",
        "  return pd.concat([pos_df,neg_df]).sample(frac=1).reset_index(drop=True)\n",
        "\n",
        "def download_and_load_datasets(force_download=False):\n",
        "  dataset=tf.keras.utils.get_file(\n",
        "  fname='aclImdb.tar.gz',\n",
        "  origin='http://ai.stanford.edu/~amaas/data/sentiment/aclImdb_v1.tar.gz',\n",
        "  extract=True)\n",
        "  \n",
        "  train_df=load_dataset(os.path.join(os.path.dirname(dataset),\n",
        "                                    'aclImdb','train'))\n",
        "  test_df=load_dataset(os.path.join(os.path.dirname(dataset),\n",
        "                                   'aclImdb','test'))\n",
        "  return train_df,test_df\n",
        "\n",
        "tf.logging.set_verbosity(tf.logging.ERROR)\n",
        "\n",
        "train_df,test_df=download_and_load_datasets()\n",
        "train_df.head()"
      ],
      "execution_count": 5,
      "outputs": [
        {
          "output_type": "execute_result",
          "data": {
            "text/html": [
              "<div>\n",
              "<style scoped>\n",
              "    .dataframe tbody tr th:only-of-type {\n",
              "        vertical-align: middle;\n",
              "    }\n",
              "\n",
              "    .dataframe tbody tr th {\n",
              "        vertical-align: top;\n",
              "    }\n",
              "\n",
              "    .dataframe thead th {\n",
              "        text-align: right;\n",
              "    }\n",
              "</style>\n",
              "<table border=\"1\" class=\"dataframe\">\n",
              "  <thead>\n",
              "    <tr style=\"text-align: right;\">\n",
              "      <th></th>\n",
              "      <th>sentence</th>\n",
              "      <th>sentiment</th>\n",
              "      <th>polarity</th>\n",
              "    </tr>\n",
              "  </thead>\n",
              "  <tbody>\n",
              "    <tr>\n",
              "      <th>0</th>\n",
              "      <td>Despite the gravity of the subject and probabl...</td>\n",
              "      <td>2</td>\n",
              "      <td>0</td>\n",
              "    </tr>\n",
              "    <tr>\n",
              "      <th>1</th>\n",
              "      <td>As the number of Video Nasties I've yet to see...</td>\n",
              "      <td>2</td>\n",
              "      <td>0</td>\n",
              "    </tr>\n",
              "    <tr>\n",
              "      <th>2</th>\n",
              "      <td>This is a really interesting movie. It is an a...</td>\n",
              "      <td>7</td>\n",
              "      <td>1</td>\n",
              "    </tr>\n",
              "    <tr>\n",
              "      <th>3</th>\n",
              "      <td>I began watching this movie with low expectati...</td>\n",
              "      <td>4</td>\n",
              "      <td>0</td>\n",
              "    </tr>\n",
              "    <tr>\n",
              "      <th>4</th>\n",
              "      <td>Of course the average \"Sci-Fi\" Battle Star Gal...</td>\n",
              "      <td>10</td>\n",
              "      <td>1</td>\n",
              "    </tr>\n",
              "  </tbody>\n",
              "</table>\n",
              "</div>"
            ],
            "text/plain": [
              "                                            sentence sentiment  polarity\n",
              "0  Despite the gravity of the subject and probabl...         2         0\n",
              "1  As the number of Video Nasties I've yet to see...         2         0\n",
              "2  This is a really interesting movie. It is an a...         7         1\n",
              "3  I began watching this movie with low expectati...         4         0\n",
              "4  Of course the average \"Sci-Fi\" Battle Star Gal...        10         1"
            ]
          },
          "metadata": {
            "tags": []
          },
          "execution_count": 5
        }
      ]
    },
    {
      "metadata": {
        "id": "sTKYRcv3Pl44",
        "colab_type": "code",
        "colab": {}
      },
      "cell_type": "code",
      "source": [
        "train_input_fn=tf.estimator.inputs.pandas_input_fn(\n",
        "  train_df,train_df['polarity'],num_epochs=None,shuffle=True)\n",
        "\n",
        "predict_train_input_fn=tf.estimator.inputs.pandas_input_fn(\n",
        "  train_df,train_df['polarity'],shuffle=False)\n",
        "predict_test_input_fn=tf.estimator.inputs.pandas_input_fn(\n",
        "  test_df,test_df['polarity'],shuffle=False)"
      ],
      "execution_count": 0,
      "outputs": []
    },
    {
      "metadata": {
        "id": "cWGZEnWtRUkx",
        "colab_type": "code",
        "colab": {
          "base_uri": "https://localhost:8080/",
          "height": 36
        },
        "outputId": "d401d472-b50f-43e3-b0be-9339d34e1ffa"
      },
      "cell_type": "code",
      "source": [
        "embedded_text_feature_column=hub.text_embedding_column(\n",
        "  key='sentence',\n",
        "  module_spec=\"http://tfhub.dev/google/nnlm-en-dim128/1\")\n",
        "\n",
        "estimator=tf.estimator.DNNClassifier(\n",
        "  hidden_units=[500,100],\n",
        "  feature_columns=[embedded_text_feature_column],n_classes=2,optimizer=tf.train.AdagradOptimizer(learning_rate=0.003))\n",
        "estimator.train(input_fn=train_input_fn,steps=1000)"
      ],
      "execution_count": 7,
      "outputs": [
        {
          "output_type": "execute_result",
          "data": {
            "text/plain": [
              "<tensorflow.python.estimator.canned.dnn.DNNClassifier at 0x7fd2962bcc88>"
            ]
          },
          "metadata": {
            "tags": []
          },
          "execution_count": 7
        }
      ]
    },
    {
      "metadata": {
        "id": "7Lro7irmWb0Q",
        "colab_type": "code",
        "colab": {}
      },
      "cell_type": "code",
      "source": [
        "train_eval_result=estimator.evaluate(input_fn=predict_train_input_fn)\n",
        "test_eval_result=estimator.evaluate(input_fn=predict_test_input_fn)\n",
        "\n"
      ],
      "execution_count": 0,
      "outputs": []
    },
    {
      "metadata": {
        "id": "UelXDW-xZYxI",
        "colab_type": "code",
        "colab": {
          "base_uri": "https://localhost:8080/",
          "height": 75
        },
        "outputId": "79957741-ab00-4764-b74d-f832fb704f6d"
      },
      "cell_type": "code",
      "source": [
        "print(format(train_eval_result))\n",
        "print(test_eval_result)"
      ],
      "execution_count": 17,
      "outputs": [
        {
          "output_type": "stream",
          "text": [
            "{'accuracy': 0.79848, 'accuracy_baseline': 0.5, 'auc': 0.88277423, 'auc_precision_recall': 0.88273084, 'average_loss': 0.43353328, 'label/mean': 0.5, 'loss': 55.29761, 'precision': 0.8224162, 'prediction/mean': 0.47211263, 'recall': 0.76136, 'global_step': 1000}\n",
            "{'accuracy': 0.79056, 'accuracy_baseline': 0.5, 'auc': 0.87565553, 'auc_precision_recall': 0.87766707, 'average_loss': 0.44514048, 'label/mean': 0.5, 'loss': 56.778122, 'precision': 0.81809425, 'prediction/mean': 0.46913597, 'recall': 0.74728, 'global_step': 1000}\n"
          ],
          "name": "stdout"
        }
      ]
    },
    {
      "metadata": {
        "id": "lAqt23ZRZzOO",
        "colab_type": "code",
        "colab": {
          "base_uri": "https://localhost:8080/",
          "height": 380
        },
        "outputId": "9a38a3e7-f7af-47d7-9a61-421e05adfd2f"
      },
      "cell_type": "code",
      "source": [
        "def get_predictions(estimator,input_fn):\n",
        "  return[x['class_ids'][0] for x in estimator.predict(input_fn=input_fn)]\n",
        "\n",
        "LABELS=['negative','positive']\n",
        "\n",
        "with tf.Graph().as_default():\n",
        "  cm=tf.confusion_matrix(train_df['polarity'],\n",
        "                        get_predictions(estimator,predict_train_input_fn))\n",
        "  with tf.Session() as session:\n",
        "    cm_out=session.run(cm)\n",
        "    \n",
        "cm_out=cm_out.astype(float)/cm_out.sum(axis=1)[:,np.newaxis]\n",
        "sns.heatmap(cm_out,annot=True,xticklabels=LABELS,yticklabels=LABELS)\n",
        "plt.xlabel(\"Predicted\")\n",
        "plt.ylabel(\"True\")"
      ],
      "execution_count": 19,
      "outputs": [
        {
          "output_type": "execute_result",
          "data": {
            "text/plain": [
              "Text(51,0.5,'True')"
            ]
          },
          "metadata": {
            "tags": []
          },
          "execution_count": 19
        },
        {
          "output_type": "display_data",
          "data": {
            "image/png": "[encoded data removed]",
            "text/plain": [
              "<matplotlib.figure.Figure at 0x7fd29187b828>"
            ]
          },
          "metadata": {
            "tags": []
          }
        }
      ]
    },
    {
      "metadata": {
        "id": "sv-FpYNJcQWo",
        "colab_type": "code",
        "colab": {}
      },
      "cell_type": "code",
      "source": [
        "def train_and_evaluate_with_module(hub_module,train_module=False):\n",
        "  embedded_text_feature_column=hub.text_embedding_column(\n",
        "    key='sentence',module_spec=hub_module,trainable=train_module)\n",
        "  \n",
        "  estimator=tf.estimator.DNNClassifier(\n",
        "    hidden_units=[500,100],\n",
        "    feature_columns=[embedded_text_feature_column],\n",
        "    n_classes=2,\n",
        "    optimizer=tf.train.AdagradOptimizer(learning_rate=0.003))\n",
        "  \n",
        "  estimator.train(input_fn=train_input_fn,steps=1000)\n",
        "  \n",
        "  train_eval_result=estimator.evaluate(input_fn=predict_train_input_fn)\n",
        "  test_eval_result=estimator.evaluate(input_fn=predict_test_input_fn)\n",
        "  \n",
        "  training_set_accuracy=train_eval_result['accuracy']\n",
        "  test_set_accuracy=test_eval_result['accuracy']\n",
        "  \n",
        "  return {\n",
        "      'Training accuracy':training_set_accuracy,\n",
        "      'Test accuracy':test_set_accuracy\n",
        "  }\n",
        "\n"
      ],
      "execution_count": 0,
      "outputs": []
    },
    {
      "metadata": {
        "id": "PZQnPDSWj1Gc",
        "colab_type": "code",
        "colab": {}
      },
      "cell_type": "code",
      "source": [
        "results={}\n",
        "results[\"nnlm-en-dim128\"]=train_and_evaluate_with_module(\n",
        "  \"https://tfhub.dev/google/nnlm-en-dim128/1\")\n",
        "results[\"nnlm-en-dim128-with-module-training\"]=train_and_evaluate_with_module(\n",
        "  \"https://tfhub.dev/google/nnlm-en-dim128/1\",True)\n",
        "results[\"random-nnlm-en-dim128\"]=train_and_evaluate_with_module(\n",
        "  \"https://tfhub.dev/google/random-nnlm-en-dim128/1\")\n",
        "results[\"random-nnlm-en-dim128-with-module-training\"]=train_and_evaluate_with_module(\n",
        "  \"https://tfhub.dev/google/random-nnlm-en-dim128/1\",True)"
      ],
      "execution_count": 0,
      "outputs": []
    },
    {
      "metadata": {
        "id": "BQ2BZsQmlmg6",
        "colab_type": "code",
        "colab": {
          "base_uri": "https://localhost:8080/",
          "height": 175
        },
        "outputId": "ecfc4319-a683-4bcf-9898-4674f40ed9a8"
      },
      "cell_type": "code",
      "source": [
        "pd.DataFrame.from_dict(results,orient='index')"
      ],
      "execution_count": 26,
      "outputs": [
        {
          "output_type": "execute_result",
          "data": {
            "text/html": [
              "<div>\n",
              "<style scoped>\n",
              "    .dataframe tbody tr th:only-of-type {\n",
              "        vertical-align: middle;\n",
              "    }\n",
              "\n",
              "    .dataframe tbody tr th {\n",
              "        vertical-align: top;\n",
              "    }\n",
              "\n",
              "    .dataframe thead th {\n",
              "        text-align: right;\n",
              "    }\n",
              "</style>\n",
              "<table border=\"1\" class=\"dataframe\">\n",
              "  <thead>\n",
              "    <tr style=\"text-align: right;\">\n",
              "      <th></th>\n",
              "      <th>Training accuracy</th>\n",
              "      <th>Test accuracy</th>\n",
              "    </tr>\n",
              "  </thead>\n",
              "  <tbody>\n",
              "    <tr>\n",
              "      <th>nnlm-en-dim128</th>\n",
              "      <td>0.80236</td>\n",
              "      <td>0.79448</td>\n",
              "    </tr>\n",
              "    <tr>\n",
              "      <th>nnlm-en-dim128-with-module-training</th>\n",
              "      <td>0.95056</td>\n",
              "      <td>0.87124</td>\n",
              "    </tr>\n",
              "    <tr>\n",
              "      <th>random-nnlm-en-dim128</th>\n",
              "      <td>0.71760</td>\n",
              "      <td>0.67300</td>\n",
              "    </tr>\n",
              "    <tr>\n",
              "      <th>random-nnlm-en-dim128-with-module-training</th>\n",
              "      <td>0.75720</td>\n",
              "      <td>0.71380</td>\n",
              "    </tr>\n",
              "  </tbody>\n",
              "</table>\n",
              "</div>"
            ],
            "text/plain": [
              "                                            Training accuracy  Test accuracy\n",
              "nnlm-en-dim128                                        0.80236        0.79448\n",
              "nnlm-en-dim128-with-module-training                   0.95056        0.87124\n",
              "random-nnlm-en-dim128                                 0.71760        0.67300\n",
              "random-nnlm-en-dim128-with-module-training            0.75720        0.71380"
            ]
          },
          "metadata": {
            "tags": []
          },
          "execution_count": 26
        }
      ]
    },
    {
      "metadata": {
        "id": "wXmdGFCIo_Es",
        "colab_type": "code",
        "colab": {
          "base_uri": "https://localhost:8080/",
          "height": 36
        },
        "outputId": "8bb055fc-deb3-4460-c774-7f4266a713f0"
      },
      "cell_type": "code",
      "source": [
        "estimator.evaluate(input_fn=predict_test_input_fn)['accuracy_baseline']"
      ],
      "execution_count": 27,
      "outputs": [
        {
          "output_type": "execute_result",
          "data": {
            "text/plain": [
              "0.5"
            ]
          },
          "metadata": {
            "tags": []
          },
          "execution_count": 27
        }
      ]
    },
    {
      "metadata": {
        "id": "Q_KUAkhipaaQ",
        "colab_type": "code",
        "colab": {}
      },
      "cell_type": "code",
      "source": [
        ""
      ],
      "execution_count": 0,
      "outputs": []
    }
  ]
}